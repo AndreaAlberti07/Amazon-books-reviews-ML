{
 "cells": [
  {
   "cell_type": "markdown",
   "metadata": {},
   "source": [
    "## Testing hypothesis 3\n",
    "---\n",
    "\n",
    "**_Hypothesis_**: Reviews with higher book rating have higher helpfulness ratings.\n",
    "\n",
    "   - **Metric**: Correlation between book ratings and helpfulness ratings.\n",
    "\n",
    "   - **Model**: Linear Regression\n",
    "\n",
    "   - **Description**:\n",
    "\n",
    "     - Use the book rating as the predictor variable and the helpfulness rating as the target variable.\n",
    "     - Train a linear regression model to predict helpfulness ratings based on book ratings.\n",
    "\n",
    "**Missing Values**:\n",
    "\n",
    "  - `review/score`: remove the entire sample\n",
    "  - `review/helpfulness`: remove the entire sample\n",
    "\n",
    "**Data Transformation**:\n",
    "  - `review/score`: groupBy book title and calculate the average score.\n",
    "  - `review/helpfulness`: $helpfulness = \\frac{x}{y} \\sqrt(y)$\n",
    "\n",
    "---"
   ]
  },
  {
   "cell_type": "code",
   "execution_count": 1,
   "metadata": {},
   "outputs": [],
   "source": [
    "# Connect to MongoDB\n",
    "\n",
    "import pymongo\n",
    "\n",
    "client = pymongo.MongoClient('mongodb://localhost:27017/')\n",
    "database = client['spark_db']\n",
    "books = database['books_hypothesis_3']"
   ]
  },
  {
   "cell_type": "code",
   "execution_count": 8,
   "metadata": {},
   "outputs": [
    {
     "name": "stdout",
     "output_type": "stream",
     "text": [
      "The shape of the data is (200687, 2)\n"
     ]
    }
   ],
   "source": [
    "import pandas as pd\n",
    "import numpy as np\n",
    "import math\n",
    "\n",
    "# Remove the samples which have no score or helpfulness data\n",
    "pipeline_remove = {'$match':{\n",
    "                        'review/score':{'$exists':True},\n",
    "                        'review/helpfulness':{'$exists':True} \n",
    "                        }\n",
    "    \n",
    "                }\n",
    "\n",
    "# Retain only the required fields\n",
    "pipeline_project = {'$project':{\n",
    "                            'review/score':1,\n",
    "                            'review/helpfulness':1,\n",
    "                            '_id':0\n",
    "                                }\n",
    "                }   \n",
    "\n",
    "books_data = books.aggregate([pipeline_remove,pipeline_project])\n",
    "df_data = pd.DataFrame(list(books_data))\n",
    "# Check the shape of the data\n",
    "print(f\"The shape of the data is {df_data.shape}\")\n",
    "\n",
    "df_data['review/helpfulness']\n",
    "# df_data.plot(kind='scatter', x='review/score', y='review/helpfulness')\n",
    "df_data['review/helpfulness'] = df_data['review/helpfulness'].apply(lambda x: (x[0]+x[1])))\n"
   ]
  }
 ],
 "metadata": {
  "kernelspec": {
   "display_name": "base",
   "language": "python",
   "name": "python3"
  },
  "language_info": {
   "codemirror_mode": {
    "name": "ipython",
    "version": 3
   },
   "file_extension": ".py",
   "mimetype": "text/x-python",
   "name": "python",
   "nbconvert_exporter": "python",
   "pygments_lexer": "ipython3",
   "version": "3.9.13"
  },
  "orig_nbformat": 4
 },
 "nbformat": 4,
 "nbformat_minor": 2
}
