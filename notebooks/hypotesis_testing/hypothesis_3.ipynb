{
 "cells": [
  {
   "cell_type": "markdown",
   "metadata": {},
   "source": [
    "## Testing hypothesis 3\n",
    "---\n",
    "\n",
    "**_Hypothesis_**: Reviews with higher book rating have higher helpfulness ratings.\n",
    "\n",
    "   - **Metric**: Correlation between helpfulness_score book ratings.\n",
    "\n",
    "**Missing Values**:\n",
    "\n",
    "  - `review/score`: remove the entire sample\n",
    "  - `review/helpfulness`: remove the entire sample\n",
    "\n",
    "**Data Transformation**:\n",
    "  - `review/score`: groupBy book rating and calculate the average score.\n",
    "  - `review/helpfulness`: $helpfulness = \\frac{x}{y} \\sqrt(y)$\n",
    "\n",
    "---"
   ]
  },
  {
   "cell_type": "code",
   "execution_count": null,
   "metadata": {},
   "outputs": [],
   "source": [
    "# Connect to MongoDB\n",
    "\n",
    "import pymongo\n",
    "\n",
    "client = pymongo.MongoClient('mongodb://localhost:27017/')\n",
    "database = client['spark_db']\n",
    "books = database['books_rating']"
   ]
  },
  {
   "cell_type": "code",
   "execution_count": null,
   "metadata": {},
   "outputs": [],
   "source": [
    "import pandas as pd\n",
    "import numpy as np\n",
    "import matplotlib.pyplot as plt\n",
    "from scipy_analyze import *\n",
    "import seaborn as sns\n",
    "\n",
    "# Remove the samples which have no score or helpfulness data\n",
    "pipeline_remove = {'$match':{\n",
    "                        'review/score':{'$exists':True},\n",
    "                        'N_helpful'\t:{'$exists':True, '$ne':0},\n",
    "                        'Tot_votes'\t:{'$exists':True, '$ne':0}\n",
    "                        }\n",
    "    \n",
    "                }\n",
    "\n",
    "# Retain only the required fields\n",
    "pipeline_project = {'$project':{\n",
    "                            'review/score':1,\n",
    "                            'review/helpfulness_rate':{'$multiply':[\n",
    "                                                                {'$divide':['$N_helpful','$Tot_votes']},\n",
    "                                                                {'$sqrt':'$Tot_votes'}\n",
    "                                                                ]\n",
    "                                                       },\n",
    "                            '_id':0,\n",
    "                            'Tot_votes':1,\n",
    "                            'N_helpful':1\n",
    "                                }\n",
    "                }   \n",
    "\n",
    "books_data = books.aggregate([pipeline_remove,pipeline_project])\n",
    "\n",
    "# Convert into Pandas DataFrame\n",
    "df_data = pd.DataFrame(list(books_data))\n",
    "df_data_1 = df_data[df_data['Tot_votes'] == 1]\n",
    "df_data_1_count = df_data_1.count()[0]\n",
    "\n",
    "# Check the shape of the data\n",
    "print(f\"The shape of the data is {df_data.shape}\")\n",
    "print(f\"The number of samples with only one vote is {df_data_1_count} corresponding to {round(df_data_1_count/df_data.shape[0]*100,2)}% of the total samples.\")"
   ]
  },
  {
   "cell_type": "code",
   "execution_count": null,
   "metadata": {},
   "outputs": [],
   "source": [
    "# Compute the distribution of number of votes across rhe review/score\n",
    "plt.figure()\n",
    "df_data.groupby('review/score')['Tot_votes'].count().plot(kind='bar', title='Number of Votes for review/score')\n",
    "plt.tight_layout()\n",
    "# Compute the distribution of the sample with only one vote on the ratings\n",
    "plt.figure()\n",
    "df_data_1.groupby('review/score')['Tot_votes'].count().plot(kind='bar', title='Distribution of Ratings for Samples with only one vote', figsize=(10,5))\n",
    "\n",
    "# Plot all the data\n",
    "df_data=df_data[df_data['review/helpfulness_rate'] < 100]\n",
    "plt.figure(figsize=(10,5))\n",
    "sns.boxplot(x='review/score', y='review/helpfulness_rate', data=df_data, palette='rainbow')\n",
    "plt.title('Helpfulness Rate vs Score')\n",
    "#df_data.plot(kind='scatter', x='review/score', y='review/helpfulness_rate', title='Helpfulness vs Score', figsize=(10,5))\n",
    "\n",
    "# Compute the average helpfulness rate for each score\n",
    "plt.figure()\n",
    "df_grouped_tmp = df_data.groupby('review/score')['review/helpfulness_rate'].mean()\n",
    "df_grouped_tmp.plot(kind='bar', title='Average Helpfulness Rate for each Score', figsize=(10,5))"
   ]
  },
  {
   "cell_type": "markdown",
   "metadata": {},
   "source": [
    "### Compute statistics\n",
    "\n",
    "The statistics are used to numerically asses the results of the hypothesis test."
   ]
  },
  {
   "cell_type": "code",
   "execution_count": null,
   "metadata": {},
   "outputs": [],
   "source": [
    "scipy_analize(df_data['review/score'], 'review/score', df_data['review/helpfulness_rate'], 'review/helpfulness_rate', [1,2,3,4])"
   ]
  },
  {
   "cell_type": "markdown",
   "metadata": {},
   "source": [
    "---\n",
    "\n",
    "## Further Analysis on a subset of the data\n",
    "\n",
    "From the previous analysis the following emerged:\n",
    "- **Positive Bias**: people are more prone to vote a positive review, indeed there is a correlation between the number of votes and the book rating. Specifically, the number of positive reviews getting a single vote is very high and this might lead to a bias in the helpfulness score, since it is computed by this formula: \n",
    "\n",
    "$helpfulness = \\frac{x}{y} \\sqrt(y)$   where $x$ is the number of positive votes and $y$ is the total number of votes.\n",
    "\n",
    "\n",
    "To face this problem, we decided to filter the data and consider only the reviews with a number of votes greater than 20."
   ]
  },
  {
   "cell_type": "markdown",
   "metadata": {},
   "source": [
    "### - Filtered on number of votes"
   ]
  },
  {
   "cell_type": "code",
   "execution_count": null,
   "metadata": {},
   "outputs": [],
   "source": [
    "# Remove sample below 100 helpfulness votes\n",
    "min_votes = 20\n",
    "filter = df_data['Tot_votes'] > min_votes\n",
    "df_data_filtered = df_data[filter]\n",
    "\n",
    "# Check the shape of the data\n",
    "print(f\"The shape of the data is {df_data_filtered.shape}\")\n",
    "\n",
    "# Plot the results\n",
    "df_data_filtered=df_data_filtered[df_data_filtered['review/helpfulness_rate'] < 100]\n",
    "plt.figure()\n",
    "sns.boxplot(x='review/score', y='review/helpfulness_rate', data=df_data_filtered, palette='rainbow', showfliers=False)\n",
    "plt.title('Helpfulness Rate vs Score')\n",
    "plt.tight_layout()\n",
    "\n",
    "#df_data_filtered.plot(kind='scatter', x='review/score', y='review/helpfulness_rate', title='Helpfulness vs Score', figsize=(10,5))\n",
    "\n",
    "# Compute the average helpfulness rate for each score\n",
    "plt.figure()\n",
    "df_data_filtered.groupby('review/score')['review/helpfulness_rate'].mean().plot(kind='bar', title='Average Helpfulness Rate for each Score')\n",
    "plt.tight_layout()"
   ]
  },
  {
   "cell_type": "code",
   "execution_count": null,
   "metadata": {},
   "outputs": [],
   "source": [
    "scipy_analize(df_data_filtered['review/score'], 'review/score', df_data_filtered['review/helpfulness_rate'], 'review/helpfulness_rate', [1,2,3,4])\n",
    "\n",
    "df_grouped_tmp = df_data_filtered.groupby('review/score')['review/helpfulness_rate'].mean()\n",
    "df_grouped = pd.DataFrame(df_grouped_tmp).reset_index()"
   ]
  },
  {
   "cell_type": "markdown",
   "metadata": {},
   "source": [
    "### Results\n",
    "A positive correlation is present between the book rating and the helpfulness score. \n",
    "- `Correlation value`: 0.520716814460294 with `p-value` < 0.05 --> The correlation is significant.\n",
    "- `Chi-Square test`: 1.6948341620343008e-185 with `p-value` < 0.05 --> Variables are not independent.\n",
    "\n",
    "\n",
    "To be more precise, it is important to investigate whether the higher value of the helpfulness score is due to the higher number of votes or to the higher number of positive votes."
   ]
  },
  {
   "cell_type": "code",
   "execution_count": null,
   "metadata": {},
   "outputs": [],
   "source": [
    "# Compute the average Tot_votes rate for each score\n",
    "plt.figure()\n",
    "df_data_filtered.groupby('review/score')['Tot_votes'].mean().plot(kind='bar', title='Average Total Votes Rate for each Score', figsize=(10,5))\n",
    "\n",
    "# Compute the average N_helpful rate for each score\n",
    "plt.figure()\n",
    "df_data_filtered.groupby('review/score')['N_helpful'].mean().plot(kind='bar', title='Average N_helpful Rate for each Score', figsize=(10,5))"
   ]
  },
  {
   "cell_type": "markdown",
   "metadata": {},
   "source": [
    "## **Conclusions**\n",
    "#### There is a positive correlation between the helpfulness score and the book rating. Indeed, higher book ratings have higher helpfulness scores and this is due to the higher number of positive votes. This suggests that the people are more prone to evaluate as helpful a positive review."
   ]
  }
 ],
 "metadata": {
  "kernelspec": {
   "display_name": "base",
   "language": "python",
   "name": "python3"
  },
  "language_info": {
   "codemirror_mode": {
    "name": "ipython",
    "version": 3
   },
   "file_extension": ".py",
   "mimetype": "text/x-python",
   "name": "python",
   "nbconvert_exporter": "python",
   "pygments_lexer": "ipython3",
   "version": "3.9.13"
  },
  "orig_nbformat": 4
 },
 "nbformat": 4,
 "nbformat_minor": 2
}
