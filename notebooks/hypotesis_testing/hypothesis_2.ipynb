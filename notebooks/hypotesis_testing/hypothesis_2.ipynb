{
 "cells": [
  {
   "cell_type": "markdown",
   "metadata": {},
   "source": [
    "## Testing hypothesis 2\n",
    "---\n",
    "\n",
    "**_Hypothesis_**: Reviews with more positive sentiment words receive higher helpfulness ratings.\n",
    "\n",
    "- **Metric**: Mean helpfulness ratings for number of positive and negative words.\n",
    "\n",
    "- **Model**: Multinomial Naive Bayes.\n",
    "\n",
    "- **Description**:\n",
    "\n",
    "  - Use NBC as a classifier to predict the sentiment of a review.\n",
    "  - Extract the most useful words from the classifier.\n",
    "  - Compute the mean helpfulness ratings for the most useful words.  \n",
    "\n",
    "**Missing Values**:\n",
    "\n",
    "  - `review/score`: remove the entire sample\n",
    "  - `review/text`: remove the entire sample\n",
    "  - `review/helpfulness`: remove the entire sample\n",
    "\n",
    "**Data Transformation**:\n",
    "\n",
    "  - `review/score`: Assign 1 to score (4, 5), 0 to score (1, 2). \n",
    "  - `review/text`: Create the BoW for the text. Fit a MNBC and count the number of positive and negative words. Graphical Plot.\n",
    "  - `review/helpfulness`: $helpfulness = \\frac{x}{y} \\sqrt(y)$\n",
    "\n",
    "---"
   ]
  },
  {
   "cell_type": "code",
   "execution_count": 1,
   "metadata": {},
   "outputs": [],
   "source": [
    "# Connect to MongoDB\n",
    "\n",
    "import pymongo\n",
    "\n",
    "client = pymongo.MongoClient('mongodb://localhost:27017/')\n",
    "database = client['spark_db']\n",
    "books = database['book_reviews']"
   ]
  },
  {
   "cell_type": "code",
   "execution_count": 29,
   "metadata": {},
   "outputs": [
    {
     "name": "stdout",
     "output_type": "stream",
     "text": [
      "Number of samples retained:  183540\n"
     ]
    }
   ],
   "source": [
    "import pandas as pd\n",
    "import numpy as np\n",
    "import matplotlib.pyplot as plt\n",
    "# Remove the samples if the fields reported above have missing values. Remove also the samples with score equal to 3, since it indicates a neutral review.\n",
    "pipeline_remove = {'$match':\n",
    "                            {\n",
    "                            'review/text':{'$exists':True},\n",
    "                            'review/score':{'$exists':True, '$ne':3},\n",
    "                            'Tot_votes'\t:{'$exists':True, '$ne':0}\n",
    "                            }\n",
    "                }\n",
    "\n",
    "# Create a new field called class. If the score is greater than 3, the class is 1, otherwise is 0.\n",
    "pipeline_class = {'$project':{\n",
    "                        '_id':0,\n",
    "                        'review/text':1,\n",
    "                        'review/helpfulness_rate': {'$multiply': [\n",
    "                            {'$divide': ['$N_helpful', '$Tot_votes']},\n",
    "                            {'$sqrt': '$Tot_votes'}\n",
    "                        ]\n",
    "                        },\n",
    "                        'class':{\n",
    "                            '$cond':{\n",
    "                                'if':{'$in':['$review/score', [4,5]]},\n",
    "                                'then':1,\n",
    "                                'else':0\n",
    "                            }\n",
    "                        }\n",
    "                    }\n",
    "                }\n",
    "\n",
    "books_removed = books.aggregate([pipeline_remove, pipeline_class])\n",
    "df = pd.DataFrame(list(books_removed))"
   ]
  },
  {
   "cell_type": "code",
   "execution_count": 28,
   "metadata": {},
   "outputs": [
    {
     "data": {
      "text/plain": [
       "0"
      ]
     },
     "execution_count": 28,
     "metadata": {},
     "output_type": "execute_result"
    }
   ],
   "source": [
    "# # Remove punctuation and convert to lowercase the review/text column\n",
    "df['review/text'] = df['review/text'].replace('[^\\w\\s]', ' ', regex=True)\n",
    "df['review/text'] = df['review/text'].str.lower()\n",
    "df.head()\n",
    "\n",
    "# # Remove stopwords from the review/text column\n",
    "import nltk\n",
    "from nltk.corpus import stopwords\n",
    "nltk.download('stopwords')\n",
    "stop = stopwords.words('english')\n",
    "df['review/text'] = df['review/text'].apply(lambda x: ' '.join([word for word in x.split() if word not in (stop)]))\n",
    "df.head()\n",
    "\n",
    "# # Remove words with length less than 2 from the review/text column\n",
    "df['review/text'] = df['review/text'].apply(lambda x: ' '.join([word for word in x.split() if len(word) > 2]))\n",
    "df.head()"
   ]
  },
  {
   "cell_type": "code",
   "execution_count": null,
   "metadata": {},
   "outputs": [],
   "source": [
    "# # Plot the histogram of the helpful_score\n",
    "plt.figure(figsize=(10, 6))\n",
    "plt.hist(df['review/helpfulness_rate'], bins=100)\n",
    "plt.xlabel('review/helpfulness_rate')\n",
    "plt.ylabel('Count')\n",
    "plt.show()"
   ]
  },
  {
   "cell_type": "code",
   "execution_count": null,
   "metadata": {},
   "outputs": [],
   "source": [
    "from sklearn.feature_extraction.text import CountVectorizer\n",
    "from sklearn.model_selection import train_test_split\n",
    "from sklearn.naive_bayes import MultinomialNB\n",
    "\n",
    "# dictionary of 2000 words\n",
    "# # Build a bag of words\n",
    "vectorizer = CountVectorizer(max_features=2000)\n",
    "X = vectorizer.fit_transform(df['review/text'])\n",
    "y = df['class']\n",
    "\n",
    "# # Train a Naive Bayes classifier\n",
    "X_train, X_test, y_train, y_test = train_test_split(X, y, test_size=0.2, random_state=42)\n",
    "nb = MultinomialNB()\n",
    "nb.fit(X_train, y_train)"
   ]
  },
  {
   "cell_type": "code",
   "execution_count": null,
   "metadata": {},
   "outputs": [],
   "source": [
    "# # Print the most 20 positive words\n",
    "feature_names = vectorizer.get_feature_names_out()\n",
    "pos_neg_ratio = nb.feature_log_prob_[1, :] - nb.feature_log_prob_[0, :]\n",
    "pos_neg_ratio_sorted = np.argsort(pos_neg_ratio)\n",
    "print(\"Most 20 positive words:\")\n",
    "for i in pos_neg_ratio_sorted[-20:]:\n",
    "    print(feature_names[i], pos_neg_ratio[i])\n",
    "\n",
    "# # Print the most 20 negative words\n",
    "print(\"Most 20 negative words:\")\n",
    "for i in pos_neg_ratio_sorted[:20]:\n",
    "    print(feature_names[i], pos_neg_ratio[i])"
   ]
  },
  {
   "cell_type": "code",
   "execution_count": null,
   "metadata": {},
   "outputs": [],
   "source": [
    "import scipy\n",
    "import seaborn as sns\n",
    "import scipy.stats as stats\n",
    "\n",
    "for N in {20}:\n",
    "    # # Create a new column with the number of positive words in the review/text column\n",
    "    print(f\"Plot with {N} most positive words:\")\n",
    "    df['positive_words'] = df['review/text'].apply(lambda x: len([word for word in x.split() if word in feature_names[pos_neg_ratio_sorted[-N:]]]))\n",
    "    df.head()\n",
    "\n",
    "    corr, pval = stats.kendalltau(df['positive_words'], df['review/helpfulness_rate'])\n",
    "    print(f'Correlation Coefficient: {corr}\\nP-value: {pval}\\n')\n",
    "\n",
    "    # # Plot the helpful_score vs the number of positive words in the review/text column\n",
    "    plt.figure(figsize=(10, 6))\n",
    "    plt.scatter(df['positive_words'], df['review/helpfulness_rate'], alpha=0.2)\n",
    "    plt.xlabel('Number of positive words')\n",
    "    plt.ylabel('Helpful score')\n",
    "    plt.show()\n",
    "\n",
    "    # Create 5 bins of positive_words\n",
    "    groups = [0, 5, 10, 20, 100]\n",
    "    df['length_bin'] = pd.cut(df['positive_words'], bins=groups, labels=[group for group in groups[1:]])\n",
    "\n",
    "    # Plot the distribution of positive_words with respect to helpfulness rate\n",
    "    plt.figure(figsize=(15, 10))\n",
    "    sns.boxplot(x='length_bin', y='review/helpfulness_rate', data=df, palette='rainbow')\n",
    "    plt.title('Review Length Range vs Helpfulness Rate')\n",
    "\n",
    "    for el in groups[1:]:\n",
    "        dataframe = df[df['length_bin'] == el]\n",
    "        corr, pval = scipy.stats.kendalltau(dataframe['positive_words'], dataframe['review/helpfulness_rate'])\n",
    "        print(f'Group number: {el}\\nCorrelation Coefficient: {corr}\\nP-value: {pval}\\n')\n",
    "        plt.figure(figsize=(15, 10))\n",
    "        dataframe.plot(kind='scatter', x='positive_words', y='review/helpfulness_rate', figsize=(15, 10), title=f'Review Length vs Helpfulness Rate in Group {el}')\n",
    "        plt.show()\n",
    "\n"
   ]
  },
  {
   "cell_type": "code",
   "execution_count": null,
   "metadata": {},
   "outputs": [],
   "source": [
    "client.close()"
   ]
  }
 ],
 "metadata": {
  "kernelspec": {
   "display_name": "base",
   "language": "python",
   "name": "python3"
  },
  "language_info": {
   "codemirror_mode": {
    "name": "ipython",
    "version": 3
   },
   "file_extension": ".py",
   "mimetype": "text/x-python",
   "name": "python",
   "nbconvert_exporter": "python",
   "pygments_lexer": "ipython3",
   "version": "3.9.13"
  },
  "orig_nbformat": 4
 },
 "nbformat": 4,
 "nbformat_minor": 2
}
