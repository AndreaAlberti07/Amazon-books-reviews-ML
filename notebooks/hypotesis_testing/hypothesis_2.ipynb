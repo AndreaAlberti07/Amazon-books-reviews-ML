{
 "cells": [
  {
   "cell_type": "markdown",
   "metadata": {},
   "source": [
    "## Testing hypothesis 2\n",
    "---\n",
    "\n",
    "**_Hypothesis_**: Reviews with more positive sentiment words receive higher helpfulness ratings.\n",
    "\n",
    "- **Metric**: Mean helpfulness ratings for number of positive and negative words.\n",
    "\n",
    "- **Model**: Multinomial Naive Bayes.\n",
    "\n",
    "- **Description**:\n",
    "\n",
    "  - Use NBC as a classifier to predict the sentiment of a review.\n",
    "  - Extract the most useful words from the classifier.\n",
    "  - Compute the mean helpfulness ratings for the most useful words.  \n",
    "\n",
    "**Missing Values**:\n",
    "\n",
    "  - `review/score`: remove the entire sample\n",
    "  - `review/text`: remove the entire sample\n",
    "  - `review/helpfulness`: remove the entire sample\n",
    "\n",
    "**Data Transformation**:\n",
    "\n",
    "  - `review/score`: Assign 1 to score (4, 5), 0 to score (1, 2). \n",
    "  - `review/text`: Create the BoW for the text. Fit a MNBC and count the number of positive and negative words. Graphical Plot.\n",
    "  - `review/helpfulness`: $helpfulness = \\frac{x}{y} \\sqrt(y)$\n",
    "\n",
    "---"
   ]
  },
  {
   "cell_type": "code",
   "execution_count": null,
   "metadata": {},
   "outputs": [],
   "source": [
    "import nltk\n",
    "import pymongo\n",
    "import pandas as pd\n",
    "import numpy as np\n",
    "import matplotlib.pyplot as plt\n",
    "import scipy\n",
    "import seaborn as sns\n",
    "import scipy.stats as stats\n",
    "\n",
    "from scipy_analyze import *\n",
    "from nltk.corpus import stopwords\n",
    "from sklearn.feature_extraction.text import CountVectorizer\n",
    "from sklearn.model_selection import train_test_split\n",
    "from sklearn.naive_bayes import MultinomialNB\n",
    "\n",
    "nltk.download('stopwords')"
   ]
  },
  {
   "cell_type": "code",
   "execution_count": null,
   "metadata": {
    "ExecuteTime": {
     "end_time": "2023-09-19T11:36:53.899062Z",
     "start_time": "2023-09-19T11:36:53.799042700Z"
    }
   },
   "outputs": [],
   "source": [
    "# Connect to MongoDB\n",
    "\n",
    "\n",
    "client = pymongo.MongoClient('mongodb://localhost:27017/')\n",
    "database = client['spark_db']\n",
    "books = database['book_reviews']"
   ]
  },
  {
   "cell_type": "code",
   "execution_count": null,
   "metadata": {
    "ExecuteTime": {
     "end_time": "2023-09-19T11:36:54.844038400Z",
     "start_time": "2023-09-19T11:36:53.800048600Z"
    }
   },
   "outputs": [],
   "source": [
    "# Remove the samples if the fields reported above have missing values. Remove also the samples with score equal to 3, since it indicates a neutral review.\n",
    "pipeline_remove = {'$match':\n",
    "                   {\n",
    "                       'review/text': {'$exists': True},\n",
    "                       'review/score': {'$exists': True, '$ne': 3},\n",
    "                       'Tot_votes': {'$exists': True, '$ne': 0}\n",
    "                   }\n",
    "                   }\n",
    "\n",
    "# Create a new field called class. If the score is greater than 3, the class is 1, otherwise is 0.\n",
    "pipeline_class = {'$project': {\n",
    "    '_id': 0,\n",
    "    'review/text': 1,\n",
    "    'review/helpfulness_rate': {'$multiply': [\n",
    "        {'$divide': ['$N_helpful', '$Tot_votes']},\n",
    "        {'$sqrt': '$Tot_votes'}\n",
    "    ]\n",
    "    },\n",
    "    'class': {\n",
    "        '$cond': {\n",
    "            'if': {'$in': ['$review/score', [4, 5]]},\n",
    "            'then': 1,\n",
    "            'else': 0\n",
    "        }\n",
    "    }\n",
    "}\n",
    "}\n",
    "\n",
    "books_removed = books.aggregate([pipeline_remove, pipeline_class])\n",
    "df = pd.DataFrame(list(books_removed))"
   ]
  },
  {
   "cell_type": "code",
   "execution_count": null,
   "metadata": {
    "ExecuteTime": {
     "end_time": "2023-09-19T11:37:23.849406500Z",
     "start_time": "2023-09-19T11:36:54.878036Z"
    }
   },
   "outputs": [],
   "source": [
    "# # Remove punctuation and convert to lowercase the review/text column\n",
    "df['review/text'] = df['review/text'].replace('[^\\w\\s]', ' ', regex=True)\n",
    "df['review/text'] = df['review/text'].str.lower()\n",
    "df.head()\n",
    "\n",
    "# # Remove stopwords from the review/text column\n",
    "stop = stopwords.words('english')\n",
    "df['review/text'] = df['review/text'].apply(lambda x: ' '.join(\n",
    "    [word for word in x.split() if word not in (stop)]))\n",
    "df.head()\n",
    "\n",
    "# # Remove words with length less than 2 from the review/text column\n",
    "df['review/text'] = df['review/text'].apply(\n",
    "    lambda x: ' '.join([word for word in x.split() if len(word) > 2]))\n",
    "df.head()"
   ]
  },
  {
   "cell_type": "code",
   "execution_count": null,
   "metadata": {
    "ExecuteTime": {
     "end_time": "2023-09-19T11:37:24.066947100Z",
     "start_time": "2023-09-19T11:37:23.818408900Z"
    }
   },
   "outputs": [],
   "source": [
    "# # Plot the histogram of the helpful_score\n",
    "plt.figure(figsize=(10, 6))\n",
    "plt.hist(df['review/helpfulness_rate'], bins=100)\n",
    "plt.xlabel('review/helpfulness_rate')\n",
    "plt.ylabel('Count')\n",
    "plt.show()"
   ]
  },
  {
   "cell_type": "code",
   "execution_count": null,
   "metadata": {
    "ExecuteTime": {
     "end_time": "2023-09-19T11:37:36.673164400Z",
     "start_time": "2023-09-19T11:37:24.062947400Z"
    }
   },
   "outputs": [],
   "source": [
    "# dictionary of 2000 words\n",
    "# # Build a bag of words\n",
    "vectorizer = CountVectorizer(max_features=2000)\n",
    "X = vectorizer.fit_transform(df['review/text'])\n",
    "y = df['class']\n",
    "\n",
    "# # Train a Naive Bayes classifier\n",
    "X_train, X_test, y_train, y_test = train_test_split(\n",
    "    X, y, test_size=0.2, random_state=42)\n",
    "\n",
    "nb = MultinomialNB()\n",
    "nb.fit(X_train, y_train)"
   ]
  },
  {
   "cell_type": "code",
   "execution_count": null,
   "metadata": {
    "ExecuteTime": {
     "end_time": "2023-09-19T11:37:36.674168800Z",
     "start_time": "2023-09-19T11:37:36.670170Z"
    }
   },
   "outputs": [],
   "source": [
    "feature_names = vectorizer.get_feature_names_out()\n",
    "pos_neg_ratio = nb.feature_log_prob_[1, :] - nb.feature_log_prob_[0, :]\n",
    "pos_neg_ratio_sorted = np.argsort(pos_neg_ratio)\n",
    "\n",
    "words = pd.DataFrame({'Word': feature_names, 'Pos_neg_ratio': pos_neg_ratio})\n",
    "words = words.sort_values(by='Pos_neg_ratio', ascending=False)\n",
    "plot_words = pd.concat([words.head(10), words.tail(10)])\n",
    "# Print the most 20 impactful words\n",
    "plot_words.plot.bar(x='Word', y='Pos_neg_ratio', rot=45, figsize=(\n",
    "    10, 6), grid=True, title='Most 20 impactful words', legend=False)\n"
   ]
  },
  {
   "cell_type": "code",
   "execution_count": null,
   "metadata": {},
   "outputs": [],
   "source": [
    "# # Create a new column with the number of positive words in the review/text column\n",
    "print(f\"Plot with 20 most positive words:\")\n",
    "df['positive_words'] = df['review/text'].apply(lambda x: len([word for word in x.split() if word in feature_names[pos_neg_ratio_sorted[-800:]]]))\n",
    "df.head()\n",
    "\n",
    "# # Plot the helpful_score vs the number of positive words in the review/text column\n",
    "plt.figure(figsize=(10, 6))\n",
    "plt.scatter(df['positive_words'], df['review/helpfulness_rate'], alpha=0.2)\n",
    "plt.xlabel('Number of positive words')\n",
    "plt.ylabel('Helpful score')\n",
    "plt.show()"
   ]
  },
  {
   "cell_type": "code",
   "execution_count": null,
   "metadata": {},
   "outputs": [],
   "source": [
    "scipy_analize(df['positive_words'],'positive_words', df['review/helpfulness_rate'], 'review/helpfulness_rate', [1,2,3,4])\n"
   ]
  },
  {
   "cell_type": "code",
   "execution_count": null,
   "metadata": {},
   "outputs": [],
   "source": [
    "# Create different bins of positive_words\n",
    "groups = [0, 10, 20, 50, 75, 100, 125, 150, 175, 200]\n",
    "df['length_bin'] = pd.cut(df['positive_words'], bins=groups, labels=[\n",
    "                          group for group in groups[1:]])\n",
    "\n",
    "# Plot the distribution of positive_words with respect to helpfulness rate\n",
    "plt.figure(figsize=(15, 10))\n",
    "sns.boxplot(x='length_bin', y='review/helpfulness_rate',\n",
    "            data=df, palette='rainbow',showfliers=False)\n",
    "plt.title('Review Length Range vs Helpfulness Rate')\n",
    "plt.xlabel('Number of positive words')\n",
    "plt.ylabel('Helpfulness Rate')\n",
    "for el in groups[1:]:\n",
    "    dataframe = df[df['length_bin'] == el]\n",
    "    corr, pval = scipy.stats.kendalltau(\n",
    "        dataframe['positive_words'], dataframe['review/helpfulness_rate'])\n",
    "    print(\n",
    "        f'Group number: {el}\\nCorrelation Coefficient: {corr}\\nP-value: {pval}\\n')\n",
    "    plt.figure(figsize=(15, 10))\n",
    "    dataframe.plot(kind='scatter', x='positive_words', y='review/helpfulness_rate',\n",
    "                   figsize=(15, 10), title=f'Review Length vs Helpfulness Rate in Group {el}')\n",
    "    plt.show()"
   ]
  },
  {
   "cell_type": "code",
   "execution_count": null,
   "metadata": {
    "ExecuteTime": {
     "end_time": "2023-09-19T11:38:56.641774900Z",
     "start_time": "2023-09-19T11:36:53.758043700Z"
    }
   },
   "outputs": [],
   "source": [
    "client.close()"
   ]
  }
 ],
 "metadata": {
  "kernelspec": {
   "display_name": "base",
   "language": "python",
   "name": "python3"
  },
  "language_info": {
   "codemirror_mode": {
    "name": "ipython",
    "version": 3
   },
   "file_extension": ".py",
   "mimetype": "text/x-python",
   "name": "python",
   "nbconvert_exporter": "python",
   "pygments_lexer": "ipython3",
   "version": "3.11.4"
  },
  "orig_nbformat": 4
 },
 "nbformat": 4,
 "nbformat_minor": 2
}
