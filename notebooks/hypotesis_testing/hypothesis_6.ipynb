{
 "cells": [
  {
   "cell_type": "markdown",
   "metadata": {},
   "source": [
    "## Testing hypothesis 6\n",
    "\n",
    "---\n",
    "\n",
    "**_Hypothesis_**: The larger the number of books published for a category, the higher the review score. (marketing strategy, the publishers tend to publish books of the most liked category). The larger the number of books published by publishers, the higher the review score (books published by the most famous publishers are preferred)\n",
    "\n",
    "   - **Metric**: correlation coefficients, Kolmogorov-Smirnov, Chi-Square, Wilcoxon (for future normalization)\n",
    "\n",
    "**Missing Values**:\n",
    "\n",
    "  - `publisher`: remove the entire sample\n",
    "  - `review/score`: remove the entire sample\n",
    "  - `categories`: remove the entire sample\n",
    "\n",
    "**Data Transformation**:\n",
    "\n",
    "  - `categories`: GroupBy categories.\n",
    "  - `publisher`: GroupBy publisher.\n",
    "  - `review/score`: Compute the average review/score for each publisher and category.\n",
    "\n",
    "---"
   ]
  },
  {
   "cell_type": "code",
   "execution_count": null,
   "metadata": {},
   "outputs": [],
   "source": [
    "# Connect to MongoDB\n",
    "\n",
    "import pymongo\n",
    "\n",
    "client = pymongo.MongoClient('mongodb://localhost:27017/')\n",
    "database = client['spark_db']\n",
    "books = database['books_joined']"
   ]
  },
  {
   "cell_type": "code",
   "execution_count": null,
   "metadata": {},
   "outputs": [],
   "source": [
    "import pandas as pd\n",
    "import numpy as np\n",
    "import matplotlib.pyplot as plt"
   ]
  },
  {
   "cell_type": "markdown",
   "metadata": {},
   "source": [
    "### Analysis of `categories`"
   ]
  },
  {
   "cell_type": "code",
   "execution_count": null,
   "metadata": {},
   "outputs": [],
   "source": [
    "# Deal with missing values\n",
    "pipeline_missing = {'$match': {\n",
    "    'review/score': {'$exists': True, '$ne': 0.0},\n",
    "    'publisher': {'$exists': True, '$ne': None},\n",
    "    'categories': {'$exists': True},\n",
    "}\n",
    "}\n",
    "\n",
    "# Compute average rating and number of reviews for each category\n",
    "pipeline_average_rating = {'$group': {\n",
    "    '_id': '$categories',\n",
    "    'avg_score': {'$avg': '$review/score'},\n",
    "    'count': {'$sum': 1},\n",
    "    'titles': {'$addToSet': '$Title'}\n",
    "}\n",
    "}\n",
    "\n",
    "# Compute number of different titles for each category\n",
    "pipeline_project = {'$project': {\n",
    "    '_id': 0,\n",
    "    'category': '$_id',\n",
    "    'avg_score': 1,\n",
    "    'count': 1,\n",
    "    'num_titles': {'$size': '$titles'}\n",
    "}\n",
    "}\n",
    "\n",
    "# Remove categories with less than 100 reviews\n",
    "pipeline_remove = {'$match': {\n",
    "    'count': {'$gt': 1}\n",
    "}\n",
    "}\n",
    "\n",
    "results_2 = books.aggregate(\n",
    "    [pipeline_missing, pipeline_average_rating, pipeline_project, pipeline_remove])\n",
    "\n",
    "df_results_2_category = pd.DataFrame(list(results_2))\n",
    "df_results_2_category['avg_score_weighted'] = df_results_2_category.avg_score * \\\n",
    "    np.sqrt(df_results_2_category.num_titles)\n",
    "    \n",
    "df_results_2_category=df_results_2_category[df_results_2_category['num_titles']>50]"
   ]
  },
  {
   "cell_type": "code",
   "execution_count": null,
   "metadata": {},
   "outputs": [],
   "source": [
    "df_results_2_category.sort_values(by='num_titles', ascending = False).head()    "
   ]
  },
  {
   "cell_type": "code",
   "execution_count": null,
   "metadata": {},
   "outputs": [],
   "source": [
    "# Analyze the top 20 categories with the highest average rating\n",
    "df_results_2_category.sort_values(\n",
    "    by='avg_score_weighted', ascending=False, inplace=True)\n",
    "df_results_2_category.head(20).plot(x='category', y='avg_score_weighted', kind='bar', figsize=(\n",
    "    15, 5), xlabel='category', title='Average rating for each category * sqrt(num different titles)', legend=False)\n",
    "\n",
    "# Analyze the top 20 categories with the highest number of reviews\n",
    "df_results_2_category.sort_values(by='count', ascending=False, inplace=True)\n",
    "df_results_2_category.head(20).plot(x='category', y='count', kind='bar', figsize=(\n",
    "    15, 5), xlabel='category', title='Number of reviews for each category', legend=False)"
   ]
  },
  {
   "cell_type": "markdown",
   "metadata": {},
   "source": [
    "### Analysis of `publishers`"
   ]
  },
  {
   "cell_type": "code",
   "execution_count": null,
   "metadata": {},
   "outputs": [],
   "source": [
    "# Deal with missing values\n",
    "pipeline_missing = {'$match': {\n",
    "    'review/score': {'$exists': True, '$ne': 0.0},\n",
    "    'publisher': {'$exists': True, '$ne': None},\n",
    "    'categories': {'$exists': True},\n",
    "}\n",
    "}\n",
    "\n",
    "# Compute average rating for each publisher\n",
    "pipeline_average_rating = {'$group': {\n",
    "    '_id': '$publisher',\n",
    "    'avg_score': {'$avg': '$review/score'},\n",
    "    'count': {'$sum': 1},\n",
    "    'titles': {'$addToSet': '$Title'}\n",
    "}\n",
    "}\n",
    "\n",
    "# Compute number of different titles for each publisher\n",
    "pipeline_project = {'$project': {\n",
    "    '_id': 0,\n",
    "    'publisher': '$_id',\n",
    "    'avg_score': 1,\n",
    "    'count': 1,\n",
    "    'num_titles': {'$size': '$titles'}\n",
    "}\n",
    "}\n",
    "\n",
    "# Remove publisher with less than 100 reviews\n",
    "pipeline_remove = {'$match': {\n",
    "    'count': {'$gt': 1}\n",
    "}\n",
    "}\n",
    "\n",
    "results_2 = books.aggregate(\n",
    "    [pipeline_missing, pipeline_average_rating, pipeline_project, pipeline_remove])\n",
    "\n",
    "df_results_2_publisher = pd.DataFrame(list(results_2))\n",
    "df_results_2_publisher['avg_score_weighted'] = df_results_2_publisher.avg_score * np.sqrt(df_results_2_publisher.num_titles)\n",
    "df_results_2_publisher=df_results_2_publisher[df_results_2_publisher['num_titles']>20]"
   ]
  },
  {
   "cell_type": "code",
   "execution_count": null,
   "metadata": {},
   "outputs": [],
   "source": [
    "df_results_2_publisher.head()"
   ]
  },
  {
   "cell_type": "code",
   "execution_count": null,
   "metadata": {},
   "outputs": [],
   "source": [
    "# Analyze the top 20 publishers with the highest average rating\n",
    "df_results_2_publisher.sort_values(\n",
    "    by='avg_score_weighted', ascending=False, inplace=True)\n",
    "df_results_2_publisher.head(20).plot(x='publisher', y='avg_score_weighted', kind='bar', figsize=(\n",
    "    15, 5), xlabel='publisher', title='Average rating for each publisher * sqrt(num different titles)', legend=False)\n",
    "\n",
    "# Analyze the top 20 publishers with the highest number of reviews\n",
    "df_results_2_publisher.sort_values(by='count', ascending=False, inplace=True)\n",
    "df_results_2_publisher.head(20).plot(x='publisher', y='count', kind='bar', figsize=(\n",
    "    15, 5), xlabel='publisher', title='Number of reviews for each publisher', legend=False)"
   ]
  },
  {
   "cell_type": "markdown",
   "metadata": {},
   "source": [
    "## **Correlation** between `avg_rating` and number of `different titles` published"
   ]
  },
  {
   "cell_type": "code",
   "execution_count": null,
   "metadata": {},
   "outputs": [],
   "source": [
    "# avg_score for category respect to number of different titles\n",
    "\n",
    "# Get rid of outliers\n",
    "df_results_2_category_filtered = df_results_2_category[df_results_2_category.num_titles < 2000]\n",
    "df_results_2_category_filtered.plot(x='num_titles', y='avg_score', kind='scatter', figsize=(\n",
    "    15, 5), xlabel='num_titles', title='Average rating for each category respect to number of different titles', legend=False)"
   ]
  },
  {
   "cell_type": "code",
   "execution_count": null,
   "metadata": {},
   "outputs": [],
   "source": [
    "from scipy_analyze import *\n",
    "scipy_analize(df_results_2_category['num_titles'], 'num_titles', df_results_2_category['avg_score'], 'avg_score', [1,2,3,4,5])"
   ]
  },
  {
   "cell_type": "code",
   "execution_count": null,
   "metadata": {},
   "outputs": [],
   "source": [
    "# avg_score for publisher respect to number of different titles\n",
    "# Get rid of outliers\n",
    "df_results_2_publisher_filtered = df_results_2_publisher[df_results_2_publisher.num_titles < 1100]\n",
    "df_results_2_publisher_filtered.plot(x='num_titles', y='avg_score', kind='scatter', figsize=(\n",
    "    15, 5), xlabel='num_titles', title='Average rating for each publisher respect to number of different titles', legend=False)"
   ]
  },
  {
   "cell_type": "code",
   "execution_count": null,
   "metadata": {},
   "outputs": [],
   "source": [
    "from scipy_analyze import *\n",
    "scipy_analize(df_results_2_publisher['num_titles'], 'num_titles', df_results_2_publisher['avg_score'], 'avg_score', [1,2,3,4,5])"
   ]
  },
  {
   "cell_type": "markdown",
   "metadata": {},
   "source": [
    "## **Conclusions**\n",
    "#### There is no correlation between the number of books published and the average review score, neither for categories nor for publishers."
   ]
  },
  {
   "cell_type": "markdown",
   "metadata": {},
   "source": [
    "---\n",
    "\n",
    "## Further analysis: which are the best publishers?\n",
    "\n",
    "#### Best = capable of getting very high ratings on their books, in a large number of categories."
   ]
  },
  {
   "cell_type": "code",
   "execution_count": null,
   "metadata": {},
   "outputs": [],
   "source": [
    "# Deal with missing values\n",
    "pipeline_missing = {'$match': {\n",
    "    'review/score': {'$exists': True, '$ne': 0},\n",
    "    'publisher': {'$exists': True, '$ne': None},\n",
    "    'categories': {'$exists': True},\n",
    "}\n",
    "}\n",
    "\n",
    "# Compute average rating for each tuple category, publisher\n",
    "pipeline_average_rating = {'$group': {\n",
    "    '_id': {\n",
    "        'category': '$categories',\n",
    "        'publisher': '$publisher',\n",
    "    },\n",
    "    'avg_score': {'$avg': '$review/score'},\n",
    "    'count': {'$sum': 1}\n",
    "}\n",
    "}\n",
    "\n",
    "# Show average rating for category for each publisher\n",
    "pipeline_publisher = {'$group': {\n",
    "    '_id': '$_id.publisher',\n",
    "    'avg_score/category': {\n",
    "        '$push': {\n",
    "            'category': '$_id.category',\n",
    "            'avg_score': '$avg_score',\n",
    "            'count': '$count'\n",
    "        }\n",
    "    }\n",
    "}\n",
    "}\n",
    "\n",
    "# Unwind the list of categories\n",
    "pipeline_unwind = {'$unwind': '$avg_score/category'}\n",
    "\n",
    "# Remove categories or publisher with less than 'threshold' reviews\n",
    "threshold = 0\n",
    "pipeline_remove = {'$match': {\n",
    "    'avg_score/category.count': {'$gte': threshold}\n",
    "}\n",
    "}\n",
    "\n",
    "# Count the number of categories with average rating > 4.5\n",
    "pipeline_counts = {'$project': {\n",
    "    'publisher': '$_id',\n",
    "    '_id': 0,\n",
    "    'category': '$avg_score/category.category',\n",
    "    'count': {\n",
    "        '$sum': {\n",
    "            '$cond': {\n",
    "\n",
    "                'if': {'$gt': ['$avg_score/category.avg_score', 4.5]},\n",
    "                'then': 1,\n",
    "                'else': 0\n",
    "            }\n",
    "        }\n",
    "    }\n",
    "}\n",
    "}\n",
    "\n",
    "# Sum the results for each publisher. If Total > 10, then the hypothesis is False\n",
    "pipeline_sum = {'$group': {\n",
    "    '_id': '$publisher',\n",
    "    'total': {'$sum': '$count'}\n",
    "}\n",
    "}\n",
    "\n",
    "pipeline_sort = {'$sort': {\n",
    "    'total': -1\n",
    "}\n",
    "}\n",
    "\n",
    "results = books.aggregate([pipeline_missing, pipeline_average_rating, pipeline_publisher,\n",
    "                          pipeline_unwind, pipeline_remove, pipeline_counts, pipeline_sum, pipeline_sort])\n",
    "\n",
    "df_results = pd.DataFrame(list(results))"
   ]
  },
  {
   "cell_type": "code",
   "execution_count": null,
   "metadata": {},
   "outputs": [],
   "source": [
    "df_results.head()"
   ]
  },
  {
   "cell_type": "code",
   "execution_count": null,
   "metadata": {},
   "outputs": [],
   "source": [
    "df_results.head(20).plot(x='_id', y='total', kind='bar', figsize=(15, 5), xlabel='publisher',\n",
    "                         title='Number of categories with average rating > 4.5 for each publisher', legend=False)"
   ]
  },
  {
   "cell_type": "markdown",
   "metadata": {},
   "source": [
    "---\n",
    "\n",
    "## Further analysis: In which category there are more best publishers?\n",
    "\n",
    "#### Best = capable of getting very high ratings on their books."
   ]
  },
  {
   "cell_type": "code",
   "execution_count": null,
   "metadata": {},
   "outputs": [],
   "source": [
    "# Deal with missing values\n",
    "pipeline_missing = {'$match': {\n",
    "    'review/score': {'$exists': True, '$ne': 0},\n",
    "    'publisher': {'$exists': True, '$ne': None},\n",
    "    'categories': {'$exists': True},\n",
    "}\n",
    "}\n",
    "\n",
    "# Compute average rating for each tuple category, publisher\n",
    "pipeline_average_rating = {'$group': {\n",
    "    '_id': {\n",
    "        'category': '$categories',\n",
    "        'publisher': '$publisher',\n",
    "    },\n",
    "    'avg_score': {'$avg': '$review/score'},\n",
    "    'count': {'$sum': 1}\n",
    "}\n",
    "}\n",
    "\n",
    "# Show average rating for category for each publisher\n",
    "pipeline_publisher = {'$group': {\n",
    "    '_id': '$_id.category',\n",
    "    'avg_score/publisher': {\n",
    "        '$push': {\n",
    "            'publisher': '$_id.publisher',\n",
    "            'avg_score': '$avg_score',\n",
    "            'count': '$count'\n",
    "        }\n",
    "    }\n",
    "}\n",
    "}\n",
    "\n",
    "# Unwind the list of categories\n",
    "pipeline_unwind = {'$unwind': '$avg_score/publisher'}\n",
    "\n",
    "# Remove categories or publisher with less than 'threshold' reviews\n",
    "threshold = 0\n",
    "pipeline_remove = {'$match': {\n",
    "    'avg_score/publisher.count': {'$gte': threshold}\n",
    "}\n",
    "}\n",
    "\n",
    "# Count the number of categories with average rating > 4.5\n",
    "pipeline_counts = {'$project': {\n",
    "    'category': '$_id',\n",
    "    '_id': 0,\n",
    "    'publisher': '$avg_score/publisher.publisher',\n",
    "    'count': {\n",
    "        '$sum': {\n",
    "            '$cond': {\n",
    "\n",
    "                'if': {'$gt': ['$avg_score/publisher.avg_score', 4.5]},\n",
    "                'then': 1,\n",
    "                'else': 0\n",
    "            }\n",
    "        }\n",
    "    }\n",
    "}\n",
    "}\n",
    "\n",
    "# Sum the results for each publisher. If Total > 10, then the hypothesis is False\n",
    "pipeline_sum = {'$group': {\n",
    "    '_id': '$category',\n",
    "    'total': {'$sum': '$count'}\n",
    "}\n",
    "}\n",
    "\n",
    "pipeline_sort = {'$sort': {\n",
    "    'total': -1\n",
    "}\n",
    "}\n",
    "\n",
    "results = books.aggregate([pipeline_missing, pipeline_average_rating, pipeline_publisher,\n",
    "                          pipeline_unwind, pipeline_remove, pipeline_counts, pipeline_sum, pipeline_sort])\n",
    "\n",
    "df_results = pd.DataFrame(list(results))"
   ]
  },
  {
   "cell_type": "code",
   "execution_count": null,
   "metadata": {},
   "outputs": [],
   "source": [
    "df_results.head()"
   ]
  },
  {
   "cell_type": "code",
   "execution_count": null,
   "metadata": {},
   "outputs": [],
   "source": [
    "df_results.head(20).plot(x='_id', y='total', kind='bar', figsize=(15, 5), xlabel='category',\n",
    "                         title='Number of publishers with average rating > 4.5 for each category', legend=False)"
   ]
  }
 ],
 "metadata": {
  "kernelspec": {
   "display_name": "base",
   "language": "python",
   "name": "python3"
  },
  "language_info": {
   "codemirror_mode": {
    "name": "ipython",
    "version": 3
   },
   "file_extension": ".py",
   "mimetype": "text/x-python",
   "name": "python",
   "nbconvert_exporter": "python",
   "pygments_lexer": "ipython3",
   "version": "3.11.4"
  },
  "orig_nbformat": 4
 },
 "nbformat": 4,
 "nbformat_minor": 2
}
