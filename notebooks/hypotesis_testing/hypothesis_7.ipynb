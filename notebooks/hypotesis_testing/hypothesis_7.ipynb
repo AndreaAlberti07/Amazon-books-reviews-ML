{
 "cells": [
  {
   "cell_type": "markdown",
   "metadata": {},
   "source": [
    "## Testing hypothesis 3\n",
    "---\n",
    "\n",
    "**_Hypothesis_**: There are some publisher getting higher average review/score.\n",
    "\n",
    "   - **Metric**: Compare the mean review/score of the books published by the same publisher.\n",
    "\n",
    "   - **Model**: Linear Regression.\n",
    "\n",
    "   - **Description**:\n",
    "   \n",
    "     - Add a column for each publisher's average review/score.\n",
    "     - Use the average review/score as the predictor variable and the helpfulness rating as the target variable.\n",
    "     - Train a linear regression model to predict helpfulness ratings based on the average review/score.\n",
    "\n",
    "**Missing Values**:\n",
    "  \n",
    "- `publisher`: set missing values as empty string\n",
    "- `review/score`: remove the entire sample\n",
    "\n",
    "**Data Transformation**:\n",
    "\n",
    "- `publisher`: GroupBy publisher.\n",
    "- `review/score`: Compute the average review/score for each publisher.\n",
    "\n",
    "---"
   ]
  },
  {
   "cell_type": "code",
   "execution_count": null,
   "metadata": {},
   "outputs": [],
   "source": [
    "# Connect to MongoDB\n",
    "\n",
    "import pymongo\n",
    "\n",
    "client = pymongo.MongoClient('mongodb://localhost:27017/')\n",
    "database = client['spark_db']\n",
    "books = database['books_hypothesis_7']"
   ]
  },
  {
   "cell_type": "code",
   "execution_count": null,
   "metadata": {},
   "outputs": [],
   "source": [
    "import pandas as pd\n",
    "import numpy as np\n",
    "import matplotlib.pyplot as plt\n",
    "\n",
    "# Group by publisher and calculate average rating\n",
    "pipeline_average_rating = {'$group':{\n",
    "                                '_id':'$publisher',\n",
    "                                'average_rating':{'$avg':'review/score'}\n",
    "                                }\n",
    "                           }\n",
    "\n"
   ]
  }
 ],
 "metadata": {
  "kernelspec": {
   "display_name": "base",
   "language": "python",
   "name": "python3"
  },
  "language_info": {
   "name": "python",
   "version": "3.9.13"
  },
  "orig_nbformat": 4
 },
 "nbformat": 4,
 "nbformat_minor": 2
}
