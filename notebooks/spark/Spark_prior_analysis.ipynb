{
 "cells": [
  {
   "cell_type": "markdown",
   "metadata": {},
   "source": [
    "## Data Exploration with Spark\n",
    "\n",
    "---"
   ]
  },
  {
   "cell_type": "markdown",
   "metadata": {},
   "source": [
    "### Import Libraries"
   ]
  },
  {
   "cell_type": "code",
   "execution_count": 1,
   "metadata": {},
   "outputs": [],
   "source": [
    "# import libraries\n",
    "import findspark\n",
    "\n",
    "# Locate the spark installation\n",
    "findspark.init()"
   ]
  },
  {
   "cell_type": "code",
   "execution_count": 2,
   "metadata": {},
   "outputs": [],
   "source": [
    "import pandas as pd\n",
    "import pyspark as ps\n",
    "from pyspark.sql.functions import col, sum\n",
    "from pyspark.sql.types import StructType, StructField, StringType, IntegerType, FloatType"
   ]
  },
  {
   "cell_type": "markdown",
   "metadata": {},
   "source": [
    "### Initialize Spark"
   ]
  },
  {
   "cell_type": "code",
   "execution_count": 3,
   "metadata": {},
   "outputs": [
    {
     "name": "stderr",
     "output_type": "stream",
     "text": [
      "23/08/31 16:12:52 WARN Utils: Your hostname, MacBook-Pro-di-Andrea.local resolves to a loopback address: 127.0.0.1; using 192.168.1.129 instead (on interface en0)\n",
      "23/08/31 16:12:52 WARN Utils: Set SPARK_LOCAL_IP if you need to bind to another address\n",
      "Setting default log level to \"WARN\".\n",
      "To adjust logging level use sc.setLogLevel(newLevel). For SparkR, use setLogLevel(newLevel).\n",
      "23/08/31 16:12:52 WARN NativeCodeLoader: Unable to load native-hadoop library for your platform... using builtin-java classes where applicable\n"
     ]
    }
   ],
   "source": [
    "# Initialize a SparkContext\n",
    "sc = ps.SparkContext(appName=\"prior_analysis\")"
   ]
  },
  {
   "cell_type": "markdown",
   "metadata": {},
   "source": [
    "### Connect and import data from HDFS directly into a Spark DataFrame"
   ]
  },
  {
   "cell_type": "code",
   "execution_count": 4,
   "metadata": {},
   "outputs": [],
   "source": [
    "# Initialize the Session\n",
    "spark_session = ps.sql.SparkSession(sc)\n",
    "\n",
    "# Define schema for better manipulation\n",
    "\n",
    "data_schema = StructType([\n",
    "    StructField(\"Title\", StringType(), True),\n",
    "    StructField(\"description\", StringType(), True),\n",
    "    StructField(\"authors\", StringType(), True),\n",
    "    StructField(\"image\", StringType(), True),\n",
    "    StructField(\"previewLink\", StringType(), True),\n",
    "    StructField(\"publisher\", StringType(), True),\n",
    "    StructField(\"publishedDate\", StringType(), True),\n",
    "    StructField(\"infoLink\", StringType(), True),\n",
    "    StructField(\"categories\", StringType(), True),\n",
    "    StructField(\"ratingsCount\", FloatType(), True)\n",
    "])\n",
    "\n",
    "ratings_schema = StructType([\n",
    "    StructField(\"Id\", IntegerType(), True),\n",
    "    StructField(\"Title\", StringType(), True),\n",
    "    StructField(\"Price\", FloatType(), True),\n",
    "    StructField(\"User_id\", IntegerType(), True),\n",
    "    StructField(\"profileName\", StringType(), True),\n",
    "    StructField(\"review/helpfulness\", StringType(), True),\n",
    "    StructField(\"review/score\", FloatType(), True),\n",
    "    StructField(\"review/time\", IntegerType(), True),\n",
    "    StructField(\"review/summary\", StringType(), True),\n",
    "    StructField(\"review/text\", StringType(), True)\n",
    "])\n",
    "\n",
    "\n",
    "# Load the data\n",
    "# name = 'davideligari'\n",
    "name = 'andreaalberti'\n",
    "df_data = spark_session.read.option('escape','\"').csv('hdfs://localhost:9900/user/'+name+'/book_reviews/books_data.csv', header=True, schema=data_schema)\n",
    "df_ratings = spark_session.read.option('escape','\"').csv('hdfs://localhost:9900/user/'+name+'/book_reviews/books_rating.csv', header=True, schema=ratings_schema)"
   ]
  },
  {
   "cell_type": "markdown",
   "metadata": {},
   "source": [
    "### Data Exploration\n",
    "\n",
    "- Show the first 5 rows of the data\n",
    "- Investigate the inferred schema of the data\n",
    "- Discover data dimensionality\n",
    "- Show some statistics\n",
    "- Discover null values\n",
    "- Discover the number of distinct values in each column"
   ]
  },
  {
   "cell_type": "code",
   "execution_count": 5,
   "metadata": {},
   "outputs": [
    {
     "name": "stdout",
     "output_type": "stream",
     "text": [
      "Data Table: \n",
      "\n"
     ]
    },
    {
     "data": {
      "text/html": [
       "<div>\n",
       "<style scoped>\n",
       "    .dataframe tbody tr th:only-of-type {\n",
       "        vertical-align: middle;\n",
       "    }\n",
       "\n",
       "    .dataframe tbody tr th {\n",
       "        vertical-align: top;\n",
       "    }\n",
       "\n",
       "    .dataframe thead th {\n",
       "        text-align: right;\n",
       "    }\n",
       "</style>\n",
       "<table border=\"1\" class=\"dataframe\">\n",
       "  <thead>\n",
       "    <tr style=\"text-align: right;\">\n",
       "      <th></th>\n",
       "      <th>Title</th>\n",
       "      <th>description</th>\n",
       "      <th>authors</th>\n",
       "      <th>image</th>\n",
       "      <th>previewLink</th>\n",
       "      <th>publisher</th>\n",
       "      <th>publishedDate</th>\n",
       "      <th>infoLink</th>\n",
       "      <th>categories</th>\n",
       "      <th>ratingsCount</th>\n",
       "    </tr>\n",
       "  </thead>\n",
       "  <tbody>\n",
       "    <tr>\n",
       "      <th>0</th>\n",
       "      <td>Its Only Art If Its Well Hung!</td>\n",
       "      <td>None</td>\n",
       "      <td>['Julie Strain']</td>\n",
       "      <td>http://books.google.com/books/content?id=DykPA...</td>\n",
       "      <td>http://books.google.nl/books?id=DykPAAAACAAJ&amp;d...</td>\n",
       "      <td>None</td>\n",
       "      <td>1996</td>\n",
       "      <td>http://books.google.nl/books?id=DykPAAAACAAJ&amp;d...</td>\n",
       "      <td>['Comics &amp; Graphic Novels']</td>\n",
       "      <td>NaN</td>\n",
       "    </tr>\n",
       "    <tr>\n",
       "      <th>1</th>\n",
       "      <td>Dr. Seuss: American Icon</td>\n",
       "      <td>Philip Nel takes a fascinating look into the k...</td>\n",
       "      <td>['Philip Nel']</td>\n",
       "      <td>http://books.google.com/books/content?id=IjvHQ...</td>\n",
       "      <td>http://books.google.nl/books?id=IjvHQsCn_pgC&amp;p...</td>\n",
       "      <td>A&amp;C Black</td>\n",
       "      <td>2005-01-01</td>\n",
       "      <td>http://books.google.nl/books?id=IjvHQsCn_pgC&amp;d...</td>\n",
       "      <td>['Biography &amp; Autobiography']</td>\n",
       "      <td>NaN</td>\n",
       "    </tr>\n",
       "    <tr>\n",
       "      <th>2</th>\n",
       "      <td>Wonderful Worship in Smaller Churches</td>\n",
       "      <td>This resource includes twelve principles in un...</td>\n",
       "      <td>['David R. Ray']</td>\n",
       "      <td>http://books.google.com/books/content?id=2tsDA...</td>\n",
       "      <td>http://books.google.nl/books?id=2tsDAAAACAAJ&amp;d...</td>\n",
       "      <td>None</td>\n",
       "      <td>2000</td>\n",
       "      <td>http://books.google.nl/books?id=2tsDAAAACAAJ&amp;d...</td>\n",
       "      <td>['Religion']</td>\n",
       "      <td>NaN</td>\n",
       "    </tr>\n",
       "    <tr>\n",
       "      <th>3</th>\n",
       "      <td>Whispers of the Wicked Saints</td>\n",
       "      <td>Julia Thomas finds her life spinning out of co...</td>\n",
       "      <td>['Veronica Haddon']</td>\n",
       "      <td>http://books.google.com/books/content?id=aRSIg...</td>\n",
       "      <td>http://books.google.nl/books?id=aRSIgJlq6JwC&amp;d...</td>\n",
       "      <td>iUniverse</td>\n",
       "      <td>2005-02</td>\n",
       "      <td>http://books.google.nl/books?id=aRSIgJlq6JwC&amp;d...</td>\n",
       "      <td>['Fiction']</td>\n",
       "      <td>NaN</td>\n",
       "    </tr>\n",
       "    <tr>\n",
       "      <th>4</th>\n",
       "      <td>Nation Dance: Religion, Identity and Cultural ...</td>\n",
       "      <td>None</td>\n",
       "      <td>['Edward Long']</td>\n",
       "      <td>None</td>\n",
       "      <td>http://books.google.nl/books?id=399SPgAACAAJ&amp;d...</td>\n",
       "      <td>None</td>\n",
       "      <td>2003-03-01</td>\n",
       "      <td>http://books.google.nl/books?id=399SPgAACAAJ&amp;d...</td>\n",
       "      <td>None</td>\n",
       "      <td>NaN</td>\n",
       "    </tr>\n",
       "  </tbody>\n",
       "</table>\n",
       "</div>"
      ],
      "text/plain": [
       "                                               Title  \\\n",
       "0                     Its Only Art If Its Well Hung!   \n",
       "1                           Dr. Seuss: American Icon   \n",
       "2              Wonderful Worship in Smaller Churches   \n",
       "3                      Whispers of the Wicked Saints   \n",
       "4  Nation Dance: Religion, Identity and Cultural ...   \n",
       "\n",
       "                                         description              authors  \\\n",
       "0                                               None     ['Julie Strain']   \n",
       "1  Philip Nel takes a fascinating look into the k...       ['Philip Nel']   \n",
       "2  This resource includes twelve principles in un...     ['David R. Ray']   \n",
       "3  Julia Thomas finds her life spinning out of co...  ['Veronica Haddon']   \n",
       "4                                               None      ['Edward Long']   \n",
       "\n",
       "                                               image  \\\n",
       "0  http://books.google.com/books/content?id=DykPA...   \n",
       "1  http://books.google.com/books/content?id=IjvHQ...   \n",
       "2  http://books.google.com/books/content?id=2tsDA...   \n",
       "3  http://books.google.com/books/content?id=aRSIg...   \n",
       "4                                               None   \n",
       "\n",
       "                                         previewLink  publisher publishedDate  \\\n",
       "0  http://books.google.nl/books?id=DykPAAAACAAJ&d...       None          1996   \n",
       "1  http://books.google.nl/books?id=IjvHQsCn_pgC&p...  A&C Black    2005-01-01   \n",
       "2  http://books.google.nl/books?id=2tsDAAAACAAJ&d...       None          2000   \n",
       "3  http://books.google.nl/books?id=aRSIgJlq6JwC&d...  iUniverse       2005-02   \n",
       "4  http://books.google.nl/books?id=399SPgAACAAJ&d...       None    2003-03-01   \n",
       "\n",
       "                                            infoLink  \\\n",
       "0  http://books.google.nl/books?id=DykPAAAACAAJ&d...   \n",
       "1  http://books.google.nl/books?id=IjvHQsCn_pgC&d...   \n",
       "2  http://books.google.nl/books?id=2tsDAAAACAAJ&d...   \n",
       "3  http://books.google.nl/books?id=aRSIgJlq6JwC&d...   \n",
       "4  http://books.google.nl/books?id=399SPgAACAAJ&d...   \n",
       "\n",
       "                      categories  ratingsCount  \n",
       "0    ['Comics & Graphic Novels']           NaN  \n",
       "1  ['Biography & Autobiography']           NaN  \n",
       "2                   ['Religion']           NaN  \n",
       "3                    ['Fiction']           NaN  \n",
       "4                           None           NaN  "
      ]
     },
     "execution_count": 5,
     "metadata": {},
     "output_type": "execute_result"
    }
   ],
   "source": [
    "# Show the data\n",
    "print('Data Table: \\n')\n",
    "df_data.limit(5).toPandas()"
   ]
  },
  {
   "cell_type": "code",
   "execution_count": 6,
   "metadata": {},
   "outputs": [
    {
     "name": "stdout",
     "output_type": "stream",
     "text": [
      "Ratings Table: \n",
      "\n"
     ]
    },
    {
     "data": {
      "text/html": [
       "<div>\n",
       "<style scoped>\n",
       "    .dataframe tbody tr th:only-of-type {\n",
       "        vertical-align: middle;\n",
       "    }\n",
       "\n",
       "    .dataframe tbody tr th {\n",
       "        vertical-align: top;\n",
       "    }\n",
       "\n",
       "    .dataframe thead th {\n",
       "        text-align: right;\n",
       "    }\n",
       "</style>\n",
       "<table border=\"1\" class=\"dataframe\">\n",
       "  <thead>\n",
       "    <tr style=\"text-align: right;\">\n",
       "      <th></th>\n",
       "      <th>Id</th>\n",
       "      <th>Title</th>\n",
       "      <th>Price</th>\n",
       "      <th>User_id</th>\n",
       "      <th>profileName</th>\n",
       "      <th>review/helpfulness</th>\n",
       "      <th>review/score</th>\n",
       "      <th>review/time</th>\n",
       "      <th>review/summary</th>\n",
       "      <th>review/text</th>\n",
       "    </tr>\n",
       "  </thead>\n",
       "  <tbody>\n",
       "    <tr>\n",
       "      <th>0</th>\n",
       "      <td>1882931173</td>\n",
       "      <td>Its Only Art If Its Well Hung!</td>\n",
       "      <td>NaN</td>\n",
       "      <td>NaN</td>\n",
       "      <td>Jim of Oz \"jim-of-oz\"</td>\n",
       "      <td>7/7</td>\n",
       "      <td>4.0</td>\n",
       "      <td>940636800</td>\n",
       "      <td>Nice collection of Julie Strain images</td>\n",
       "      <td>This is only for Julie Strain fans. It's a col...</td>\n",
       "    </tr>\n",
       "    <tr>\n",
       "      <th>1</th>\n",
       "      <td>826414346</td>\n",
       "      <td>Dr. Seuss: American Icon</td>\n",
       "      <td>NaN</td>\n",
       "      <td>NaN</td>\n",
       "      <td>Kevin Killian</td>\n",
       "      <td>10/10</td>\n",
       "      <td>5.0</td>\n",
       "      <td>1095724800</td>\n",
       "      <td>Really Enjoyed It</td>\n",
       "      <td>I don't care much for Dr. Seuss but after read...</td>\n",
       "    </tr>\n",
       "    <tr>\n",
       "      <th>2</th>\n",
       "      <td>826414346</td>\n",
       "      <td>Dr. Seuss: American Icon</td>\n",
       "      <td>NaN</td>\n",
       "      <td>NaN</td>\n",
       "      <td>John Granger</td>\n",
       "      <td>10/11</td>\n",
       "      <td>5.0</td>\n",
       "      <td>1078790400</td>\n",
       "      <td>Essential for every personal and Public Library</td>\n",
       "      <td>If people become the books they read and if \"t...</td>\n",
       "    </tr>\n",
       "    <tr>\n",
       "      <th>3</th>\n",
       "      <td>826414346</td>\n",
       "      <td>Dr. Seuss: American Icon</td>\n",
       "      <td>NaN</td>\n",
       "      <td>NaN</td>\n",
       "      <td>Roy E. Perry \"amateur philosopher\"</td>\n",
       "      <td>7/7</td>\n",
       "      <td>4.0</td>\n",
       "      <td>1090713600</td>\n",
       "      <td>Phlip Nel gives silly Seuss a serious treatment</td>\n",
       "      <td>Theodore Seuss Geisel (1904-1991), aka &amp;quot;D...</td>\n",
       "    </tr>\n",
       "    <tr>\n",
       "      <th>4</th>\n",
       "      <td>826414346</td>\n",
       "      <td>Dr. Seuss: American Icon</td>\n",
       "      <td>NaN</td>\n",
       "      <td>NaN</td>\n",
       "      <td>D. H. Richards \"ninthwavestore\"</td>\n",
       "      <td>3/3</td>\n",
       "      <td>4.0</td>\n",
       "      <td>1107993600</td>\n",
       "      <td>Good academic overview</td>\n",
       "      <td>Philip Nel - Dr. Seuss: American IconThis is b...</td>\n",
       "    </tr>\n",
       "  </tbody>\n",
       "</table>\n",
       "</div>"
      ],
      "text/plain": [
       "           Id                           Title  Price  User_id  \\\n",
       "0  1882931173  Its Only Art If Its Well Hung!    NaN      NaN   \n",
       "1   826414346        Dr. Seuss: American Icon    NaN      NaN   \n",
       "2   826414346        Dr. Seuss: American Icon    NaN      NaN   \n",
       "3   826414346        Dr. Seuss: American Icon    NaN      NaN   \n",
       "4   826414346        Dr. Seuss: American Icon    NaN      NaN   \n",
       "\n",
       "                          profileName review/helpfulness  review/score  \\\n",
       "0               Jim of Oz \"jim-of-oz\"                7/7           4.0   \n",
       "1                       Kevin Killian              10/10           5.0   \n",
       "2                        John Granger              10/11           5.0   \n",
       "3  Roy E. Perry \"amateur philosopher\"                7/7           4.0   \n",
       "4     D. H. Richards \"ninthwavestore\"                3/3           4.0   \n",
       "\n",
       "   review/time                                   review/summary  \\\n",
       "0    940636800           Nice collection of Julie Strain images   \n",
       "1   1095724800                                Really Enjoyed It   \n",
       "2   1078790400  Essential for every personal and Public Library   \n",
       "3   1090713600  Phlip Nel gives silly Seuss a serious treatment   \n",
       "4   1107993600                           Good academic overview   \n",
       "\n",
       "                                         review/text  \n",
       "0  This is only for Julie Strain fans. It's a col...  \n",
       "1  I don't care much for Dr. Seuss but after read...  \n",
       "2  If people become the books they read and if \"t...  \n",
       "3  Theodore Seuss Geisel (1904-1991), aka &quot;D...  \n",
       "4  Philip Nel - Dr. Seuss: American IconThis is b...  "
      ]
     },
     "execution_count": 6,
     "metadata": {},
     "output_type": "execute_result"
    }
   ],
   "source": [
    "print('Ratings Table: \\n')\n",
    "df_ratings.limit(5).toPandas()"
   ]
  },
  {
   "cell_type": "code",
   "execution_count": 7,
   "metadata": {},
   "outputs": [
    {
     "name": "stdout",
     "output_type": "stream",
     "text": [
      "Data Table Schema: \n",
      "\n",
      "root\n",
      " |-- Title: string (nullable = true)\n",
      " |-- description: string (nullable = true)\n",
      " |-- authors: string (nullable = true)\n",
      " |-- image: string (nullable = true)\n",
      " |-- previewLink: string (nullable = true)\n",
      " |-- publisher: string (nullable = true)\n",
      " |-- publishedDate: string (nullable = true)\n",
      " |-- infoLink: string (nullable = true)\n",
      " |-- categories: string (nullable = true)\n",
      " |-- ratingsCount: float (nullable = true)\n",
      "\n",
      "Ratings Table Schema: \n",
      "\n",
      "root\n",
      " |-- Id: integer (nullable = true)\n",
      " |-- Title: string (nullable = true)\n",
      " |-- Price: float (nullable = true)\n",
      " |-- User_id: integer (nullable = true)\n",
      " |-- profileName: string (nullable = true)\n",
      " |-- review/helpfulness: string (nullable = true)\n",
      " |-- review/score: float (nullable = true)\n",
      " |-- review/time: integer (nullable = true)\n",
      " |-- review/summary: string (nullable = true)\n",
      " |-- review/text: string (nullable = true)\n",
      "\n"
     ]
    }
   ],
   "source": [
    "#Investigate the schema\n",
    "print('Data Table Schema: \\n')\n",
    "df_data.printSchema()\n",
    "\n",
    "print('Ratings Table Schema: \\n')\n",
    "df_ratings.printSchema()"
   ]
  },
  {
   "cell_type": "code",
   "execution_count": 8,
   "metadata": {},
   "outputs": [
    {
     "name": "stdout",
     "output_type": "stream",
     "text": [
      "Data Table Dimensionality: (212404, 10)\n"
     ]
    },
    {
     "name": "stderr",
     "output_type": "stream",
     "text": [
      "                                                                                \r"
     ]
    },
    {
     "name": "stdout",
     "output_type": "stream",
     "text": [
      "Ratings Table Dimensionality: (3000000, 10)\n",
      "Data Table Summary: \n",
      "\n"
     ]
    },
    {
     "name": "stderr",
     "output_type": "stream",
     "text": [
      "23/08/31 16:12:59 WARN package: Truncated the string representation of a plan since it was too large. This behavior can be adjusted by setting 'spark.sql.debug.maxToStringFields'.\n",
      "                                                                                \r"
     ]
    },
    {
     "name": "stdout",
     "output_type": "stream",
     "text": [
      "+-------+--------------------+--------------------+--------------------+--------------------+--------------------+--------------------+------------------+--------------------+--------------------+------------------+\n",
      "|summary|               Title|         description|             authors|               image|         previewLink|           publisher|     publishedDate|            infoLink|          categories|      ratingsCount|\n",
      "+-------+--------------------+--------------------+--------------------+--------------------+--------------------+--------------------+------------------+--------------------+--------------------+------------------+\n",
      "|  count|              212403|              143962|              180991|              160329|              188568|              136518|            187099|              188568|              171205|             49752|\n",
      "|   mean|   3823.672941176471|  1.4285714285714286|                null|                null|                null|             51495.0|1983.8165452207459|                null|                null| 21.25297475478373|\n",
      "| stddev|  10717.999589636447|  0.9759000729485332|                null|                null|                null|                null| 32.53827334249167|                null|                null|201.34043063142784|\n",
      "|    min|\" Film technique,...|!! ALL NEW CAMPGR...|[\"'Abd al-Samih A...|http://books.goog...|http://books.goog...|\"O'Reilly Media, ...|         101-01-01|http://books.goog...|[\"'Abd al-Bah̄a, ...|               1.0|\n",
      "|    max|you can do anythi...|�Una novela llam�...|        ['편집부편']|http://books.goog...|http://books.goog...|                펜립|              20??|https://play.goog...|         ['Śaivism']|            4895.0|\n",
      "+-------+--------------------+--------------------+--------------------+--------------------+--------------------+--------------------+------------------+--------------------+--------------------+------------------+\n",
      "\n",
      "Ratings Table Summary: \n",
      "\n"
     ]
    },
    {
     "name": "stderr",
     "output_type": "stream",
     "text": [
      "[Stage 11:===========================================>            (17 + 5) / 22]\r"
     ]
    },
    {
     "name": "stdout",
     "output_type": "stream",
     "text": [
      "+-------+-------------------+--------------------+------------------+-------+-----------+------------------+-----------------+-------------------+--------------------+--------------------+\n",
      "|summary|                 Id|               Title|             Price|User_id|profileName|review/helpfulness|     review/score|        review/time|      review/summary|         review/text|\n",
      "+-------+-------------------+--------------------+------------------+-------+-----------+------------------+-----------------+-------------------+--------------------+--------------------+\n",
      "|  count|            1280981|             2999792|            481171|      0|    2438114|           3000000|          3000000|            3000000|             2999962|             2999992|\n",
      "|   mean|8.750887636698718E8|   2012.796651763537|21.762655893432562|   null|        NaN|              null|4.215289333333334|1.132306772630393E9|            Infinity|             17963.0|\n",
      "| stddev|5.161812590603045E8|  1536.7533549608797|26.206540502125847|   null|        NaN|              null|1.203053747233401|1.493201875283067E8|                 NaN|   47479.34448789284|\n",
      "|    min|            1047604|\" Film technique,...|               1.0|   null|          \u001a|               0/0|              1.0|                 -1|                   !|\u0011The Tao of Muham...|\n",
      "|    max|         2090337427|you can do anythi...|             995.0|   null|    ~~~~~~~|          997/1090|              5.0|         1362355200|~~~~~~~~~~~~~~~~~...|~~~~~~~~~~~~~~~~~...|\n",
      "+-------+-------------------+--------------------+------------------+-------+-----------+------------------+-----------------+-------------------+--------------------+--------------------+\n",
      "\n"
     ]
    },
    {
     "name": "stderr",
     "output_type": "stream",
     "text": [
      "                                                                                \r"
     ]
    }
   ],
   "source": [
    "# Check dimensionality\n",
    "print(f'Data Table Dimensionality: {df_data.count(), len(df_data.columns)}')\n",
    "print(f'Ratings Table Dimensionality: {df_ratings.count(), len(df_ratings.columns)}')\n",
    "\n",
    "# Statistical summary\n",
    "print('Data Table Summary: \\n')\n",
    "df_data.describe().show()\n",
    "\n",
    "print('Ratings Table Summary: \\n')\n",
    "df_ratings.describe().show()"
   ]
  },
  {
   "cell_type": "code",
   "execution_count": 9,
   "metadata": {},
   "outputs": [
    {
     "name": "stderr",
     "output_type": "stream",
     "text": [
      "Java HotSpot(TM) 64-Bit Server VM warning: CodeCache is full. Compiler has been disabled.\n",
      "Java HotSpot(TM) 64-Bit Server VM warning: Try increasing the code cache size using -XX:ReservedCodeCacheSize=\n"
     ]
    },
    {
     "name": "stdout",
     "output_type": "stream",
     "text": [
      "CodeCache: size=131072Kb used=34527Kb max_used=34536Kb free=96544Kb\n",
      " bounds [0x000000010a1d8000, 0x000000010c3d8000, 0x00000001121d8000]\n",
      " total_blobs=12938 nmethods=11947 adapters=904\n",
      " compilation: disabled (not enough contiguous free space left)\n"
     ]
    },
    {
     "name": "stderr",
     "output_type": "stream",
     "text": [
      "                                                                                \r"
     ]
    }
   ],
   "source": [
    "import numpy as np\n",
    "\n",
    "# Check for number of distinct values for each column in %\n",
    "n_distinct_list = []\n",
    "\n",
    "for c in df_data.columns:\n",
    "    n_distinct = df_data.select(c).distinct().count()\n",
    "    n_distinct_list.append(n_distinct)\n",
    "\n",
    "df_data_pandas = pd.DataFrame(index = df_data.columns, columns = ['N. Distinct Values'], data = (np.array((n_distinct_list))/df_data.count())*100)\n",
    "\n",
    "n_distinct_list = []\n",
    "\n",
    "for c in df_ratings.columns:\n",
    "    n_distinct = df_ratings.select(c).distinct().count()\n",
    "    n_distinct_list.append(n_distinct)\n",
    "\n",
    "df_ratings_pandas = pd.DataFrame(index = df_ratings.columns, columns = ['N. Distinct Values'], data = (np.array((n_distinct_list))/df_ratings.count())*100)"
   ]
  },
  {
   "cell_type": "code",
   "execution_count": 10,
   "metadata": {},
   "outputs": [
    {
     "name": "stderr",
     "output_type": "stream",
     "text": [
      "                                                                                \r"
     ]
    }
   ],
   "source": [
    "from pyspark.sql.functions import col, count, when\n",
    "\n",
    "# Check for missing values\n",
    "df_data_pandas_tmp = df_data.select([sum(col(c).isNull().cast('int')).alias(c) for c in df_data.columns]).toPandas()\n",
    "# Add to the pandas summary dataframe\n",
    "df_data_pandas['N. Missing Values'] = (df_data_pandas_tmp.loc[0, :]/df_data.count()*100).tolist()\n",
    "\n",
    "# Check for missing values\n",
    "df_ratings_pandas_tmp = df_ratings.select([sum(col(c).isNull().cast('int')).alias(c) for c in df_ratings.columns]).toPandas()\n",
    "# Add to the pandas summary dataframe\n",
    "df_ratings_pandas['N. Missing Values'] = (df_ratings_pandas_tmp.loc[0, :]/df_ratings.count()*100).tolist()"
   ]
  },
  {
   "cell_type": "code",
   "execution_count": 13,
   "metadata": {},
   "outputs": [
    {
     "data": {
      "text/html": [
       "<div>\n",
       "<style scoped>\n",
       "    .dataframe tbody tr th:only-of-type {\n",
       "        vertical-align: middle;\n",
       "    }\n",
       "\n",
       "    .dataframe tbody tr th {\n",
       "        vertical-align: top;\n",
       "    }\n",
       "\n",
       "    .dataframe thead th {\n",
       "        text-align: right;\n",
       "    }\n",
       "</style>\n",
       "<table border=\"1\" class=\"dataframe\">\n",
       "  <thead>\n",
       "    <tr style=\"text-align: right;\">\n",
       "      <th></th>\n",
       "      <th>N. Distinct Values</th>\n",
       "      <th>N. Missing Values</th>\n",
       "    </tr>\n",
       "  </thead>\n",
       "  <tbody>\n",
       "    <tr>\n",
       "      <th>Title</th>\n",
       "      <td>100.000000</td>\n",
       "      <td>0.000471</td>\n",
       "    </tr>\n",
       "    <tr>\n",
       "      <th>description</th>\n",
       "      <td>62.723395</td>\n",
       "      <td>32.222557</td>\n",
       "    </tr>\n",
       "    <tr>\n",
       "      <th>authors</th>\n",
       "      <td>59.923071</td>\n",
       "      <td>14.789270</td>\n",
       "    </tr>\n",
       "    <tr>\n",
       "      <th>image</th>\n",
       "      <td>70.332009</td>\n",
       "      <td>24.516958</td>\n",
       "    </tr>\n",
       "    <tr>\n",
       "      <th>previewLink</th>\n",
       "      <td>88.557654</td>\n",
       "      <td>11.222011</td>\n",
       "    </tr>\n",
       "    <tr>\n",
       "      <th>publisher</th>\n",
       "      <td>7.540818</td>\n",
       "      <td>35.727199</td>\n",
       "    </tr>\n",
       "    <tr>\n",
       "      <th>publishedDate</th>\n",
       "      <td>5.453287</td>\n",
       "      <td>11.913617</td>\n",
       "    </tr>\n",
       "    <tr>\n",
       "      <th>infoLink</th>\n",
       "      <td>86.866067</td>\n",
       "      <td>11.222011</td>\n",
       "    </tr>\n",
       "    <tr>\n",
       "      <th>categories</th>\n",
       "      <td>5.124197</td>\n",
       "      <td>19.396527</td>\n",
       "    </tr>\n",
       "    <tr>\n",
       "      <th>ratingsCount</th>\n",
       "      <td>0.225514</td>\n",
       "      <td>76.576712</td>\n",
       "    </tr>\n",
       "  </tbody>\n",
       "</table>\n",
       "</div>"
      ],
      "text/plain": [
       "               N. Distinct Values  N. Missing Values\n",
       "Title                  100.000000           0.000471\n",
       "description             62.723395          32.222557\n",
       "authors                 59.923071          14.789270\n",
       "image                   70.332009          24.516958\n",
       "previewLink             88.557654          11.222011\n",
       "publisher                7.540818          35.727199\n",
       "publishedDate            5.453287          11.913617\n",
       "infoLink                86.866067          11.222011\n",
       "categories               5.124197          19.396527\n",
       "ratingsCount             0.225514          76.576712"
      ]
     },
     "execution_count": 13,
     "metadata": {},
     "output_type": "execute_result"
    }
   ],
   "source": [
    "df_data_pandas"
   ]
  },
  {
   "cell_type": "code",
   "execution_count": 15,
   "metadata": {},
   "outputs": [
    {
     "data": {
      "text/html": [
       "<div>\n",
       "<style scoped>\n",
       "    .dataframe tbody tr th:only-of-type {\n",
       "        vertical-align: middle;\n",
       "    }\n",
       "\n",
       "    .dataframe tbody tr th {\n",
       "        vertical-align: top;\n",
       "    }\n",
       "\n",
       "    .dataframe thead th {\n",
       "        text-align: right;\n",
       "    }\n",
       "</style>\n",
       "<table border=\"1\" class=\"dataframe\">\n",
       "  <thead>\n",
       "    <tr style=\"text-align: right;\">\n",
       "      <th></th>\n",
       "      <th>N. Distinct Values</th>\n",
       "      <th>N. Missing Values</th>\n",
       "    </tr>\n",
       "  </thead>\n",
       "  <tbody>\n",
       "    <tr>\n",
       "      <th>Id</th>\n",
       "      <td>4.197100</td>\n",
       "      <td>57.300633</td>\n",
       "    </tr>\n",
       "    <tr>\n",
       "      <th>Title</th>\n",
       "      <td>7.080133</td>\n",
       "      <td>0.006933</td>\n",
       "    </tr>\n",
       "    <tr>\n",
       "      <th>Price</th>\n",
       "      <td>0.200167</td>\n",
       "      <td>83.960967</td>\n",
       "    </tr>\n",
       "    <tr>\n",
       "      <th>User_id</th>\n",
       "      <td>0.000033</td>\n",
       "      <td>100.000000</td>\n",
       "    </tr>\n",
       "    <tr>\n",
       "      <th>profileName</th>\n",
       "      <td>28.471567</td>\n",
       "      <td>18.729533</td>\n",
       "    </tr>\n",
       "    <tr>\n",
       "      <th>review/helpfulness</th>\n",
       "      <td>0.402800</td>\n",
       "      <td>0.000000</td>\n",
       "    </tr>\n",
       "    <tr>\n",
       "      <th>review/score</th>\n",
       "      <td>0.000167</td>\n",
       "      <td>0.000000</td>\n",
       "    </tr>\n",
       "    <tr>\n",
       "      <th>review/time</th>\n",
       "      <td>0.209067</td>\n",
       "      <td>0.000000</td>\n",
       "    </tr>\n",
       "    <tr>\n",
       "      <th>review/summary</th>\n",
       "      <td>53.077200</td>\n",
       "      <td>0.001267</td>\n",
       "    </tr>\n",
       "    <tr>\n",
       "      <th>review/text</th>\n",
       "      <td>68.754967</td>\n",
       "      <td>0.000267</td>\n",
       "    </tr>\n",
       "  </tbody>\n",
       "</table>\n",
       "</div>"
      ],
      "text/plain": [
       "                    N. Distinct Values  N. Missing Values\n",
       "Id                            4.197100          57.300633\n",
       "Title                         7.080133           0.006933\n",
       "Price                         0.200167          83.960967\n",
       "User_id                       0.000033         100.000000\n",
       "profileName                  28.471567          18.729533\n",
       "review/helpfulness            0.402800           0.000000\n",
       "review/score                  0.000167           0.000000\n",
       "review/time                   0.209067           0.000000\n",
       "review/summary               53.077200           0.001267\n",
       "review/text                  68.754967           0.000267"
      ]
     },
     "execution_count": 15,
     "metadata": {},
     "output_type": "execute_result"
    }
   ],
   "source": [
    "df_ratings_pandas"
   ]
  },
  {
   "cell_type": "code",
   "execution_count": 14,
   "metadata": {},
   "outputs": [
    {
     "data": {
      "text/plain": [
       "<AxesSubplot: title={'center': 'Ratings Table Summary'}, ylabel='Percentage'>"
      ]
     },
     "execution_count": 14,
     "metadata": {},
     "output_type": "execute_result"
    },
    {
     "data": {
      "image/png": "[encoded data removed]",
      "text/plain": [
       "<Figure size 640x480 with 1 Axes>"
      ]
     },
     "metadata": {},
     "output_type": "display_data"
    },
    {
     "data": {
      "image/png": "[encoded data removed]",
      "text/plain": [
       "<Figure size 640x480 with 1 Axes>"
      ]
     },
     "metadata": {},
     "output_type": "display_data"
    }
   ],
   "source": [
    "#df_data_pandas.set_index('Column', inplace=True)\n",
    "df_data_pandas.plot(title='Data Table Summary', kind='bar', ylabel='Percentage')\n",
    "\n",
    "#df_ratings_pandas.set_index('Column', inplace=True)\n",
    "df_ratings_pandas.plot(title='Ratings Table Summary', kind='bar', ylabel='Percentage')"
   ]
  },
  {
   "cell_type": "markdown",
   "metadata": {},
   "source": [
    "## Data Cleaning\n",
    "---"
   ]
  },
  {
   "cell_type": "markdown",
   "metadata": {},
   "source": [
    "### - Data Table\n",
    "\n",
    "| Column            | Description                                                 |\n",
    "| ----------------- | ----------------------------------------------------------- |\n",
    "| **Title**         | Book title                                                  |\n",
    "| **description**   | Description of the book                                     |\n",
    "| **authors**       | Name of book authors                                        |\n",
    "| **image**         | URL for book cover                                          |\n",
    "| **previewLink**   | Link to access this book on Google Books                    |\n",
    "| **publisher**     | Name of the publisher                                       |\n",
    "| **publishedDate** | The date of publish                                         |\n",
    "| **infoLink**      | Link to get more information about the book on Google Books |\n",
    "| **categories**    | Genres of books                                             |\n",
    "| **ratingsCount**  | Number of ratings and reviews for the book                  |\n",
    "\n",
    "### - Ratings Table\n",
    "\n",
    "| Column                 | Description                                 |\n",
    "| ---------------------- | ------------------------------------------- |\n",
    "| **Id**                 | The ID of the book                          |\n",
    "| **Title**              | The title of the book                       |\n",
    "| **Price**              | The price of the book                       |\n",
    "| **User_id**            | The ID of the user who rated the book       |\n",
    "| **profileName**        | The name of the user who rated the book     |\n",
    "| **review/helpfulness** | Helpfulness rating of the review (e.g. 2/3) |\n",
    "| **review/score**       | Rating from 0 to 5 for the book             |\n",
    "| **review/time**        | Time the review was given                   |\n",
    "| **review/summary**     | The summary of the text review              |\n",
    "| **review/text**        | The full text of the review                 |\n",
    "\n",
    "\n"
   ]
  },
  {
   "cell_type": "markdown",
   "metadata": {},
   "source": [
    "### Handle missing values"
   ]
  },
  {
   "cell_type": "markdown",
   "metadata": {},
   "source": [
    "1. **_Hypothesis_**: Reviews with longer text have higher helpfulness ratings.\n",
    "\n",
    "- **Missing Values**:\n",
    "    - `review/text`: set missing values as empty string\n",
    "    - `review/helpfulness`: remove the entire sample\n",
    "\n",
    "- **Data Transformation**:\n",
    "    - `review/text`: ...\n",
    "    - `review/helpfulness`: $helpfulness = \\frac{x}{y} \\sqrt(y)$\n",
    "\n",
    "2. **_Hypothesis_**: Reviews with more positive sentiment words receive higher helpfulness ratings.\n",
    "\n",
    "- **Missing Values**:\n",
    "    - `review/text`: remove the entire sample\n",
    "    - `review/helpfulness`: remove the entire sample\n",
    "\n",
    "- **Data Transformation**:\n",
    "    - `review/text`: Assign 1 to score (4, 5), 0 to score (1, 2). Create the BoW for the text. Fit a MNBC and count the number of positive and negative words. Graphical Plot.\n",
    "    - `review/helpfulness`: $helpfulness = \\frac{x}{y} \\sqrt(y)$\n",
    "\n",
    "3. **_Hypothesis_**: Reviews with higher average book ratings have higher helpfulness ratings.\n",
    "\n",
    "- **Missing Values**:\n",
    "    - `review/score`: remove the entire sample\n",
    "    - `review/helpfulness`: remove the entire sample\n",
    "\n",
    "- **Data Transformation**:\n",
    "    - `review/score`: groupBy book title and calculate the average score.\n",
    "    - `review/helpfulness`: $helpfulness = \\frac{x}{y} \\sqrt(y)$\n",
    "\n",
    "4. **_Hypothesis_**: Reviews with more descriptive summaries are perceived as more helpful.\n",
    "\n",
    "- **Missing Values**:\n",
    "    - `review/summary`: set missing values as empty string\n",
    "    - `review/helpfulness`: remove the entire sample\n",
    "\n",
    "- **Data Transformation**:\n",
    "    - `review/summary`: ...\n",
    "    - `review/helpfulness`: $helpfulness = \\frac{x}{y} \\sqrt(y)$\n",
    "\n",
    "5. **_Hypothesis_**: Reviews written by users with a history of providing helpful reviews receive higher helpfulness ratings.\n",
    "\n",
    "- **Missing Values**:\n",
    "    - `profileName`: Make a separate group for 'Anonymous' users.\n",
    "    - `review/helpfulness`: remove the entire sample\n",
    "\n",
    "- **Data Transformation**:\n",
    "    - `profileName`: Transform the helpfulness. GroupBy profileName and average the helpfulness of the reviews.\n",
    "    - `review/helpfulness`: $helpfulness = \\frac{x}{y} \\sqrt(y)$\n",
    "\n",
    "6. **Hytpothesis**: There is a relationship between the number of reviews of a specific user and the helpfulness of his reviews.\n",
    "\n",
    "- **Missing Values**:\n",
    "    - `profileName`: Make a separate group for 'Anonymous' users.\n",
    "    - `review/helpfulness`: remove the entire sample\n",
    "\n",
    "- **Data Transformation**:\n",
    "    - `profileName`: GroupBy profileName and count the reviews.\n",
    "    - `review/helpfulness`: $helpfulness = \\frac{x}{y} \\sqrt(y)$\n"
   ]
  },
  {
   "cell_type": "code",
   "execution_count": null,
   "metadata": {},
   "outputs": [],
   "source": [
    "# Fill missing values in ratings DataFrame with default values\n",
    "ratings_df = ratings_df.fillna({\"Price\": 0.0, \"review/score\": 0.0})\n",
    "\n",
    "# Fill missing values in info DataFrame with default values\n",
    "info_df = info_df.fillna({\"authors\": \"Unknown\", \"categories\": \"Unknown\"})"
   ]
  },
  {
   "cell_type": "markdown",
   "metadata": {},
   "source": [
    "### Join the two tables on the **TITLE** column"
   ]
  },
  {
   "cell_type": "code",
   "execution_count": null,
   "metadata": {},
   "outputs": [],
   "source": [
    "# Perform the join operation on the Title column\n",
    "joined_df = ratings_df.join(info_df, on=\"Title\", how=\"inner\")\n",
    "\n",
    "# Select desired columns from the joined DataFrame\n",
    "selected_columns = [\n",
    "    \"Title\", \"Price\", \"User_id\", \"profileName\",\n",
    "    \"review/helpfulness\", \"review/score\",\n",
    "    \"authors\", \"categories\"\n",
    "]\n",
    "result_df = joined_df.select(selected_columns)\n",
    "\n",
    "# Show the resulting DataFrame\n",
    "result_df.show()"
   ]
  },
  {
   "cell_type": "code",
   "execution_count": 12,
   "metadata": {},
   "outputs": [],
   "source": [
    "# Stop the SparkContext\n",
    "sc.stop()"
   ]
  }
 ],
 "metadata": {
  "kernelspec": {
   "display_name": "base",
   "language": "python",
   "name": "python3"
  },
  "language_info": {
   "codemirror_mode": {
    "name": "ipython",
    "version": 3
   },
   "file_extension": ".py",
   "mimetype": "text/x-python",
   "name": "python",
   "nbconvert_exporter": "python",
   "pygments_lexer": "ipython3",
   "version": "3.9.13"
  },
  "orig_nbformat": 4
 },
 "nbformat": 4,
 "nbformat_minor": 2
}
