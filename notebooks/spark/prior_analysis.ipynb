{
 "cells": [
  {
   "cell_type": "markdown",
   "metadata": {},
   "source": [
    "## Data Exploration with Spark\n",
    "\n",
    "---"
   ]
  },
  {
   "cell_type": "markdown",
   "metadata": {},
   "source": [
    "### Import Libraries"
   ]
  },
  {
   "cell_type": "code",
   "execution_count": 17,
   "metadata": {},
   "outputs": [],
   "source": [
    "# import libraries\n",
    "import findspark\n",
    "\n",
    "# Locate the spark installation\n",
    "findspark.init()"
   ]
  },
  {
   "cell_type": "code",
   "execution_count": 18,
   "metadata": {},
   "outputs": [],
   "source": [
    "import pandas as pd\n",
    "import pyspark as ps\n",
    "from pyspark.sql.functions import col, sum\n",
    "from pyspark.sql.types import StructType, StructField, StringType, IntegerType, FloatType\n",
    "from pyspark.sql import SparkSession\n"
   ]
  },
  {
   "cell_type": "markdown",
   "metadata": {},
   "source": [
    "### Initialize Spark"
   ]
  },
  {
   "cell_type": "code",
   "execution_count": 19,
   "metadata": {},
   "outputs": [],
   "source": [
    "# Initialize a SparkContext\n",
    "spark = SparkSession.builder.appName(\"data_cleaning\").getOrCreate()\n",
    "spark.stop()\n",
    "sc = ps.SparkContext(appName=\"prior_analysis\")"
   ]
  },
  {
   "cell_type": "markdown",
   "metadata": {},
   "source": [
    "### Connect and import data from HDFS directly into a Spark DataFrame"
   ]
  },
  {
   "cell_type": "code",
   "execution_count": 20,
   "metadata": {},
   "outputs": [],
   "source": [
    "# Initialize the Session\n",
    "spark_session = ps.sql.SparkSession(sc)\n",
    "\n",
    "# Define schema for better manipulation\n",
    "\n",
    "data_schema = StructType([\n",
    "    StructField(\"Title\", StringType(), True),\n",
    "    StructField(\"description\", StringType(), True),\n",
    "    StructField(\"authors\", StringType(), True),\n",
    "    StructField(\"image\", StringType(), True),\n",
    "    StructField(\"previewLink\", StringType(), True),\n",
    "    StructField(\"publisher\", StringType(), True),\n",
    "    StructField(\"publishedDate\", StringType(), True),\n",
    "    StructField(\"infoLink\", StringType(), True),\n",
    "    StructField(\"categories\", StringType(), True),\n",
    "    StructField(\"ratingsCount\", FloatType(), True)\n",
    "])\n",
    "\n",
    "ratings_schema = StructType([\n",
    "    StructField(\"Id\", IntegerType(), True),\n",
    "    StructField(\"Title\", StringType(), True),\n",
    "    StructField(\"Price\", FloatType(), True),\n",
    "    StructField(\"User_id\", IntegerType(), True),\n",
    "    StructField(\"profileName\", StringType(), True),\n",
    "    StructField(\"review/helpfulness\", StringType(), True),\n",
    "    StructField(\"review/score\", FloatType(), True),\n",
    "    StructField(\"review/time\", IntegerType(), True),\n",
    "    StructField(\"review/summary\", StringType(), True),\n",
    "    StructField(\"review/text\", StringType(), True)\n",
    "])\n",
    "\n",
    "\n",
    "# Load the data\n",
    "\n",
    "df_data = spark_session.read.option('escape','\"').csv('hdfs://localhost:9900/user/book_reviews/books_data.csv', header=True, schema=data_schema)\n",
    "df_ratings = spark_session.read.option('escape','\"').csv('hdfs://localhost:9900/user/book_reviews/books_rating.csv', header=True, schema=ratings_schema)"
   ]
  },
  {
   "cell_type": "markdown",
   "metadata": {},
   "source": [
    "### Data Exploration\n",
    "\n",
    "- Show the first 5 rows of the data\n",
    "- Investigate the inferred schema of the data\n",
    "- Discover data dimensionality\n",
    "- Show some statistics\n",
    "- Discover null values\n",
    "- Discover the number of distinct values in each column"
   ]
  },
  {
   "cell_type": "code",
   "execution_count": 21,
   "metadata": {},
   "outputs": [
    {
     "name": "stdout",
     "output_type": "stream",
     "text": [
      "Data Table: \n",
      "\n"
     ]
    },
    {
     "data": {
      "text/html": [
       "<div>\n",
       "<style scoped>\n",
       "    .dataframe tbody tr th:only-of-type {\n",
       "        vertical-align: middle;\n",
       "    }\n",
       "\n",
       "    .dataframe tbody tr th {\n",
       "        vertical-align: top;\n",
       "    }\n",
       "\n",
       "    .dataframe thead th {\n",
       "        text-align: right;\n",
       "    }\n",
       "</style>\n",
       "<table border=\"1\" class=\"dataframe\">\n",
       "  <thead>\n",
       "    <tr style=\"text-align: right;\">\n",
       "      <th></th>\n",
       "      <th>Title</th>\n",
       "      <th>description</th>\n",
       "      <th>authors</th>\n",
       "      <th>image</th>\n",
       "      <th>previewLink</th>\n",
       "      <th>publisher</th>\n",
       "      <th>publishedDate</th>\n",
       "      <th>infoLink</th>\n",
       "      <th>categories</th>\n",
       "      <th>ratingsCount</th>\n",
       "    </tr>\n",
       "  </thead>\n",
       "  <tbody>\n",
       "    <tr>\n",
       "      <th>0</th>\n",
       "      <td>Its Only Art If Its Well Hung!</td>\n",
       "      <td>None</td>\n",
       "      <td>['Julie Strain']</td>\n",
       "      <td>http://books.google.com/books/content?id=DykPA...</td>\n",
       "      <td>http://books.google.nl/books?id=DykPAAAACAAJ&amp;d...</td>\n",
       "      <td>None</td>\n",
       "      <td>1996</td>\n",
       "      <td>http://books.google.nl/books?id=DykPAAAACAAJ&amp;d...</td>\n",
       "      <td>['Comics &amp; Graphic Novels']</td>\n",
       "      <td>NaN</td>\n",
       "    </tr>\n",
       "    <tr>\n",
       "      <th>1</th>\n",
       "      <td>Dr. Seuss: American Icon</td>\n",
       "      <td>Philip Nel takes a fascinating look into the k...</td>\n",
       "      <td>['Philip Nel']</td>\n",
       "      <td>http://books.google.com/books/content?id=IjvHQ...</td>\n",
       "      <td>http://books.google.nl/books?id=IjvHQsCn_pgC&amp;p...</td>\n",
       "      <td>A&amp;C Black</td>\n",
       "      <td>2005-01-01</td>\n",
       "      <td>http://books.google.nl/books?id=IjvHQsCn_pgC&amp;d...</td>\n",
       "      <td>['Biography &amp; Autobiography']</td>\n",
       "      <td>NaN</td>\n",
       "    </tr>\n",
       "    <tr>\n",
       "      <th>2</th>\n",
       "      <td>Wonderful Worship in Smaller Churches</td>\n",
       "      <td>This resource includes twelve principles in un...</td>\n",
       "      <td>['David R. Ray']</td>\n",
       "      <td>http://books.google.com/books/content?id=2tsDA...</td>\n",
       "      <td>http://books.google.nl/books?id=2tsDAAAACAAJ&amp;d...</td>\n",
       "      <td>None</td>\n",
       "      <td>2000</td>\n",
       "      <td>http://books.google.nl/books?id=2tsDAAAACAAJ&amp;d...</td>\n",
       "      <td>['Religion']</td>\n",
       "      <td>NaN</td>\n",
       "    </tr>\n",
       "    <tr>\n",
       "      <th>3</th>\n",
       "      <td>Whispers of the Wicked Saints</td>\n",
       "      <td>Julia Thomas finds her life spinning out of co...</td>\n",
       "      <td>['Veronica Haddon']</td>\n",
       "      <td>http://books.google.com/books/content?id=aRSIg...</td>\n",
       "      <td>http://books.google.nl/books?id=aRSIgJlq6JwC&amp;d...</td>\n",
       "      <td>iUniverse</td>\n",
       "      <td>2005-02</td>\n",
       "      <td>http://books.google.nl/books?id=aRSIgJlq6JwC&amp;d...</td>\n",
       "      <td>['Fiction']</td>\n",
       "      <td>NaN</td>\n",
       "    </tr>\n",
       "    <tr>\n",
       "      <th>4</th>\n",
       "      <td>Nation Dance: Religion, Identity and Cultural ...</td>\n",
       "      <td>None</td>\n",
       "      <td>['Edward Long']</td>\n",
       "      <td>None</td>\n",
       "      <td>http://books.google.nl/books?id=399SPgAACAAJ&amp;d...</td>\n",
       "      <td>None</td>\n",
       "      <td>2003-03-01</td>\n",
       "      <td>http://books.google.nl/books?id=399SPgAACAAJ&amp;d...</td>\n",
       "      <td>None</td>\n",
       "      <td>NaN</td>\n",
       "    </tr>\n",
       "  </tbody>\n",
       "</table>\n",
       "</div>"
      ],
      "text/plain": [
       "                                               Title  \\\n",
       "0                     Its Only Art If Its Well Hung!   \n",
       "1                           Dr. Seuss: American Icon   \n",
       "2              Wonderful Worship in Smaller Churches   \n",
       "3                      Whispers of the Wicked Saints   \n",
       "4  Nation Dance: Religion, Identity and Cultural ...   \n",
       "\n",
       "                                         description              authors  \\\n",
       "0                                               None     ['Julie Strain']   \n",
       "1  Philip Nel takes a fascinating look into the k...       ['Philip Nel']   \n",
       "2  This resource includes twelve principles in un...     ['David R. Ray']   \n",
       "3  Julia Thomas finds her life spinning out of co...  ['Veronica Haddon']   \n",
       "4                                               None      ['Edward Long']   \n",
       "\n",
       "                                               image  \\\n",
       "0  http://books.google.com/books/content?id=DykPA...   \n",
       "1  http://books.google.com/books/content?id=IjvHQ...   \n",
       "2  http://books.google.com/books/content?id=2tsDA...   \n",
       "3  http://books.google.com/books/content?id=aRSIg...   \n",
       "4                                               None   \n",
       "\n",
       "                                         previewLink  publisher publishedDate  \\\n",
       "0  http://books.google.nl/books?id=DykPAAAACAAJ&d...       None          1996   \n",
       "1  http://books.google.nl/books?id=IjvHQsCn_pgC&p...  A&C Black    2005-01-01   \n",
       "2  http://books.google.nl/books?id=2tsDAAAACAAJ&d...       None          2000   \n",
       "3  http://books.google.nl/books?id=aRSIgJlq6JwC&d...  iUniverse       2005-02   \n",
       "4  http://books.google.nl/books?id=399SPgAACAAJ&d...       None    2003-03-01   \n",
       "\n",
       "                                            infoLink  \\\n",
       "0  http://books.google.nl/books?id=DykPAAAACAAJ&d...   \n",
       "1  http://books.google.nl/books?id=IjvHQsCn_pgC&d...   \n",
       "2  http://books.google.nl/books?id=2tsDAAAACAAJ&d...   \n",
       "3  http://books.google.nl/books?id=aRSIgJlq6JwC&d...   \n",
       "4  http://books.google.nl/books?id=399SPgAACAAJ&d...   \n",
       "\n",
       "                      categories  ratingsCount  \n",
       "0    ['Comics & Graphic Novels']           NaN  \n",
       "1  ['Biography & Autobiography']           NaN  \n",
       "2                   ['Religion']           NaN  \n",
       "3                    ['Fiction']           NaN  \n",
       "4                           None           NaN  "
      ]
     },
     "execution_count": 21,
     "metadata": {},
     "output_type": "execute_result"
    }
   ],
   "source": [
    "# Show the data\n",
    "print('Data Table: \\n')\n",
    "df_data.limit(5).toPandas()"
   ]
  },
  {
   "cell_type": "code",
   "execution_count": 22,
   "metadata": {},
   "outputs": [
    {
     "name": "stdout",
     "output_type": "stream",
     "text": [
      "Ratings Table: \n",
      "\n"
     ]
    },
    {
     "name": "stderr",
     "output_type": "stream",
     "text": [
      "23/09/05 00:19:08 WARN CSVHeaderChecker: Number of column in CSV header is not equal to number of fields in the schema:\n",
      " Header length: 9, schema size: 10\n",
      "CSV file: hdfs://localhost:9900/user/book_reviews/books_rating.csv\n"
     ]
    },
    {
     "data": {
      "text/html": [
       "<div>\n",
       "<style scoped>\n",
       "    .dataframe tbody tr th:only-of-type {\n",
       "        vertical-align: middle;\n",
       "    }\n",
       "\n",
       "    .dataframe tbody tr th {\n",
       "        vertical-align: top;\n",
       "    }\n",
       "\n",
       "    .dataframe thead th {\n",
       "        text-align: right;\n",
       "    }\n",
       "</style>\n",
       "<table border=\"1\" class=\"dataframe\">\n",
       "  <thead>\n",
       "    <tr style=\"text-align: right;\">\n",
       "      <th></th>\n",
       "      <th>Id</th>\n",
       "      <th>Title</th>\n",
       "      <th>Price</th>\n",
       "      <th>User_id</th>\n",
       "      <th>profileName</th>\n",
       "      <th>review/helpfulness</th>\n",
       "      <th>review/score</th>\n",
       "      <th>review/time</th>\n",
       "      <th>review/summary</th>\n",
       "      <th>review/text</th>\n",
       "    </tr>\n",
       "  </thead>\n",
       "  <tbody>\n",
       "    <tr>\n",
       "      <th>0</th>\n",
       "      <td>NaN</td>\n",
       "      <td>None</td>\n",
       "      <td>NaN</td>\n",
       "      <td>NaN</td>\n",
       "      <td>7/7</td>\n",
       "      <td>4.0</td>\n",
       "      <td>9.406368e+08</td>\n",
       "      <td>NaN</td>\n",
       "      <td>This is only for Julie Strain fans. It's a col...</td>\n",
       "      <td>None</td>\n",
       "    </tr>\n",
       "    <tr>\n",
       "      <th>1</th>\n",
       "      <td>NaN</td>\n",
       "      <td>None</td>\n",
       "      <td>NaN</td>\n",
       "      <td>NaN</td>\n",
       "      <td>10/10</td>\n",
       "      <td>5.0</td>\n",
       "      <td>1.095725e+09</td>\n",
       "      <td>NaN</td>\n",
       "      <td>I don't care much for Dr. Seuss but after read...</td>\n",
       "      <td>None</td>\n",
       "    </tr>\n",
       "    <tr>\n",
       "      <th>2</th>\n",
       "      <td>NaN</td>\n",
       "      <td>None</td>\n",
       "      <td>NaN</td>\n",
       "      <td>NaN</td>\n",
       "      <td>10/11</td>\n",
       "      <td>5.0</td>\n",
       "      <td>1.078790e+09</td>\n",
       "      <td>NaN</td>\n",
       "      <td>\"If people become the books they read and if \\...</td>\n",
       "      <td>\\\" then Dr. Seuss (Theodor Seuss Geisel) is th...</td>\n",
       "    </tr>\n",
       "    <tr>\n",
       "      <th>3</th>\n",
       "      <td>NaN</td>\n",
       "      <td>None</td>\n",
       "      <td>NaN</td>\n",
       "      <td>NaN</td>\n",
       "      <td>7/7</td>\n",
       "      <td>4.0</td>\n",
       "      <td>1.090714e+09</td>\n",
       "      <td>NaN</td>\n",
       "      <td>Theodore Seuss Geisel (1904-1991), aka &amp;quot;D...</td>\n",
       "      <td>None</td>\n",
       "    </tr>\n",
       "    <tr>\n",
       "      <th>4</th>\n",
       "      <td>NaN</td>\n",
       "      <td>None</td>\n",
       "      <td>NaN</td>\n",
       "      <td>NaN</td>\n",
       "      <td>3/3</td>\n",
       "      <td>4.0</td>\n",
       "      <td>1.107994e+09</td>\n",
       "      <td>NaN</td>\n",
       "      <td>\"Philip Nel - Dr. Seuss: American IconThis is ...</td>\n",
       "      <td>but based on Seuss' background (he started ou...</td>\n",
       "    </tr>\n",
       "  </tbody>\n",
       "</table>\n",
       "</div>"
      ],
      "text/plain": [
       "   Id Title  Price  User_id profileName review/helpfulness  review/score  \\\n",
       "0 NaN  None    NaN      NaN         7/7                4.0  9.406368e+08   \n",
       "1 NaN  None    NaN      NaN       10/10                5.0  1.095725e+09   \n",
       "2 NaN  None    NaN      NaN       10/11                5.0  1.078790e+09   \n",
       "3 NaN  None    NaN      NaN         7/7                4.0  1.090714e+09   \n",
       "4 NaN  None    NaN      NaN         3/3                4.0  1.107994e+09   \n",
       "\n",
       "   review/time                                     review/summary  \\\n",
       "0          NaN  This is only for Julie Strain fans. It's a col...   \n",
       "1          NaN  I don't care much for Dr. Seuss but after read...   \n",
       "2          NaN  \"If people become the books they read and if \\...   \n",
       "3          NaN  Theodore Seuss Geisel (1904-1991), aka &quot;D...   \n",
       "4          NaN  \"Philip Nel - Dr. Seuss: American IconThis is ...   \n",
       "\n",
       "                                         review/text  \n",
       "0                                               None  \n",
       "1                                               None  \n",
       "2  \\\" then Dr. Seuss (Theodor Seuss Geisel) is th...  \n",
       "3                                               None  \n",
       "4   but based on Seuss' background (he started ou...  "
      ]
     },
     "execution_count": 22,
     "metadata": {},
     "output_type": "execute_result"
    }
   ],
   "source": [
    "print('Ratings Table: \\n')\n",
    "df_ratings.limit(5).toPandas()"
   ]
  },
  {
   "cell_type": "code",
   "execution_count": 23,
   "metadata": {},
   "outputs": [
    {
     "name": "stdout",
     "output_type": "stream",
     "text": [
      "Data Table Schema: \n",
      "\n",
      "root\n",
      " |-- Title: string (nullable = true)\n",
      " |-- description: string (nullable = true)\n",
      " |-- authors: string (nullable = true)\n",
      " |-- image: string (nullable = true)\n",
      " |-- previewLink: string (nullable = true)\n",
      " |-- publisher: string (nullable = true)\n",
      " |-- publishedDate: string (nullable = true)\n",
      " |-- infoLink: string (nullable = true)\n",
      " |-- categories: string (nullable = true)\n",
      " |-- ratingsCount: float (nullable = true)\n",
      "\n",
      "Ratings Table Schema: \n",
      "\n",
      "root\n",
      " |-- Id: integer (nullable = true)\n",
      " |-- Title: string (nullable = true)\n",
      " |-- Price: float (nullable = true)\n",
      " |-- User_id: integer (nullable = true)\n",
      " |-- profileName: string (nullable = true)\n",
      " |-- review/helpfulness: string (nullable = true)\n",
      " |-- review/score: float (nullable = true)\n",
      " |-- review/time: integer (nullable = true)\n",
      " |-- review/summary: string (nullable = true)\n",
      " |-- review/text: string (nullable = true)\n",
      "\n"
     ]
    }
   ],
   "source": [
    "#Investigate the schema\n",
    "print('Data Table Schema: \\n')\n",
    "df_data.printSchema()\n",
    "\n",
    "print('Ratings Table Schema: \\n')\n",
    "df_ratings.printSchema()"
   ]
  },
  {
   "cell_type": "code",
   "execution_count": 24,
   "metadata": {},
   "outputs": [
    {
     "name": "stdout",
     "output_type": "stream",
     "text": [
      "Data Table Dimensionality: (212404, 10)\n"
     ]
    },
    {
     "name": "stderr",
     "output_type": "stream",
     "text": [
      "                                                                                \r"
     ]
    },
    {
     "name": "stdout",
     "output_type": "stream",
     "text": [
      "Ratings Table Dimensionality: (3000000, 10)\n",
      "Data Table Summary: \n",
      "\n"
     ]
    },
    {
     "name": "stderr",
     "output_type": "stream",
     "text": [
      "23/09/05 00:19:12 WARN CSVHeaderChecker: Number of column in CSV header is not equal to number of fields in the schema:\n",
      " Header length: 9, schema size: 10\n",
      "CSV file: hdfs://localhost:9900/user/book_reviews/books_rating.csv\n"
     ]
    },
    {
     "name": "stdout",
     "output_type": "stream",
     "text": [
      "+-------+--------------------+--------------------+--------------------+--------------------+--------------------+--------------------+------------------+--------------------+--------------------+------------------+\n",
      "|summary|               Title|         description|             authors|               image|         previewLink|           publisher|     publishedDate|            infoLink|          categories|      ratingsCount|\n",
      "+-------+--------------------+--------------------+--------------------+--------------------+--------------------+--------------------+------------------+--------------------+--------------------+------------------+\n",
      "|  count|              212403|              143962|              180991|              160329|              188568|              136518|            187099|              188568|              171205|             49752|\n",
      "|   mean|   3823.672941176471|  1.4285714285714286|                null|                null|                null|             51495.0|1983.8165452207459|                null|                null| 21.25297475478373|\n",
      "| stddev|  10717.999589636447|  0.9759000729485332|                null|                null|                null|                null| 32.53827334249167|                null|                null|201.34043063142784|\n",
      "|    min|\" Film technique,...|!! ALL NEW CAMPGR...|[\"'Abd al-Samih A...|http://books.goog...|http://books.goog...|\"O'Reilly Media, ...|         101-01-01|http://books.goog...|[\"'Abd al-Bah̄a, ...|               1.0|\n",
      "|    max|you can do anythi...|�Una novela llam�...|        ['편집부편']|http://books.goog...|http://books.goog...|                펜립|              20??|https://play.goog...|         ['Śaivism']|            4895.0|\n",
      "+-------+--------------------+--------------------+--------------------+--------------------+--------------------+--------------------+------------------+--------------------+--------------------+------------------+\n",
      "\n",
      "Ratings Table Summary: \n",
      "\n"
     ]
    },
    {
     "name": "stderr",
     "output_type": "stream",
     "text": [
      "[Stage 11:==================================================>     (19 + 2) / 21]\r"
     ]
    },
    {
     "name": "stdout",
     "output_type": "stream",
     "text": [
      "+-------+------------------+--------------------+-----------------+--------------------+-------------------+--------------------+--------------------+--------------------+--------------------+--------------------+\n",
      "|summary|                Id|               Title|            Price|             User_id|        profileName|  review/helpfulness|        review/score|         review/time|      review/summary|         review/text|\n",
      "+-------+------------------+--------------------+-----------------+--------------------+-------------------+--------------------+--------------------+--------------------+--------------------+--------------------+\n",
      "|  count|              4023|              482638|              367|                 445|            2999074|             2999696|             2994995|               13848|             2999721|              518238|\n",
      "|   mean|2014.2972905791698|  21.768177001533367|15.84792918795136|1.8463986244269663E8|4.690351793452941E8|  1657.0094941017894|1.1270489306820295E9|1.1249845812806182E9|  9.95368319174848E8| 6.588759136037931E8|\n",
      "| stddev|1536.3429206968256|  26.211846515528052|20.58792077198156| 4.387596573158609E8|6.101627800230923E8|  1427614.3801452527|1.6715255226446676E8|2.4177784807160574E8| 4.227222142880359E8| 5.789750982222503E8|\n",
      "|    min|                 9| (Cosy corner ser...|             1.49|                   0|      #1 Bestse...\"|     & Algorithms\\\"\"|                -1.0|                   0| & Very Complete ...|                    |\n",
      "|    max|             45301|    it's adventurous|            199.0|          2125283442|                 xo|well, i had a har...|         1.3623552E9|          1362268800|~~~~~~~~~~~~~~~~~...|~Veggies Changed ...|\n",
      "+-------+------------------+--------------------+-----------------+--------------------+-------------------+--------------------+--------------------+--------------------+--------------------+--------------------+\n",
      "\n"
     ]
    },
    {
     "name": "stderr",
     "output_type": "stream",
     "text": [
      "                                                                                \r"
     ]
    }
   ],
   "source": [
    "# Check dimensionality\n",
    "print(f'Data Table Dimensionality: {df_data.count(), len(df_data.columns)}')\n",
    "print(f'Ratings Table Dimensionality: {df_ratings.count(), len(df_ratings.columns)}')\n",
    "\n",
    "# Statistical summary\n",
    "print('Data Table Summary: \\n')\n",
    "df_data.describe().show()\n",
    "\n",
    "print('Ratings Table Summary: \\n')\n",
    "df_ratings.describe().show()"
   ]
  },
  {
   "cell_type": "code",
   "execution_count": 25,
   "metadata": {},
   "outputs": [
    {
     "name": "stderr",
     "output_type": "stream",
     "text": [
      "23/09/05 00:19:43 WARN CSVHeaderChecker: CSV header does not conform to the schema.\n",
      " Header: Title\n",
      " Schema: Id\n",
      "Expected: Id but found: Title\n",
      "CSV file: hdfs://localhost:9900/user/book_reviews/books_rating.csv\n",
      "23/09/05 00:19:52 WARN CSVHeaderChecker: CSV header does not conform to the schema.\n",
      " Header: Price\n",
      " Schema: Title\n",
      "Expected: Title but found: Price\n",
      "CSV file: hdfs://localhost:9900/user/book_reviews/books_rating.csv\n",
      "23/09/05 00:19:56 WARN CSVHeaderChecker: CSV header does not conform to the schema.\n",
      " Header: User_id\n",
      " Schema: Price\n",
      "Expected: Price but found: User_id\n",
      "CSV file: hdfs://localhost:9900/user/book_reviews/books_rating.csv\n",
      "23/09/05 00:20:00 WARN CSVHeaderChecker: CSV header does not conform to the schema.\n",
      " Header: profileName\n",
      " Schema: User_id\n",
      "Expected: User_id but found: profileName\n",
      "CSV file: hdfs://localhost:9900/user/book_reviews/books_rating.csv\n",
      "23/09/05 00:20:08 WARN CSVHeaderChecker: CSV header does not conform to the schema.\n",
      " Header: review/helpfulness\n",
      " Schema: profileName\n",
      "Expected: profileName but found: review/helpfulness\n",
      "CSV file: hdfs://localhost:9900/user/book_reviews/books_rating.csv\n",
      "23/09/05 00:20:11 WARN CSVHeaderChecker: CSV header does not conform to the schema.\n",
      " Header: review/score\n",
      " Schema: review/helpfulness\n",
      "Expected: review/helpfulness but found: review/score\n",
      "CSV file: hdfs://localhost:9900/user/book_reviews/books_rating.csv\n",
      "23/09/05 00:20:15 WARN CSVHeaderChecker: CSV header does not conform to the schema.\n",
      " Header: review/time\n",
      " Schema: review/score\n",
      "Expected: review/score but found: review/time\n",
      "CSV file: hdfs://localhost:9900/user/book_reviews/books_rating.csv\n",
      "23/09/05 00:20:19 WARN CSVHeaderChecker: CSV header does not conform to the schema.\n",
      " Header: review/summary\n",
      " Schema: review/time\n",
      "Expected: review/time but found: review/summary\n",
      "CSV file: hdfs://localhost:9900/user/book_reviews/books_rating.csv\n",
      "23/09/05 00:20:27 WARN CSVHeaderChecker: CSV header does not conform to the schema.\n",
      " Header: review/text\n",
      " Schema: review/summary\n",
      "Expected: review/summary but found: review/text\n",
      "CSV file: hdfs://localhost:9900/user/book_reviews/books_rating.csv\n",
      "23/09/05 00:20:43 WARN CSVHeaderChecker: CSV header does not conform to the schema.\n",
      " Header: \n",
      " Schema: review/text\n",
      "Expected: review/text but found: \n",
      "CSV file: hdfs://localhost:9900/user/book_reviews/books_rating.csv\n",
      "                                                                                \r"
     ]
    }
   ],
   "source": [
    "import numpy as np\n",
    "\n",
    "# Check for number of distinct values for each column in %\n",
    "n_distinct_list = []\n",
    "\n",
    "for c in df_data.columns:\n",
    "    n_distinct = df_data.select(c).distinct().count()\n",
    "    n_distinct_list.append(n_distinct)\n",
    "\n",
    "df_data_pandas = pd.DataFrame(index = df_data.columns, columns = ['N. Distinct Values'], data = (np.array((n_distinct_list))/df_data.count())*100)\n",
    "\n",
    "n_distinct_list = []\n",
    "\n",
    "for c in df_ratings.columns:\n",
    "    n_distinct = df_ratings.select(c).distinct().count()\n",
    "    n_distinct_list.append(n_distinct)\n",
    "\n",
    "df_ratings_pandas = pd.DataFrame(index = df_ratings.columns, columns = ['N. Distinct Values'], data = (np.array((n_distinct_list))/df_ratings.count())*100)"
   ]
  },
  {
   "cell_type": "code",
   "execution_count": 26,
   "metadata": {},
   "outputs": [
    {
     "name": "stderr",
     "output_type": "stream",
     "text": [
      "23/09/05 00:20:50 WARN CSVHeaderChecker: Number of column in CSV header is not equal to number of fields in the schema:\n",
      " Header length: 9, schema size: 10\n",
      "CSV file: hdfs://localhost:9900/user/book_reviews/books_rating.csv\n",
      "                                                                                \r"
     ]
    }
   ],
   "source": [
    "from pyspark.sql.functions import col, count, when\n",
    "\n",
    "# Check for missing values\n",
    "df_data_pandas_tmp = df_data.select([sum(col(c).isNull().cast('int')).alias(c) for c in df_data.columns]).toPandas()\n",
    "# Add to the pandas summary dataframe\n",
    "df_data_pandas['N. Missing Values'] = (df_data_pandas_tmp.loc[0, :]/df_data.count()*100).tolist()\n",
    "\n",
    "# Check for missing values\n",
    "df_ratings_pandas_tmp = df_ratings.select([sum(col(c).isNull().cast('int')).alias(c) for c in df_ratings.columns]).toPandas()\n",
    "# Add to the pandas summary dataframe\n",
    "df_ratings_pandas['N. Missing Values'] = (df_ratings_pandas_tmp.loc[0, :]/df_ratings.count()*100).tolist()"
   ]
  },
  {
   "cell_type": "code",
   "execution_count": 27,
   "metadata": {},
   "outputs": [
    {
     "data": {
      "text/html": [
       "<div>\n",
       "<style scoped>\n",
       "    .dataframe tbody tr th:only-of-type {\n",
       "        vertical-align: middle;\n",
       "    }\n",
       "\n",
       "    .dataframe tbody tr th {\n",
       "        vertical-align: top;\n",
       "    }\n",
       "\n",
       "    .dataframe thead th {\n",
       "        text-align: right;\n",
       "    }\n",
       "</style>\n",
       "<table border=\"1\" class=\"dataframe\">\n",
       "  <thead>\n",
       "    <tr style=\"text-align: right;\">\n",
       "      <th></th>\n",
       "      <th>N. Distinct Values</th>\n",
       "      <th>N. Missing Values</th>\n",
       "    </tr>\n",
       "  </thead>\n",
       "  <tbody>\n",
       "    <tr>\n",
       "      <th>Title</th>\n",
       "      <td>100.000000</td>\n",
       "      <td>0.000471</td>\n",
       "    </tr>\n",
       "    <tr>\n",
       "      <th>description</th>\n",
       "      <td>62.723395</td>\n",
       "      <td>32.222557</td>\n",
       "    </tr>\n",
       "    <tr>\n",
       "      <th>authors</th>\n",
       "      <td>59.923071</td>\n",
       "      <td>14.789270</td>\n",
       "    </tr>\n",
       "    <tr>\n",
       "      <th>image</th>\n",
       "      <td>70.332009</td>\n",
       "      <td>24.516958</td>\n",
       "    </tr>\n",
       "    <tr>\n",
       "      <th>previewLink</th>\n",
       "      <td>88.557654</td>\n",
       "      <td>11.222011</td>\n",
       "    </tr>\n",
       "    <tr>\n",
       "      <th>publisher</th>\n",
       "      <td>7.540818</td>\n",
       "      <td>35.727199</td>\n",
       "    </tr>\n",
       "    <tr>\n",
       "      <th>publishedDate</th>\n",
       "      <td>5.453287</td>\n",
       "      <td>11.913617</td>\n",
       "    </tr>\n",
       "    <tr>\n",
       "      <th>infoLink</th>\n",
       "      <td>86.866067</td>\n",
       "      <td>11.222011</td>\n",
       "    </tr>\n",
       "    <tr>\n",
       "      <th>categories</th>\n",
       "      <td>5.124197</td>\n",
       "      <td>19.396527</td>\n",
       "    </tr>\n",
       "    <tr>\n",
       "      <th>ratingsCount</th>\n",
       "      <td>0.225514</td>\n",
       "      <td>76.576712</td>\n",
       "    </tr>\n",
       "  </tbody>\n",
       "</table>\n",
       "</div>"
      ],
      "text/plain": [
       "               N. Distinct Values  N. Missing Values\n",
       "Title                  100.000000           0.000471\n",
       "description             62.723395          32.222557\n",
       "authors                 59.923071          14.789270\n",
       "image                   70.332009          24.516958\n",
       "previewLink             88.557654          11.222011\n",
       "publisher                7.540818          35.727199\n",
       "publishedDate            5.453287          11.913617\n",
       "infoLink                86.866067          11.222011\n",
       "categories               5.124197          19.396527\n",
       "ratingsCount             0.225514          76.576712"
      ]
     },
     "execution_count": 27,
     "metadata": {},
     "output_type": "execute_result"
    }
   ],
   "source": [
    "df_data_pandas"
   ]
  },
  {
   "cell_type": "code",
   "execution_count": 28,
   "metadata": {},
   "outputs": [
    {
     "data": {
      "text/html": [
       "<div>\n",
       "<style scoped>\n",
       "    .dataframe tbody tr th:only-of-type {\n",
       "        vertical-align: middle;\n",
       "    }\n",
       "\n",
       "    .dataframe tbody tr th {\n",
       "        vertical-align: top;\n",
       "    }\n",
       "\n",
       "    .dataframe thead th {\n",
       "        text-align: right;\n",
       "    }\n",
       "</style>\n",
       "<table border=\"1\" class=\"dataframe\">\n",
       "  <thead>\n",
       "    <tr style=\"text-align: right;\">\n",
       "      <th></th>\n",
       "      <th>N. Distinct Values</th>\n",
       "      <th>N. Missing Values</th>\n",
       "    </tr>\n",
       "  </thead>\n",
       "  <tbody>\n",
       "    <tr>\n",
       "      <th>Id</th>\n",
       "      <td>0.000567</td>\n",
       "      <td>99.865900</td>\n",
       "    </tr>\n",
       "    <tr>\n",
       "      <th>Title</th>\n",
       "      <td>0.212967</td>\n",
       "      <td>83.912067</td>\n",
       "    </tr>\n",
       "    <tr>\n",
       "      <th>Price</th>\n",
       "      <td>0.001167</td>\n",
       "      <td>99.987767</td>\n",
       "    </tr>\n",
       "    <tr>\n",
       "      <th>User_id</th>\n",
       "      <td>0.006733</td>\n",
       "      <td>99.985167</td>\n",
       "    </tr>\n",
       "    <tr>\n",
       "      <th>profileName</th>\n",
       "      <td>0.541467</td>\n",
       "      <td>0.030867</td>\n",
       "    </tr>\n",
       "    <tr>\n",
       "      <th>review/helpfulness</th>\n",
       "      <td>0.071067</td>\n",
       "      <td>0.010133</td>\n",
       "    </tr>\n",
       "    <tr>\n",
       "      <th>review/score</th>\n",
       "      <td>0.209267</td>\n",
       "      <td>0.166833</td>\n",
       "    </tr>\n",
       "    <tr>\n",
       "      <th>review/time</th>\n",
       "      <td>0.134167</td>\n",
       "      <td>99.538400</td>\n",
       "    </tr>\n",
       "    <tr>\n",
       "      <th>review/summary</th>\n",
       "      <td>68.648700</td>\n",
       "      <td>0.009300</td>\n",
       "    </tr>\n",
       "    <tr>\n",
       "      <th>review/text</th>\n",
       "      <td>11.199633</td>\n",
       "      <td>82.725400</td>\n",
       "    </tr>\n",
       "  </tbody>\n",
       "</table>\n",
       "</div>"
      ],
      "text/plain": [
       "                    N. Distinct Values  N. Missing Values\n",
       "Id                            0.000567          99.865900\n",
       "Title                         0.212967          83.912067\n",
       "Price                         0.001167          99.987767\n",
       "User_id                       0.006733          99.985167\n",
       "profileName                   0.541467           0.030867\n",
       "review/helpfulness            0.071067           0.010133\n",
       "review/score                  0.209267           0.166833\n",
       "review/time                   0.134167          99.538400\n",
       "review/summary               68.648700           0.009300\n",
       "review/text                  11.199633          82.725400"
      ]
     },
     "execution_count": 28,
     "metadata": {},
     "output_type": "execute_result"
    }
   ],
   "source": [
    "df_ratings_pandas"
   ]
  },
  {
   "cell_type": "code",
   "execution_count": 29,
   "metadata": {},
   "outputs": [
    {
     "data": {
      "text/plain": [
       "<Axes: title={'center': 'Ratings Table Summary'}, ylabel='Percentage'>"
      ]
     },
     "execution_count": 29,
     "metadata": {},
     "output_type": "execute_result"
    },
    {
     "data": {
      "image/png": "[encoded data removed]",
      "text/plain": [
       "<Figure size 640x480 with 1 Axes>"
      ]
     },
     "metadata": {},
     "output_type": "display_data"
    },
    {
     "data": {
      "image/png": "[encoded data removed]",
      "text/plain": [
       "<Figure size 640x480 with 1 Axes>"
      ]
     },
     "metadata": {},
     "output_type": "display_data"
    }
   ],
   "source": [
    "#df_data_pandas.set_index('Column', inplace=True)\n",
    "df_data_pandas.plot(title='Data Table Summary', kind='bar', ylabel='Percentage')\n",
    "\n",
    "#df_ratings_pandas.set_index('Column', inplace=True)\n",
    "df_ratings_pandas.plot(title='Ratings Table Summary', kind='bar', ylabel='Percentage')"
   ]
  },
  {
   "cell_type": "code",
   "execution_count": 32,
   "metadata": {},
   "outputs": [],
   "source": [
    "spark_session.stop()"
   ]
  }
 ],
 "metadata": {
  "kernelspec": {
   "display_name": "base",
   "language": "python",
   "name": "python3"
  },
  "language_info": {
   "codemirror_mode": {
    "name": "ipython",
    "version": 3
   },
   "file_extension": ".py",
   "mimetype": "text/x-python",
   "name": "python",
   "nbconvert_exporter": "python",
   "pygments_lexer": "ipython3",
   "version": "3.11.4"
  },
  "orig_nbformat": 4
 },
 "nbformat": 4,
 "nbformat_minor": 2
}
