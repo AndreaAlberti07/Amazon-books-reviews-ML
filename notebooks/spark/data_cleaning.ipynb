{
 "cells": [
  {
   "cell_type": "markdown",
   "metadata": {},
   "source": [
    "## Data Cleaning with spark\n",
    "### in this notebook the useless columns will be removed\n",
    "\n",
    "### **PLEASE NOTE :**  \n",
    "### Since this script stores the results in hadoop, execute it only once, otherwise an error will be thrown\n",
    "\n",
    "---"
   ]
  },
  {
   "cell_type": "markdown",
   "metadata": {},
   "source": [
    "### Import Libraries"
   ]
  },
  {
   "cell_type": "code",
   "execution_count": 1,
   "metadata": {},
   "outputs": [],
   "source": [
    "# import libraries\n",
    "import pandas as pd\n",
    "import pyspark as ps\n",
    "import findspark\n",
    "import string\n",
    "\n",
    "from pyspark.sql.functions import col, sum,split, regexp_replace,lit,lower\n",
    "from pyspark.sql.types import StructType, StructField, StringType, IntegerType, FloatType\n",
    "from pyspark.sql import SparkSession\n"
   ]
  },
  {
   "cell_type": "markdown",
   "metadata": {},
   "source": [
    "### Initialize Spark"
   ]
  },
  {
   "cell_type": "code",
   "execution_count": 2,
   "metadata": {},
   "outputs": [
    {
     "name": "stderr",
     "output_type": "stream",
     "text": [
      "Setting default log level to \"WARN\".\n",
      "To adjust logging level use sc.setLogLevel(newLevel). For SparkR, use setLogLevel(newLevel).\n",
      "23/09/16 10:41:22 WARN NativeCodeLoader: Unable to load native-hadoop library for your platform... using builtin-java classes where applicable\n"
     ]
    }
   ],
   "source": [
    "# Locate the spark installation\n",
    "findspark.init()\n",
    "\n",
    "# Initialize a SparkContext\n",
    "spark_session = SparkSession.builder.appName(\"data_cleaning\").getOrCreate()\n"
   ]
  },
  {
   "cell_type": "markdown",
   "metadata": {},
   "source": [
    "### Connect and import data from HDFS directly into a Spark DataFrame"
   ]
  },
  {
   "cell_type": "code",
   "execution_count": 3,
   "metadata": {},
   "outputs": [],
   "source": [
    "# Define schema for better manipulation\n",
    "\n",
    "data_schema = StructType([\n",
    "    StructField(\"Title\", StringType(), True),\n",
    "    StructField(\"description\", StringType(), True),\n",
    "    StructField(\"authors\", StringType(), True),\n",
    "    StructField(\"image\", StringType(), True),\n",
    "    StructField(\"previewLink\", StringType(), True),\n",
    "    StructField(\"publisher\", StringType(), True),\n",
    "    StructField(\"publishedDate\", StringType(), True),\n",
    "    StructField(\"infoLink\", StringType(), True),\n",
    "    StructField(\"categories\", StringType(), True),\n",
    "    StructField(\"ratingsCount\", FloatType(), True)\n",
    "])\n",
    "\n",
    "ratings_schema = StructType([\n",
    "    StructField(\"Id\", IntegerType(), True),\n",
    "    StructField(\"Title\", StringType(), True),\n",
    "    StructField(\"Price\", FloatType(), True),\n",
    "    StructField(\"User_id\", IntegerType(), True),\n",
    "    StructField(\"profileName\", StringType(), True),\n",
    "    StructField(\"review/helpfulness\", StringType(), True),\n",
    "    StructField(\"review/score\", FloatType(), True),\n",
    "    StructField(\"review/time\", IntegerType(), True),\n",
    "    StructField(\"review/summary\", StringType(), True),\n",
    "    StructField(\"review/text\", StringType(), True)\n",
    "])\n",
    "\n",
    "# Load the original data\n",
    "\n",
    "df_data = spark_session.read.option('escape', '\"').csv(\n",
    "    'hdfs://localhost:9900/user/book_reviews/original_data/books_data.csv', header=True, schema=data_schema)\n",
    "df_ratings = spark_session.read.option('escape', '\"').csv(\n",
    "    'hdfs://localhost:9900/user/book_reviews/original_data/books_rating.csv', header=True, schema=ratings_schema)"
   ]
  },
  {
   "cell_type": "markdown",
   "metadata": {},
   "source": [
    "## Data Transformations\n",
    "---\n",
    "\n",
    "### - Remove useless columns\n",
    "\n",
    "These are the columns whcih are not useful for our analysis. The original files are kept unchanged in HDFS, and the new files are stored in HDFS as well.\n",
    "\n",
    "**Data Table:**\n",
    "All the links are removed.\n",
    "- image\n",
    "- previewLink\n",
    "- infoLink\n",
    "- ratingsCount\n",
    "\n",
    "**Rating Table:**\n",
    "- id"
   ]
  },
  {
   "cell_type": "code",
   "execution_count": 4,
   "metadata": {},
   "outputs": [
    {
     "name": "stderr",
     "output_type": "stream",
     "text": [
      "                                                                                \r"
     ]
    },
    {
     "name": "stdout",
     "output_type": "stream",
     "text": [
      "+--------------------+--------------------+-------------------+---------+-------------+--------------------+\n",
      "|               Title|         description|            authors|publisher|publishedDate|          categories|\n",
      "+--------------------+--------------------+-------------------+---------+-------------+--------------------+\n",
      "|Its Only Art If I...|                null|   ['Julie Strain']|     null|         1996|['Comics & Graphi...|\n",
      "|Dr. Seuss: Americ...|Philip Nel takes ...|     ['Philip Nel']|A&C Black|   2005-01-01|['Biography & Aut...|\n",
      "|Wonderful Worship...|This resource inc...|   ['David R. Ray']|     null|         2000|        ['Religion']|\n",
      "|Whispers of the W...|Julia Thomas find...|['Veronica Haddon']|iUniverse|      2005-02|         ['Fiction']|\n",
      "|Nation Dance: Rel...|                null|    ['Edward Long']|     null|   2003-03-01|                null|\n",
      "+--------------------+--------------------+-------------------+---------+-------------+--------------------+\n",
      "only showing top 5 rows\n",
      "\n",
      "+--------------------+-----+-------+--------------------+------------------+------------+-----------+--------------------+--------------------+\n",
      "|               Title|Price|User_id|         profileName|review/helpfulness|review/score|review/time|      review/summary|         review/text|\n",
      "+--------------------+-----+-------+--------------------+------------------+------------+-----------+--------------------+--------------------+\n",
      "|Its Only Art If I...| null|   null|Jim of Oz \"jim-of...|               7/7|         4.0|  940636800|Nice collection o...|This is only for ...|\n",
      "|Dr. Seuss: Americ...| null|   null|       Kevin Killian|             10/10|         5.0| 1095724800|   Really Enjoyed It|I don't care much...|\n",
      "|Dr. Seuss: Americ...| null|   null|        John Granger|             10/11|         5.0| 1078790400|Essential for eve...|If people become ...|\n",
      "|Dr. Seuss: Americ...| null|   null|Roy E. Perry \"ama...|               7/7|         4.0| 1090713600|Phlip Nel gives s...|Theodore Seuss Ge...|\n",
      "|Dr. Seuss: Americ...| null|   null|D. H. Richards \"n...|               3/3|         4.0| 1107993600|Good academic ove...|Philip Nel - Dr. ...|\n",
      "+--------------------+-----+-------+--------------------+------------------+------------+-----------+--------------------+--------------------+\n",
      "only showing top 5 rows\n",
      "\n"
     ]
    }
   ],
   "source": [
    "# Remove image column from data\n",
    "df_data = df_data.drop(df_data.image)\n",
    "\n",
    "# Remove previewLink column from data\n",
    "df_data = df_data.drop(df_data.previewLink)\n",
    "\n",
    "# Remove infoLink column from data\n",
    "df_data = df_data.drop(df_data.infoLink)\n",
    "\n",
    "# Remove ratingsCount column from data\n",
    "df_data = df_data.drop(df_data.ratingsCount)\n",
    "\n",
    "# Show the results\n",
    "df_data.show(5)\n",
    "\n",
    "# Remove Id column from ratings data\n",
    "df_ratings = df_ratings.drop(df_ratings.Id)\n",
    "\n",
    "# Show the results\n",
    "df_ratings.show(5)"
   ]
  },
  {
   "cell_type": "markdown",
   "metadata": {},
   "source": [
    "### - Remove all the punctuation inside each column\n",
    "\n",
    "This is to avoid parsing problem when the csv in read"
   ]
  },
  {
   "cell_type": "code",
   "execution_count": 5,
   "metadata": {},
   "outputs": [],
   "source": [
    "# Remove illegal characters from the review\n",
    "ratings_cols_to_change = ['Title', 'profileName',\n",
    "                          'review/summary', 'review/text']\n",
    "\n",
    "for column in ratings_cols_to_change:\n",
    "    df_ratings = df_ratings.withColumn(\n",
    "        column, regexp_replace(col(column), \"\\t\", \" \"))\n",
    "    df_ratings = df_ratings.withColumn(\n",
    "        column, regexp_replace(col(column), \"\\n\", \" \"))\n",
    "    df_ratings = df_ratings.withColumn(\n",
    "        column, regexp_replace(col(column), \"\\\"\", \" \"))\n",
    "    df_ratings = df_ratings.withColumn(\n",
    "        column, regexp_replace(col(column), \"\\\\\\\\\", \" \"))\n",
    "\n",
    "\n",
    "# Remove illegal characters from the books data\n",
    "data_cols_to_change = ['Title', 'description',\n",
    "                       'authors', 'publisher', 'categories']\n",
    "for column in data_cols_to_change:\n",
    "    df_data = df_data.withColumn(\n",
    "        column, regexp_replace(col(column), \"\\t\", \" \"))\n",
    "    df_data = df_data.withColumn(\n",
    "        column, regexp_replace(col(column), \"\\n\", \" \"))\n",
    "    df_data = df_data.withColumn(\n",
    "        column, regexp_replace(col(column), \"\\\"\", \" \"))\n",
    "    df_data = df_data.withColumn(\n",
    "        column, regexp_replace(col(column), \"\\\\\\\\\", \" \"))"
   ]
  },
  {
   "cell_type": "code",
   "execution_count": 6,
   "metadata": {},
   "outputs": [
    {
     "name": "stdout",
     "output_type": "stream",
     "text": [
      "+-------------------------------------+-----+-------+----------------------------------+------------+-----------+------------------------------------------------------------+--------------------------------------------------------------------------------------------------------------------------------------------------------------------------------------------------------------------------------------------------------------------------------------------------------------------------------------------------------------------------------------------------------------------------------------------------------------------------------------------------------------------------------------------------------------------------------------------------------------------------------------------------------------------------------------------------------------------------------------------------------------------------------------------------------------------------------------------------------------------------------------------------------------------------------------------------------------------------------------------------------------------------------------------------------------------------------------------------------------------------------------------------------------------------------------------------------------------------------------------------------------------------------------------------------------------------------------------------------------------------------------------------------------------------------------------------------------------------------------------------------------------------------------------------------------------------------------------------------------------------------------------------------------------------------------------------------------------------------------------------------------------------------------------------------------------------------------------------------------------------------------------------------------------------------------------------------------------------------------------------------------------------------------------------------------------------------------------------------------------------------------------------------------------------------------------------------------------------------------------------------------------------------------------------------------------------------------------------------------------------------------------------------------------------------------------------------------------------------------------------------------------------------------------------------------------------------------------------------------------------------------------------------------------------------------------------------------------------------------------------------------------------------------------------------------------------------------------------------------------------------------------------------------------------------------------------------------------------------------------------------------------------------------------------------------------------------------------------------------------------------------------------------------------------------------------------------------------------------------------------------------------------------------------------------------------------------------------------------------------------------------------------------------------------------------------------------------------------------------------------------------------------------------------------------------------------------------------------------------------------------------------------------------------------------------------------------------------------------------------------------------------------------------------------------------+---------+---------+\n",
      "|Title                                |Price|User_id|profileName                       |review/score|review/time|review/summary                                              |review/text                                                                                                                                                                                                                                                                                                                                                                                                                                                                                                                                                                                                                                                                                                                                                                                                                                                                                                                                                                                                                                                                                                                                                                                                                                                                                                                                                                                                                                                                                                                                                                                                                                                                                                                                                                                                                                                                                                                                                                                                                                                                                                                                                                                                                                                                                                                                                                                                                                                                                                                                                                                                                                                                                                                                                                                                                                                                                                                                                                                                                                                                                                                                                                                                                                                                                                                                                                                                                                                                                                                                                                                                                                                                                                                                                                                                   |N_helpful|Tot_votes|\n",
      "+-------------------------------------+-----+-------+----------------------------------+------------+-----------+------------------------------------------------------------+--------------------------------------------------------------------------------------------------------------------------------------------------------------------------------------------------------------------------------------------------------------------------------------------------------------------------------------------------------------------------------------------------------------------------------------------------------------------------------------------------------------------------------------------------------------------------------------------------------------------------------------------------------------------------------------------------------------------------------------------------------------------------------------------------------------------------------------------------------------------------------------------------------------------------------------------------------------------------------------------------------------------------------------------------------------------------------------------------------------------------------------------------------------------------------------------------------------------------------------------------------------------------------------------------------------------------------------------------------------------------------------------------------------------------------------------------------------------------------------------------------------------------------------------------------------------------------------------------------------------------------------------------------------------------------------------------------------------------------------------------------------------------------------------------------------------------------------------------------------------------------------------------------------------------------------------------------------------------------------------------------------------------------------------------------------------------------------------------------------------------------------------------------------------------------------------------------------------------------------------------------------------------------------------------------------------------------------------------------------------------------------------------------------------------------------------------------------------------------------------------------------------------------------------------------------------------------------------------------------------------------------------------------------------------------------------------------------------------------------------------------------------------------------------------------------------------------------------------------------------------------------------------------------------------------------------------------------------------------------------------------------------------------------------------------------------------------------------------------------------------------------------------------------------------------------------------------------------------------------------------------------------------------------------------------------------------------------------------------------------------------------------------------------------------------------------------------------------------------------------------------------------------------------------------------------------------------------------------------------------------------------------------------------------------------------------------------------------------------------------------------------------------------------------------------------+---------+---------+\n",
      "|Its Only Art If Its Well Hung!       |null |null   |Jim of Oz  jim-of-oz              |4.0         |940636800  |Nice collection of Julie Strain images                      |This is only for Julie Strain fans. It's a collection of her photos -- about 80 pages worth with a nice section of paintings by Olivia.If you're looking for heavy literary content, this isn't the place to find it -- there's only about 2 pages with text and everything else is photos.Bottom line: if you only want one book, the Six Foot One ... is probably a better choice, however, if you like Julie like I like Julie, you won't go wrong on this one either.                                                                                                                                                                                                                                                                                                                                                                                                                                                                                                                                                                                                                                                                                                                                                                                                                                                                                                                                                                                                                                                                                                                                                                                                                                                                                                                                                                                                                                                                                                                                                                                                                                                                                                                                                                                                                                                                                                                                                                                                                                                                                                                                                                                                                                                                                                                                                                                                                                                                                                                                                                                                                                                                                                                                                                                                                                                                                                                                                                                                                                                                                                                                                                                                                                                                                                                                     |7        |7        |\n",
      "|Dr. Seuss: American Icon             |null |null   |Kevin Killian                     |5.0         |1095724800 |Really Enjoyed It                                           |I don't care much for Dr. Seuss but after reading Philip Nel's book I changed my mind--that's a good testimonial to the power of Rel's writing and thinking. Rel plays Dr. Seuss the ultimate compliment of treating him as a serious poet as well as one of the 20th century's most interesting visual artists, and after reading his book I decided that a trip to the Mandeville Collections of the library at University of California in San Diego was in order, so I could visit some of the incredible Seuss/Geisel holdings they have there.There's almost too much to take in, for, like William Butler Yeats, Seuss led a career that constantly shifted and metamoprhized itself to meet new historical and political cirsumstances, so he seems to have been both a leftist and a conservative at different junctures of his career, both in politics and in art. As Nel shows us, he was once a cartoonist for the fabled PM magazine and, like Andy Warhol, he served his time slaving in the ad business too. All was in the service of amusing and broadening the minds of US children. Nel doesn't hesitate to administer a sound spanking to the Seuss industry that, since his death, has seen fit to license all kinds of awful products including the recent CAT IN THE HAT film with Mike Myers. Oh, what a cat-astrophe!The book is great and I can especially recommend the work of the picture editor who has given us a bounty of good illustrations.                                                                                                                                                                                                                                                                                                                                                                                                                                                                                                                                                                                                                                                                                                                                                                                                                                                                                                                                                                                                                                                                                                                                                                                                                                                                                                                                                                                                                                                                                                                                                                                                                                                                                                                                                                                                                                                                                                                                                                                                                                                                                                                                                                                                                                                                                                                               |10       |10       |\n",
      "|Dr. Seuss: American Icon             |null |null   |John Granger                      |5.0         |1078790400 |Essential for every personal and Public Library             |If people become the books they read and if  the child is father to the man,  then Dr. Seuss (Theodor Seuss Geisel) is the most influential author, poet, and artist of modern times. For me, a daddy to a large family who learned to read with Dr. Seuss and who has memorized too many of the books via repeated readings to young children, Prof. Nel's brilliant 'American Icon' is a long awaited treat. At last a serious treatment of this remarkable genius that is both an engaging read and filled with remarkable insights! I especially enjoyed (and learned more than I care to admit from) Prof. Nel's discussions of the Disneyfication of Seuss - which Nel links to failings in American copyright law,  the other sides of Dr. Seuss  - all of which sides were new to me, and the political genesis of his secular morality in the WWII cartoon work he did at PM magazine. The chapters on Geisel's poetry and artwork and the link Nel makes between Seuss and the historical avant guarde alone make this book a  must buy  for parents and serious readers, not to mention public libraries. Readers of Nel's other books will find the same engaging writing style that makes the book a fun read while imparting a mountain of information and important ideas. This is simply the best and most comprehensive book yet written on the work of Seuss Geisel and what will certainly be the standard for many years to come. Thank you, Prof. Nel, wherever you are, from a reader who grew up with the good doctor and who is growing up with him again years later. Your book, written from your encyclopeadic knowledge of children's literature and the media of this genre - from scanning verse to cubist painting! - explains the power, limits, and popularity of the Seuss phenomenon.                                                                                                                                                                                                                                                                                                                                                                                                                                                                                                                                                                                                                                                                                                                                                                                                                                                                                                                                                                                                                                                                                                                                                                                                                                                                                                                                                                                                                                                                                                                                                                                                                                                                                                                                                                                                                                                                                                                                                                                      |10       |11       |\n",
      "|Dr. Seuss: American Icon             |null |null   |Roy E. Perry  amateur philosopher |4.0         |1090713600 |Phlip Nel gives silly Seuss a serious treatment             |Theodore Seuss Geisel (1904-1991), aka &quot;Dr. Seuss,&quot; was one of the most influential writers and artists of the 20th century.In 1959, Rudolf Flesch wrote, &quot;A hundred years from now, children and their parents will still eagerly read the books of a fellow called Ted Geisel, popularly known as Dr. Seuss.&quot;Flesch was too conservative in his prediction. A century, and more, from today, Dr. Seuss will still be read when many authors on today's bestseller lists will be forgotten.Published on the centenary of Geisel's birth, Dr. Seuss: American Icon analyzes six key aspects of Seuss's career: poetry, politics, art, biography, marketing, and influence.In six insightful chapters, Philip Nel, Assistant Professor of English at Kansas State University, discusses &quot;U.S. Laureate of Nonsense,&quot; &quot;Dr. Seuss vs. Adolf Hitler,&quot; &quot;The Doc in the Smock,&quot; &quot;The 5,000 Fingers of Dr. S.,&quot; &quot;The Disneyfication of Dr. Seuss,&quot; and &quot;The Cat in the Hat for President.&quot;Nel gives short shrift to Geisel's childhood and family background--and, indeed, to biography in general--preferring to focus on Seuss's writing and art, from his first book, And to Think That I Saw It on Mulberry Street (1937) to his last book, Oh, the Places You'll Go! (1990).Dr. Seuss's breakthrough year was 1957, when he published the two books with which he is most often identified: The Cat in the Hat and How the Grinch Stole Christmas!Other classic works in the Seussian canon are: Horton Hears a Who! (&quot;A person's a person, no matter how small&quot;), Yertle the Turtle (modeled on the rise of Adolf Hitler), Green Eggs and Ham (Seuss's bestselling book), The Sneeches (a criticism of anti-Semitism), The Lorax (a protest against corporate abuse of the environment), and The Butter Battle Book (a critique of Reagan's enthusiasm for the nuclear arms trace).His favorite work, among the books he authored, was The Cat in the Hat, for it, more than any other, taught children to read.While many of his books have a clear and powerful moral, Seuss had a horror of heavy-handed preaching. He sought to teach and ignite the imagination, but was a lifelong opponent of smug, self-righteous bourgeois moralism.&quot;Seuss was a contrarian,&quot; writes Nel, &quot;who enjoyed challenging people to reconsider their assumptions. [He had a] rebellious imagination and a dispositional distaste for rules and regulations.&quot; His work was a &quot;rational insanity&quot; that exhibited &quot;joyous anarchy&quot; and a &quot;lifelong thrill in misbehaving.&quot;A better subtitle for Nel's work would have been American Icon and Iconoclast.Nel tells of Seuss's early years as an advertising artist and as a agitprop cartoonist. The book, however, is not a biography; it is a serious study in the genres of literary and art criticism.For readers who want more biographical information, Nel recommends Dr. Seuss and Mr. Geisel, by Judith Morgan and Neil Morgan (1995), which he describes as &quot;the definitive biography and the single best secondary source on Seuss. Any discussion of Seuss's life and work must begin with this book.&quot;Dr. Seuss: American Icon includes 103 pages of notes, index, and the most comprehensive annotated Seuss bibliography ever assembled. One learns a lot from this book; the author's lucid style makes it not only an enlightening work but a fun read.Philip Nel is the author of J. K. Rowling's Harry Potter Novels: A Reader's Guide (2001) and The Avant-Garde and American Postmodernity (2002).Roy E. Perry of Nolensville, Tennessee, is an advertising copywriter at a Nashville publishing house.|7        |7        |\n",
      "|Dr. Seuss: American Icon             |null |null   |D. H. Richards  ninthwavestore    |4.0         |1107993600 |Good academic overview                                      |Philip Nel - Dr. Seuss: American IconThis is basically an academic overview of Seuss poetry, art, cartoons, and the problems with the commercialization of the Seuss name and works after his death. It is not, to any real extent, a biography. Those seeking such should move on.As an academic book it leans on the dry side. It assumes the reader has a fairly good knowledge of Children's Literature and 20th Century cartoons (not the animated kind). Not a book to begin your Dr. Seuss experience with. But if you have read them to your children and are interested about the writing style (there is a good chapter about his poetry) or his art style (not as good a chapter, but still interesting).What interested me the most was the deconstruction of the recent rush to  cash in  on Seuss by Hollywood and advertisers. I think that Nel wants to come down against it, but based on Seuss' background (he started out drawing Flit ads) and the projects he approved during his lifetime; it is a tough argument to make. In the end though Nel does point out that maybe the movies and tie- ins did not have to be so... crass?The book is well researched; lots of neat tidbits are to be gleamed. Early cartoons by Seuss for PM magazine were occasionally (by today's standards) shockingly racist. It makes him a little more human and puts his latter works like the Lorax in a new light.Those in Education may enjoy this background. Fans of Seuss will enjoy the exhaustive bibliography of Seuss's many, many works. Also good list of other works about the man.                                                                                                                                                                                                                                                                                                                                                                                                                                                                                                                                                                                                                                                                                                                                                                                                                                                                                                                                                                                                                                                                                                                                                                                                                                                                                                                                                                                                                                                                                                                                                                                                                                                                                                                                                                                                                                                                                                                                                                                                                                                                                                                                                                                                        |3        |3        |\n",
      "|Dr. Seuss: American Icon             |null |null   |Malvin                            |4.0         |1127174400 |One of America's greatest creative talents                  | Dr. Seuss: American Icon  by Philip Nel is a thoughtful deconstruction of the life and work of Theodore Geisel (aka Dr. Seuss). In this thoughtful book, Mr. Nel deepens our appreciation for Seuss as a distinctively American poet, artist and educator. The author demonstrates Seuss' wide ranging influence and argues for his rightful place among the most important cultural figures of the 20th century.An English professor at Kansas State University, Mr. Nel uses his historic knowledge to discuss how Seuss' text belongs to a tradition of great nonsense writers. Mr. Nel states that Seuss' carefully-constructed absurdist tales encourage children to challenge the status quo by gently skewering the grown-up world; elsewhere, he uses charts to show how Seuss effectively used meter and rhyme to complement his intentionally ridiculous plots and create masterful stories that have stood up well to the test of time.Mr. Nel recounts Seuss' early career as advertising illustrator and political cartoonist to help us better understand the influences that shaped his classic children's work. As an artist, Mr. Nel suggests that the term  energetic cartoon surrealism  appropriately describes Seuss' creative synthesis of cubism, art nouveau, surrealism and other styles. While Seuss' influence can be detected in modern rap music, children's books, political cartoons and more, Mr. Nel contends that Seuss would not have been happy about the manner in which his works have been posthumously marketed, opining that the  Disneyification  or simplification of Seuss' stories for marketable purposes  threatens to make 'Seuss' synomynous with the ambiguous power of global capitalism . Such commercialism would appear to collide with Seuss' desire to develop critical thinking among young people and to help us all imagine a better world.I highly recommend this book for everyone interested in gaining greater insight and perspective into one of America's greatest creative talents.                                                                                                                                                                                                                                                                                                                                                                                                                                                                                                                                                                                                                                                                                                                                                                                                                                                                                                                                                                                                                                                                                                                                                                                                                                                                                                                                                                                                                                                                                                                                                                                                                                                                                                                                                       |2        |2        |\n",
      "|Dr. Seuss: American Icon             |null |null   |Midwest Book Review               |5.0         |1100131200 |A memorably excellent survey of Dr. Seuss' many achievements|Theodor Seuss Giesel was best known as 'Dr. Seuss', one of the most influential and enduringly popular children's authors of the 20th century. Giesel created not only his famous imaginative picturebooks, but a unique art and poetry, and even a place for himself in politics. Philip Nel argues that these added activities make Dr. Seuss one of the most influential people in America - certainly the most influential poet - and Dr. Seuss: American Icon provides the reader an memorably excellent survey of Dr. Seuss' many achievements.                                                                                                                                                                                                                                                                                                                                                                                                                                                                                                                                                                                                                                                                                                                                                                                                                                                                                                                                                                                                                                                                                                                                                                                                                                                                                                                                                                                                                                                                                                                                                                                                                                                                                                                                                                                                                                                                                                                                                                                                                                                                                                                                                                                                                                                                                                                                                                                                                                                                                                                                                                                                                                                                                                                                                                                                                                                                                                                                                                                                                                                                                                                                                                                                                                                         |3        |4        |\n",
      "|Dr. Seuss: American Icon             |null |null   |J. Squire                         |5.0         |1231200000 |Academia At It's Best                                       |When I recieved this book as a gift for Christmas my first impression went along these line:  Oh great some professor who probably wrote alot of mumbo-jumbo that I don't want to know about Dr. Suess and I know it won't be an enjoyable read. Thanks goodness I read it nonetheless.To my pleasure, Nel hardly writes in the airy academia style with which I expected him to. In fact, he's writes so far from it, with a smart and precise style, I am tempted to revise how I feel about professor-writers. However, in accordance with his academia roots, Nel has a 100 page annotated bibliogarphy that goes along with his work, a nice shrine to prove his homework was well done.As far the actual book goes it is an excellent piece work.  Dr. Seuss: American Icon  looks at the man behind Dr. Suess not as a straight-forward biography, but rather it focuses on different areas of Dr. Suess (i.e. poet, poetry of, artist, artistic style, adult, activist, etc.) and interjects those discussions with biogrphical anecdotes. A very effective attention keeping method.If you're interested in learning more about the work and the man behind the work of Dr. Suess, this is the book that speaks to both and even more. Highly recommended!                                                                                                                                                                                                                                                                                                                                                                                                                                                                                                                                                                                                                                                                                                                                                                                                                                                                                                                                                                                                                                                                                                                                                                                                                                                                                                                                                                                                                                                                                                                                                                                                                                                                                                                                                                                                                                                                                                                                                                                                                                                                                                                                                                                                                                                                                                                                                                                                                                                                                                                                           |0        |0        |\n",
      "|Dr. Seuss: American Icon             |null |null   |J. P. HIGBED  big fellow          |5.0         |1209859200 |And to think that I read it on the tram!                    |Trams (or any public transport) are not usually the best place to read and absorb scholarly texts. But this one has accompanied me on my daily commute, and I have been absorbed in it. It is well written and comprehensive, and tells the tale of a modern author, with plenty of  Fancy that  and  Well, well  moments. Highly recommended for stationary reading, too.                                                                                                                                                                                                                                                                                                                                                                                                                                                                                                                                                                                                                                                                                                                                                                                                                                                                                                                                                                                                                                                                                                                                                                                                                                                                                                                                                                                                                                                                                                                                                                                                                                                                                                                                                                                                                                                                                                                                                                                                                                                                                                                                                                                                                                                                                                                                                                                                                                                                                                                                                                                                                                                                                                                                                                                                                                                                                                                                                                                                                                                                                                                                                                                                                                                                                                                                                                                                                                    |0        |0        |\n",
      "|Dr. Seuss: American Icon             |null |null   |Donald Burnside                   |4.0         |1076371200 |Fascinating account of a genius at work                     |As far as I am aware, this is the first book-length study of the work of Dr. Seuss, and Philip Nel has done an excellent job. If the word 'study' makes you nervous, rest assured: this is not a jargon-filled, pretentious analysis. It is, instead, a nicely written work that views Seuss from several different angles: as a poet, a visual artist, a cartoonist, and so on. Nel writes intelligently on how Seuss fits into the canon of nonsense poets, and provides good background on the roots of Seuss's visual style. Some of the WW2/political cartoon material I had read about before, but Nel covers it thoroughly. The most fascinating chapter to me deals with the marketing of Seuss, particularly since his death. Nel holds forth strongly on the abominable 'Grinch' movie (and I trust he feels the same way about the 'Cat in the Hat' film too), and gets into a very interesting discussion of the possible motivations behind the ever-expanding empire of Dr. Seuss Enterprises. (And no, I don't believe it is purely about the profits!)Two small quibbles prevent me from awarding five stars. Firstly, I would have liked the book to be a little longer. The in-depth bibliography is interesting in itself and will be a goldmine to future researchers, but I'm sure Nel could have found a few more things to say - perhaps about Seuss's gender politics. Secondly, the dust jacket on my copy was a little loose.                                                                                                                                                                                                                                                                                                                                                                                                                                                                                                                                                                                                                                                                                                                                                                                                                                                                                                                                                                                                                                                                                                                                                                                                                                                                                                                                                                                                                                                                                                                                                                                                                                                                                                                                                                                                                                                                                                                                                                                                                                                                                                                                                                                                                                                                                                                                                       |3        |5        |\n",
      "|Wonderful Worship in Smaller Churches|19.4 |null   |Rev. Pamela Tinnin                |5.0         |991440000  |Outstanding Resource for Small Church Pastors               |I just finished the book, &quot;Wonderful Worship in Smaller Churches,&quot; by David Ray, an outstanding resource for small church pastors, as is his other book, &quot;The Big Small Church Book.&quot; I will be rereading both regularly and referring to them often. I may have to reorder the &quot;Big Small Church Book&quot; as my copy is nearly worn out. If I had only two choices for resources for pastors of small churches, it would be these two.I hope the author considers focusing on Christian Education in another book. There is a section in the &quot;Big Small Church Book&quot; on Christian Education, but concentrating on one of the most important church functions individually makes a huge difference, as is proven by this new book. I tell all my colleagues that Rev. Ray's books are worth every dollar and more.                                                                                                                                                                                                                                                                                                                                                                                                                                                                                                                                                                                                                                                                                                                                                                                                                                                                                                                                                                                                                                                                                                                                                                                                                                                                                                                                                                                                                                                                                                                                                                                                                                                                                                                                                                                                                                                                                                                                                                                                                                                                                                                                                                                                                                                                                                                                                                                                                                                                                                                                                                                                                                                                                                                                                                                                                                                                                                                                                       |8        |10       |\n",
      "|Wonderful Worship in Smaller Churches|19.4 |null   |Dr. Terry W. Dorsett              |5.0         |1291766400 |Small Churches CAN Have Wonderful Worship                   |Many small churches feel like they can not have great worship because they lack the resources that larger churches take for granted.Ray's list of  thou shalts  is worth the price of the book.The description of various  personalities  in the small church is both humorous, and so true.This book gives encouragement as well as practical advice.                                                                                                                                                                                                                                                                                                                                                                                                                                                                                                                                                                                                                                                                                                                                                                                                                                                                                                                                                                                                                                                                                                                                                                                                                                                                                                                                                                                                                                                                                                                                                                                                                                                                                                                                                                                                                                                                                                                                                                                                                                                                                                                                                                                                                                                                                                                                                                                                                                                                                                                                                                                                                                                                                                                                                                                                                                                                                                                                                                                                                                                                                                                                                                                                                                                                                                                                                                                                                                                        |1        |1        |\n",
      "|Wonderful Worship in Smaller Churches|19.4 |null   |Cynthia L. Lajoy  Cindy La Joy    |5.0         |1248307200 |Not Just for Pastors!                                       |I just finished reading this amazing book and came away with an entirely different perspective on our smaller congregation. As a ministry leader it is easy to become depressed over what can not be accomplished, and how overworked everyone is in a small church...but we often fail to see all that IS being accomplished and how extraordinary our smaller congregations are.There are many pluses outlined in this book about what works about being smaller, and in this day of mega churches the reminder is a good one. There are some very good tips about altering worship for smaller congregations and valuing it's unique size and working with it well.For the thousands of us who find ourselves in churches with membership of 100 or less, for those who are discouraged when worship attendence is 30 or 40 during the summer, this book is such an uplifting perspective you can't help but be energized!Unlike many tomes of this nature, this is an easy read and the layperson can gobble it up and immediately put it to use. David Ray's writing style is accessible and doesn't make assumptions about the knowledge of the reader, offering explanations where needed that were very helpful.Pick it up even if you are not a pastor, you will gain something from it, I guarantee it!                                                                                                                                                                                                                                                                                                                                                                                                                                                                                                                                                                                                                                                                                                                                                                                                                                                                                                                                                                                                                                                                                                                                                                                                                                                                                                                                                                                                                                                                                                                                                                                                                                                                                                                                                                                                                                                                                                                                                                                                                                                                                                                                                                                                                                                                                                                                                                                                                                                                                             |1        |1        |\n",
      "|Wonderful Worship in Smaller Churches|19.4 |null   |Maxwell Grant                     |5.0         |1222560000 |Small church pastor? This is the book on worship            |I hadn't been a small church pastor very long before I began to hear about David R. Ray. If you do any reading in this area, you'll start to see other authors refer to him and a handful of others, especially Anthony Pappas and Carl Dudley (who are also excellent). But Ray is different. Reading his work, I felt as if he had actually visited MY home church. He describes some of the personalities in a church family, and I could supply their names. He lists some of the  Thou Shalts  of a strong worship service, and I heard echoes of my most recent deacons' meeting. He not only gets small church culture, he celebrates it, and he is eager to help small churches learn to get and to celebrate themselves. If you are part of a church where low-morale often coexists with feisty pride, this is a resource that will help. It offers some ways of identifying what church families with 50 or fewer need and hope for from their churches, and how to offer it in ways that are inclusive, warm, fun and authentic. Hallelujah!                                                                                                                                                                                                                                                                                                                                                                                                                                                                                                                                                                                                                                                                                                                                                                                                                                                                                                                                                                                                                                                                                                                                                                                                                                                                                                                                                                                                                                                                                                                                                                                                                                                                                                                                                                                                                                                                                                                                                                                                                                                                                                                                                                                                                                                                                                                                                                                                                                                                                                                                                                                                                                                                                                                                                      |1        |1        |\n",
      "|Whispers of the Wicked Saints        |10.95|null   |Book Reader                       |1.0         |1117065600 |not good                                                    |I bought this book because I read some glowing praise on an online library site. Unfortunately, I was deeply disappointed by page three. I always buy books in the hope and expectation of having an enjoyable read, not to criticise. However, this book is in urgent need of good editing -- though quite possibly editing alone wouldn't save it. Examples: a bed squeaks slightly and sharply in the same sentence; a nightgown hangs freely over her girlish figure and olive colored complexion; coffee aromas huddle; rumbling clouds huddle (as well as the coffee?); she prepared to sip her coffee beneath the wrath of God... cuddled within the arms of a strong breeze; (the wrath of God is a breeze?); the Columbian (stet) coffee aroma danced beneath her sculpted tan nose; the coffee bean fragrance tangoed within her body; she placed her thick pink lips against the warm cup;... and so on, all by page three. It is quite possible that the storyline is deeply moving. I'll never know because I can't bring myself to continue. Sorry.                                                                                                                                                                                                                                                                                                                                                                                                                                                                                                                                                                                                                                                                                                                                                                                                                                                                                                                                                                                                                                                                                                                                                                                                                                                                                                                                                                                                                                                                                                                                                                                                                                                                                                                                                                                                                                                                                                                                                                                                                                                                                                                                                                                                                                                                                                                                                                                                                                                                                                                                                                                                                                                                                                                                             |7        |11       |\n",
      "|Whispers of the Wicked Saints        |10.95|null   |V. Powell                         |4.0         |1119571200 |Here is my opinion                                          |I have to admit, I am not one to write reviews on book. I do however like to read them. Some of the reviews are great, some are cruel, but the reviews on this book were absolutlely hysterical. I read this book and after watching the war of the words I couldn't help, but to jump in. I am on the good side of the book. I loved how it kept my intersted. On the bad side I have to say, there was a typo featured on the back cover and the secret to liking this book is making it through the first chapter. I have to admit I was a little curious when I read some of the reviews. They were so mean and false that it spiked my curiosity. I then like the last review noticed that the  Traveling librarian  wrote a completely ignorant review on this book. My first thought was wait a minute, that was not the book that I read. I read my copy once again and realized her entire review was fabricated. Then I knew, it was some kind of game. Maybe it is someone who dislikes the author for personal reasons, that has posted more then one awful review, or maybe this is another who is jealous, Who knows? All I know is that I liked the book, and future readers take the advice of the ignorant with a grain of salt.                                                                                                                                                                                                                                                                                                                                                                                                                                                                                                                                                                                                                                                                                                                                                                                                                                                                                                                                                                                                                                                                                                                                                                                                                                                                                                                                                                                                                                                                                                                                                                                                                                                                                                                                                                                                                                                                                                                                                                                                                                                                                                                                                                                                                                                                                                                                                                                                                                                                                                                                                             |1        |2        |\n",
      "|Whispers of the Wicked Saints        |10.95|null   |LoveToRead  Actually Read Books   |1.0         |1119225600 |Buyer beware                                                |This is a self-published book, and if you want to know why--read a few paragraphs! Those 5 star reviews must have been written by Ms. Haddon's family and friends--or perhaps, by herself! I can't imagine anyone reading the whole thing--I spent an evening with the book and a friend and we were in hysterics reading bits and pieces of it to one another. It is most definitely bad enough to be entered into some kind of a  worst book  contest. I can't believe Amazon even sells this kind of thing. Maybe I can offer them my 8th grade term paper on  To Kill a Mockingbird --a book I am quite sure Ms. Haddon never heard of. Anyway, unless you are in a mood to send a book to someone as a joke---stay far, far away from this one!                                                                                                                                                                                                                                                                                                                                                                                                                                                                                                                                                                                                                                                                                                                                                                                                                                                                                                                                                                                                                                                                                                                                                                                                                                                                                                                                                                                                                                                                                                                                                                                                                                                                                                                                                                                                                                                                                                                                                                                                                                                                                                                                                                                                                                                                                                                                                                                                                                                                                                                                                                                                                                                                                                                                                                                                                                                                                                                                                                                                                                                          |1        |2        |\n",
      "|Whispers of the Wicked Saints        |10.95|null   |Clara                             |5.0         |1115942400 |Fall on your knee's                                         |When I first read this the I was mezmerized at the style of writting. I soon became so hooked on this book that I wanted to fall on my knees and shut out the rest of the world. Haddon delivers a portrayal of a woman that is hurt loney and abused and I think she does a wonderful job making the reader feel like the character.                                                                                                                                                                                                                                                                                                                                                                                                                                                                                                                                                                                                                                                                                                                                                                                                                                                                                                                                                                                                                                                                                                                                                                                                                                                                                                                                                                                                                                                                                                                                                                                                                                                                                                                                                                                                                                                                                                                                                                                                                                                                                                                                                                                                                                                                                                                                                                                                                                                                                                                                                                                                                                                                                                                                                                                                                                                                                                                                                                                                                                                                                                                                                                                                                                                                                                                                                                                                                                                                         |2        |4        |\n",
      "|Whispers of the Wicked Saints        |10.95|null   |Tonya                             |5.0         |1117065600 |Bravo Veronica                                              |I read the review directly under mine and I have to say I laughed. How can someone write a honest review on a book they read only three pages of? That was funny but also sad that people are mean enough to keep others from an enjoyable read. I loved this book. I thought the first chapter was a little long, but I read the WHOLE book and I loved it. This book is about an afair of the heart and the right to be happy. It is a glimps into the lives of those who are forbiden to love each other. This is a heart warming story. This is a first book and it had a few flaws, but this writer will only get better and better as she goes forward. It was lovely and I am blessed that I read it.                                                                                                                                                                                                                                                                                                                                                                                                                                                                                                                                                                                                                                                                                                                                                                                                                                                                                                                                                                                                                                                                                                                                                                                                                                                                                                                                                                                                                                                                                                                                                                                                                                                                                                                                                                                                                                                                                                                                                                                                                                                                                                                                                                                                                                                                                                                                                                                                                                                                                                                                                                                                                                                                                                                                                                                                                                                                                                                                                                                                                                                                                                  |5        |9        |\n",
      "|Whispers of the Wicked Saints        |10.95|null   |missyLou  apple                   |5.0         |1130025600 |Wonderful                                                   |I really enjoyed the book. I believe the author did a good job at tackeling the subject of poor conduct in the church. I was reminded that we are all human, and even the mighty shall fall. Now I have to speak my mind regarding the poor reviews. I was shocked at the bahavior of  adults  What happened to respect for others. In my opinion I have to say those who wrote the mean reviews are nothing short of ignorent and without a doubt low class. Yes, there are minor errors in the book, but it did not change the greatness of the story for me. Who cares if a word on the back cover is missing an E? Did anyone stop to think that this book whent through a publisher most likely after it left the hands of Mrs, Haddon? I have to say, I am not one to leave reviews, but I just had too when I saw how this book was misrepresented. Not only was the author butchered, but those who liked the book as well were called illiterate. I agree with a fellow reviewer when I ask, how many of you have written a book? Obviously not many because you all have way too much time on your hands. I liked the book, and remember that those of you in glass houses should not throw stones.                                                                                                                                                                                                                                                                                                                                                                                                                                                                                                                                                                                                                                                                                                                                                                                                                                                                                                                                                                                                                                                                                                                                                                                                                                                                                                                                                                                                                                                                                                                                                                                                                                                                                                                                                                                                                                                                                                                                                                                                                                                                                                                                                                                                                                                                                                                                                                                                                                                                                                                                                                                                 |1        |3        |\n",
      "+-------------------------------------+-----+-------+----------------------------------+------------+-----------+------------------------------------------------------------+--------------------------------------------------------------------------------------------------------------------------------------------------------------------------------------------------------------------------------------------------------------------------------------------------------------------------------------------------------------------------------------------------------------------------------------------------------------------------------------------------------------------------------------------------------------------------------------------------------------------------------------------------------------------------------------------------------------------------------------------------------------------------------------------------------------------------------------------------------------------------------------------------------------------------------------------------------------------------------------------------------------------------------------------------------------------------------------------------------------------------------------------------------------------------------------------------------------------------------------------------------------------------------------------------------------------------------------------------------------------------------------------------------------------------------------------------------------------------------------------------------------------------------------------------------------------------------------------------------------------------------------------------------------------------------------------------------------------------------------------------------------------------------------------------------------------------------------------------------------------------------------------------------------------------------------------------------------------------------------------------------------------------------------------------------------------------------------------------------------------------------------------------------------------------------------------------------------------------------------------------------------------------------------------------------------------------------------------------------------------------------------------------------------------------------------------------------------------------------------------------------------------------------------------------------------------------------------------------------------------------------------------------------------------------------------------------------------------------------------------------------------------------------------------------------------------------------------------------------------------------------------------------------------------------------------------------------------------------------------------------------------------------------------------------------------------------------------------------------------------------------------------------------------------------------------------------------------------------------------------------------------------------------------------------------------------------------------------------------------------------------------------------------------------------------------------------------------------------------------------------------------------------------------------------------------------------------------------------------------------------------------------------------------------------------------------------------------------------------------------------------------------------------------------------------------+---------+---------+\n",
      "only showing top 20 rows\n",
      "\n"
     ]
    }
   ],
   "source": [
    "\n",
    "# Separate the helpfulness into two columns\n",
    "df_ratings = df_ratings.withColumn('N_helpful', split(col('review/helpfulness'), '/').getItem(\n",
    "    0)).withColumn('Tot_votes', split(col('review/helpfulness'), '/').getItem(1))\n",
    "\n",
    "# Remove review/helpfulness column from ratings data\n",
    "df_ratings = df_ratings.drop(col('review/helpfulness'))\n",
    "\n",
    "df_ratings.show(truncate=False)"
   ]
  },
  {
   "cell_type": "code",
   "execution_count": 7,
   "metadata": {},
   "outputs": [],
   "source": [
    "# # Check if a given column contains a given character\n",
    "\n",
    "# contains_A = df_ratings.filter(col(\"review/text\").contains(\"\\t\")).count() > 0\n",
    "# print(\"Does the 'name' column contain 'A'? \", contains_A)"
   ]
  },
  {
   "cell_type": "markdown",
   "metadata": {},
   "source": [
    "### Store the results in hadoop"
   ]
  },
  {
   "cell_type": "code",
   "execution_count": 8,
   "metadata": {},
   "outputs": [
    {
     "name": "stderr",
     "output_type": "stream",
     "text": [
      "                                                                                \r"
     ]
    }
   ],
   "source": [
    "df_ratings.repartition(1).write.csv(\n",
    "    'hdfs://localhost:9900/user/book_reviews/books_rating_cleaned', mode='overwrite', header=True, sep='\\t')\n",
    "\n",
    "df_data.repartition(1).write.csv(\n",
    "    'hdfs://localhost:9900/user/book_reviews/books_data_cleaned', mode='overwrite', header=True, sep='\\t')"
   ]
  },
  {
   "cell_type": "markdown",
   "metadata": {},
   "source": [
    "---\n",
    "\n",
    "## Read the new data to check soundness"
   ]
  },
  {
   "cell_type": "code",
   "execution_count": 9,
   "metadata": {},
   "outputs": [
    {
     "name": "stderr",
     "output_type": "stream",
     "text": [
      "                                                                                \r"
     ]
    }
   ],
   "source": [
    "data_df = spark_session.read.csv(\n",
    "    'hdfs://localhost:9900/user/book_reviews/books_data_cleaned', header=True, inferSchema=True, sep='\\t')\n",
    "rating_df = spark_session.read.csv(\n",
    "    'hdfs://localhost:9900/user/book_reviews/books_rating_cleaned', header=True, inferSchema=True, sep='\\t')"
   ]
  },
  {
   "cell_type": "code",
   "execution_count": 10,
   "metadata": {},
   "outputs": [
    {
     "name": "stdout",
     "output_type": "stream",
     "text": [
      "+--------------------+--------------------+-------------------+---------+-------------+--------------------+\n",
      "|               Title|         description|            authors|publisher|publishedDate|          categories|\n",
      "+--------------------+--------------------+-------------------+---------+-------------+--------------------+\n",
      "|Its Only Art If I...|                null|   ['Julie Strain']|     null|         1996|['Comics & Graphi...|\n",
      "|Dr. Seuss: Americ...|Philip Nel takes ...|     ['Philip Nel']|A&C Black|   2005-01-01|['Biography & Aut...|\n",
      "|Wonderful Worship...|This resource inc...|   ['David R. Ray']|     null|         2000|        ['Religion']|\n",
      "|Whispers of the W...|Julia Thomas find...|['Veronica Haddon']|iUniverse|      2005-02|         ['Fiction']|\n",
      "|Nation Dance: Rel...|                null|    ['Edward Long']|     null|   2003-03-01|                null|\n",
      "+--------------------+--------------------+-------------------+---------+-------------+--------------------+\n",
      "only showing top 5 rows\n",
      "\n",
      "Num values : 212404\n"
     ]
    }
   ],
   "source": [
    "data_df.show(5)\n",
    "#data_df.printSchema()\n",
    "print(\"Num values :\",data_df.count())\n",
    "#data_df.describe().show()"
   ]
  },
  {
   "cell_type": "code",
   "execution_count": 11,
   "metadata": {},
   "outputs": [
    {
     "name": "stdout",
     "output_type": "stream",
     "text": [
      "+--------------------+-----+-------+--------------------+------------+-----------+--------------------+--------------------+---------+---------+\n",
      "|               Title|Price|User_id|         profileName|review/score|review/time|      review/summary|         review/text|N_helpful|Tot_votes|\n",
      "+--------------------+-----+-------+--------------------+------------+-----------+--------------------+--------------------+---------+---------+\n",
      "|Its Only Art If I...| null|   null|Jim of Oz  jim-of-oz|         4.0|  940636800|Nice collection o...|This is only for ...|        7|        7|\n",
      "|Dr. Seuss: Americ...| null|   null|       Kevin Killian|         5.0| 1095724800|   Really Enjoyed It|I don't care much...|       10|       10|\n",
      "|Dr. Seuss: Americ...| null|   null|        John Granger|         5.0| 1078790400|Essential for eve...|If people become ...|       10|       11|\n",
      "|Dr. Seuss: Americ...| null|   null|Roy E. Perry  ama...|         4.0| 1090713600|Phlip Nel gives s...|Theodore Seuss Ge...|        7|        7|\n",
      "|Dr. Seuss: Americ...| null|   null|D. H. Richards  n...|         4.0| 1107993600|Good academic ove...|Philip Nel - Dr. ...|        3|        3|\n",
      "+--------------------+-----+-------+--------------------+------------+-----------+--------------------+--------------------+---------+---------+\n",
      "only showing top 5 rows\n",
      "\n"
     ]
    },
    {
     "name": "stderr",
     "output_type": "stream",
     "text": [
      "                                                                                \r"
     ]
    },
    {
     "name": "stdout",
     "output_type": "stream",
     "text": [
      "Num values : 3000000\n"
     ]
    },
    {
     "name": "stderr",
     "output_type": "stream",
     "text": [
      "[Stage 23:============================>                            (8 + 8) / 16]\r"
     ]
    },
    {
     "name": "stdout",
     "output_type": "stream",
     "text": [
      "+--------------------+-----+-------+--------------------+------------+-----------+--------------------+--------------------+---------+---------+\n",
      "|               Title|Price|User_id|         profileName|review/score|review/time|      review/summary|         review/text|N_helpful|Tot_votes|\n",
      "+--------------------+-----+-------+--------------------+------------+-----------+--------------------+--------------------+---------+---------+\n",
      "|17 Contemporary C...|14.99|   null|Arena Connery  Arena|         5.0| 1144972800|not just easy pia...|Yeah, this book i...|        1|        1|\n",
      "+--------------------+-----+-------+--------------------+------------+-----------+--------------------+--------------------+---------+---------+\n",
      "\n"
     ]
    },
    {
     "name": "stderr",
     "output_type": "stream",
     "text": [
      "                                                                                \r"
     ]
    }
   ],
   "source": [
    "rating_df.show(5)\n",
    "#rating_df.printSchema()\n",
    "print(\"Num values :\",rating_df.count())\n",
    "#rating_df.describe().show()\n",
    "\n",
    "rating_df.filter(rating_df['Title'].startswith('17 Contemporary Christian')).show()"
   ]
  },
  {
   "cell_type": "markdown",
   "metadata": {},
   "source": [
    "## Join the Tables with Spark"
   ]
  },
  {
   "cell_type": "code",
   "execution_count": 12,
   "metadata": {},
   "outputs": [
    {
     "name": "stderr",
     "output_type": "stream",
     "text": [
      "                                                                                \r"
     ]
    },
    {
     "data": {
      "text/plain": [
       "3000119"
      ]
     },
     "execution_count": 12,
     "metadata": {},
     "output_type": "execute_result"
    }
   ],
   "source": [
    "# join the two tables on Title\n",
    "joined_df = data_df.join(rating_df, on=['Title'], how='inner')\n",
    "\n",
    "joined_df.count()"
   ]
  },
  {
   "cell_type": "code",
   "execution_count": 13,
   "metadata": {},
   "outputs": [
    {
     "name": "stderr",
     "output_type": "stream",
     "text": [
      "[Stage 34:=====================>                                   (8 + 8) / 21]\r"
     ]
    },
    {
     "name": "stderr",
     "output_type": "stream",
     "text": [
      "[Stage 34:=====================================================>  (20 + 1) / 21]\r"
     ]
    },
    {
     "name": "stdout",
     "output_type": "stream",
     "text": [
      "+--------------------+-----------+-------+---------+-------------+----------+-----+-------+--------------------+------------+-----------+--------------------+--------------------+---------+---------+\n",
      "|               Title|description|authors|publisher|publishedDate|categories|Price|User_id|         profileName|review/score|review/time|      review/summary|         review/text|N_helpful|Tot_votes|\n",
      "+--------------------+-----------+-------+---------+-------------+----------+-----+-------+--------------------+------------+-----------+--------------------+--------------------+---------+---------+\n",
      "|$5 Dollar Menus f...|       null|   null|     null|         null|      null| null|   null|C. R Vachio  Chri...|         3.0| 1091664000|Good, but with pr...|It's a decent boo...|       20|       20|\n",
      "|'HUMBLE PIE , MY ...|       null|   null|     null|         null|      null| null|   null|J.L. Cocca  Bookw...|         5.0| 1310256000|Slightly biased r...|I admit to having...|        1|        1|\n",
      "|'HUMBLE PIE , MY ...|       null|   null|     null|         null|      null| null|   null|Candy Beauchamp  ...|         4.0| 1269820800|Who knew I'd gain...|I've watched Hell...|        1|        1|\n",
      "|'HUMBLE PIE , MY ...|       null|   null|     null|         null|      null| null|   null|     Emily D. Agunod|         5.0| 1252540800|      Raw and Honest|Ever since I disc...|        1|        1|\n",
      "|'HUMBLE PIE , MY ...|       null|   null|     null|         null|      null| null|   null|Rob Woodbridge  L...|         4.0| 1217030400|    Absolute Passion|I was floored whe...|        1|        1|\n",
      "+--------------------+-----------+-------+---------+-------------+----------+-----+-------+--------------------+------------+-----------+--------------------+--------------------+---------+---------+\n",
      "only showing top 5 rows\n",
      "\n"
     ]
    },
    {
     "name": "stderr",
     "output_type": "stream",
     "text": [
      "                                                                                \r"
     ]
    }
   ],
   "source": [
    "joined_df.show(5)"
   ]
  },
  {
   "cell_type": "code",
   "execution_count": 14,
   "metadata": {},
   "outputs": [
    {
     "name": "stderr",
     "output_type": "stream",
     "text": [
      "[Stage 39:========================>                                (9 + 8) / 21]\r"
     ]
    },
    {
     "name": "stderr",
     "output_type": "stream",
     "text": [
      "                                                                                \r"
     ]
    }
   ],
   "source": [
    "joined_df.write.csv('hdfs://localhost:9900/user/book_reviews/joined_tables_spark', mode='overwrite', header=True, sep='\\t')"
   ]
  },
  {
   "cell_type": "code",
   "execution_count": 15,
   "metadata": {},
   "outputs": [],
   "source": [
    "spark_session.stop()"
   ]
  }
 ],
 "metadata": {
  "kernelspec": {
   "display_name": "base",
   "language": "python",
   "name": "python3"
  },
  "language_info": {
   "codemirror_mode": {
    "name": "ipython",
    "version": 3
   },
   "file_extension": ".py",
   "mimetype": "text/x-python",
   "name": "python",
   "nbconvert_exporter": "python",
   "pygments_lexer": "ipython3",
   "version": "3.11.4"
  },
  "orig_nbformat": 4
 },
 "nbformat": 4,
 "nbformat_minor": 2
}
