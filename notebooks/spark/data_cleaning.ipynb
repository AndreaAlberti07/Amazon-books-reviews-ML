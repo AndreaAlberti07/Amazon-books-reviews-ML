{
 "cells": [
  {
   "cell_type": "markdown",
   "metadata": {},
   "source": [
    "## Data Cleaning with spark\n",
    "### in this notebook the useless columns will be removed\n",
    "\n",
    "### **PLEASE NOTE :**  \n",
    "### Since this script stores the results in hadoop, execute it only once, otherwise an error will be thrown\n",
    "\n",
    "---"
   ]
  },
  {
   "cell_type": "markdown",
   "metadata": {},
   "source": [
    "### Import Libraries"
   ]
  },
  {
   "cell_type": "code",
   "execution_count": 29,
   "metadata": {},
   "outputs": [],
   "source": [
    "# import libraries\n",
    "import findspark\n",
    "\n",
    "# Locate the spark installation\n",
    "findspark.init()"
   ]
  },
  {
   "cell_type": "code",
   "execution_count": 30,
   "metadata": {},
   "outputs": [],
   "source": [
    "import pandas as pd\n",
    "import pyspark as ps\n",
    "from pyspark.sql.functions import col, sum\n",
    "from pyspark.sql.types import StructType, StructField, StringType, IntegerType, FloatType\n",
    "from pyspark.sql import SparkSession\n"
   ]
  },
  {
   "cell_type": "markdown",
   "metadata": {},
   "source": [
    "### Initialize Spark"
   ]
  },
  {
   "cell_type": "code",
   "execution_count": 31,
   "metadata": {},
   "outputs": [],
   "source": [
    "# Initialize a SparkContext\n",
    "spark = SparkSession.builder.appName(\"prior_analysis\").getOrCreate()\n",
    "spark.stop()\n",
    "sc = ps.SparkContext(appName=\"prior_analysis\")\n",
    "\n",
    "# Initialize the Session\n",
    "spark_session = ps.sql.SparkSession(sc)\n"
   ]
  },
  {
   "cell_type": "markdown",
   "metadata": {},
   "source": [
    "### Connect and import data from HDFS directly into a Spark DataFrame"
   ]
  },
  {
   "cell_type": "code",
   "execution_count": 32,
   "metadata": {},
   "outputs": [],
   "source": [
    "# Define schema for better manipulation\n",
    "\n",
    "data_schema = StructType([\n",
    "    StructField(\"Title\", StringType(), True),\n",
    "    StructField(\"description\", StringType(), True),\n",
    "    StructField(\"authors\", StringType(), True),\n",
    "    StructField(\"image\", StringType(), True),\n",
    "    StructField(\"previewLink\", StringType(), True),\n",
    "    StructField(\"publisher\", StringType(), True),\n",
    "    StructField(\"publishedDate\", StringType(), True),\n",
    "    StructField(\"infoLink\", StringType(), True),\n",
    "    StructField(\"categories\", StringType(), True),\n",
    "    StructField(\"ratingsCount\", FloatType(), True)\n",
    "])\n",
    "\n",
    "ratings_schema = StructType([\n",
    "    StructField(\"Id\", IntegerType(), True),\n",
    "    StructField(\"Title\", StringType(), True),\n",
    "    StructField(\"Price\", FloatType(), True),\n",
    "    StructField(\"User_id\", IntegerType(), True),\n",
    "    StructField(\"profileName\", StringType(), True),\n",
    "    StructField(\"review/helpfulness\", StringType(), True),\n",
    "    StructField(\"review/score\", FloatType(), True),\n",
    "    StructField(\"review/time\", IntegerType(), True),\n",
    "    StructField(\"review/summary\", StringType(), True),\n",
    "    StructField(\"review/text\", StringType(), True)\n",
    "])\n",
    "\n",
    "# Load the data\n",
    "\n",
    "df_data = spark_session.read.option('escape', '\"').csv(\n",
    "    'hdfs://localhost:9900/user/book_reviews/books_data.csv', header=True, schema=data_schema)\n",
    "df_ratings = spark_session.read.option('escape', '\"').csv(\n",
    "    'hdfs://localhost:9900/user/book_reviews/books_rating.csv', header=True, schema=ratings_schema)"
   ]
  },
  {
   "cell_type": "markdown",
   "metadata": {},
   "source": [
    "### Remove useless columns"
   ]
  },
  {
   "cell_type": "code",
   "execution_count": 33,
   "metadata": {},
   "outputs": [
    {
     "name": "stdout",
     "output_type": "stream",
     "text": [
      "+--------------------+-----+-------+--------------------+------------------+------------+-----------+--------------------+--------------------+\n",
      "|               Title|Price|User_id|         profileName|review/helpfulness|review/score|review/time|      review/summary|         review/text|\n",
      "+--------------------+-----+-------+--------------------+------------------+------------+-----------+--------------------+--------------------+\n",
      "|Its Only Art If I...| null|   null|Jim of Oz \"jim-of...|               7/7|         4.0|  940636800|Nice collection o...|This is only for ...|\n",
      "|Dr. Seuss: Americ...| null|   null|       Kevin Killian|             10/10|         5.0| 1095724800|   Really Enjoyed It|I don't care much...|\n",
      "|Dr. Seuss: Americ...| null|   null|        John Granger|             10/11|         5.0| 1078790400|Essential for eve...|If people become ...|\n",
      "|Dr. Seuss: Americ...| null|   null|Roy E. Perry \"ama...|               7/7|         4.0| 1090713600|Phlip Nel gives s...|Theodore Seuss Ge...|\n",
      "|Dr. Seuss: Americ...| null|   null|D. H. Richards \"n...|               3/3|         4.0| 1107993600|Good academic ove...|Philip Nel - Dr. ...|\n",
      "+--------------------+-----+-------+--------------------+------------------+------------+-----------+--------------------+--------------------+\n",
      "only showing top 5 rows\n",
      "\n"
     ]
    },
    {
     "name": "stderr",
     "output_type": "stream",
     "text": [
      "                                                                                \r"
     ]
    }
   ],
   "source": [
    "df_ratings=df_ratings.drop(df_ratings.Id)\n",
    "df_ratings.show(5)\n",
    "df_ratings.write.csv('hdfs://localhost:9900/user/book_reviews/books_rating_clean.csv',mode='overwrite', header=True)"
   ]
  },
  {
   "cell_type": "markdown",
   "metadata": {},
   "source": [
    "### Check whether the columns has been correctly removed"
   ]
  },
  {
   "cell_type": "code",
   "execution_count": 34,
   "metadata": {},
   "outputs": [
    {
     "name": "stderr",
     "output_type": "stream",
     "text": [
      "                                                                                \r"
     ]
    },
    {
     "name": "stdout",
     "output_type": "stream",
     "text": [
      "root\n",
      " |-- Title: string (nullable = true)\n",
      " |-- Price: string (nullable = true)\n",
      " |-- User_id: string (nullable = true)\n",
      " |-- profileName: string (nullable = true)\n",
      " |-- review/helpfulness: string (nullable = true)\n",
      " |-- review/score: string (nullable = true)\n",
      " |-- review/time: string (nullable = true)\n",
      " |-- review/summary: string (nullable = true)\n",
      " |-- review/text: string (nullable = true)\n",
      "\n"
     ]
    },
    {
     "name": "stderr",
     "output_type": "stream",
     "text": [
      "[Stage 4:======================================================>  (21 + 1) / 22]\r"
     ]
    },
    {
     "name": "stdout",
     "output_type": "stream",
     "text": [
      "+-------+--------------------+--------------------+--------------------+-----------------+-------------------+--------------------+--------------------+--------------------+--------------------+\n",
      "|summary|               Title|               Price|             User_id|      profileName| review/helpfulness|        review/score|         review/time|      review/summary|         review/text|\n",
      "+-------+--------------------+--------------------+--------------------+-----------------+-------------------+--------------------+--------------------+--------------------+--------------------+\n",
      "|  count|             2999792|              482638|                1122|          2436873|            2999074|             2999696|             2999736|             2999722|             2999721|\n",
      "|   mean|   2012.796651763537|   21.76817700153379|   15.84792915531335|              NaN|4.690351793452941E8|  1657.0094941017894|1.1270489306820295E9|            Infinity|  9.95368319174848E8|\n",
      "| stddev|    1536.75335496088|  26.211846515528062|  20.587920766610576|              NaN|6.101627800230923E8|  1427614.3801452478|1.6715255226446658E8|                 NaN|4.2272221428803605E8|\n",
      "|    min|\"'In God We Trust...| (Cosy corner ser...| (Pointers for li...| (Young moderns)\"|      #1 Bestse...\"|     & Algorithms\\\"\"|           & Dut...\"| 'The Life and Mo...| & Very Complete ...|\n",
      "|    max|you can do anythi...|    it's adventurous|this has to be th...|          ~~~~~~~|                 xo|well, i had a har...|        sideshowmatt|~~~~~~~~~~~~~~~~~...|~~~~~~~~~~~~~~~~~...|\n",
      "+-------+--------------------+--------------------+--------------------+-----------------+-------------------+--------------------+--------------------+--------------------+--------------------+\n",
      "\n",
      "+--------------------+-----+-------+--------------------+------------------+------------+-----------+--------------------+--------------------+\n",
      "|               Title|Price|User_id|         profileName|review/helpfulness|review/score|review/time|      review/summary|         review/text|\n",
      "+--------------------+-----+-------+--------------------+------------------+------------+-----------+--------------------+--------------------+\n",
      "|Anna and the King...| null|   null|       \"Lou \\\"L.S\\\"\"|               3/3|         5.0| 1082678400|       A great book!|&quot;Anna and th...|\n",
      "|Anna and the King...| null|   null|                null|             14/19|         5.0|  933724800|A historically co...|I am 14 years old...|\n",
      "|Anna and the King...| null|   null|      \"\\\"novelnut\\\"\"|              9/12|         4.0| 1005436800|Fiction or not? T...|\"\\\"How old shall ...|\n",
      "|Anna and the King...| null|   null|\"Mr. Michael Roun...|              7/10|         2.0|  966384000|      A Dull Classic|Based on the 'ori...|\n",
      "|Anna and the King...| null|   null|         R. A. Kelly|               6/9|         5.0|  890092800|Richly told true ...|I found this book...|\n",
      "+--------------------+-----+-------+--------------------+------------------+------------+-----------+--------------------+--------------------+\n",
      "only showing top 5 rows\n",
      "\n"
     ]
    },
    {
     "name": "stderr",
     "output_type": "stream",
     "text": [
      "                                                                                \r"
     ]
    }
   ],
   "source": [
    "ratings_df = spark_session.read.option('escape','\"').csv('hdfs://localhost:9900/user/book_reviews/books_rating_clean.csv', header=True, inferSchema=True)\n",
    "ratings_df.printSchema()\n",
    "ratings_df.describe().show()\n",
    "ratings_df.show(5)"
   ]
  },
  {
   "cell_type": "code",
   "execution_count": 35,
   "metadata": {},
   "outputs": [],
   "source": [
    "spark_session.stop()"
   ]
  }
 ],
 "metadata": {
  "kernelspec": {
   "display_name": "base",
   "language": "python",
   "name": "python3"
  },
  "language_info": {
   "codemirror_mode": {
    "name": "ipython",
    "version": 3
   },
   "file_extension": ".py",
   "mimetype": "text/x-python",
   "name": "python",
   "nbconvert_exporter": "python",
   "pygments_lexer": "ipython3",
   "version": "3.11.4"
  },
  "orig_nbformat": 4
 },
 "nbformat": 4,
 "nbformat_minor": 2
}
