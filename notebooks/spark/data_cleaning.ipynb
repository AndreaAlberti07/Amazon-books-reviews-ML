{
 "cells": [
  {
   "cell_type": "markdown",
   "metadata": {},
   "source": [
    "## Data Cleaning with spark\n",
    "### in this notebook the useless columns will be removed\n",
    "\n",
    "### **PLEASE NOTE :**  \n",
    "### Since this script stores the results in hadoop, execute it only once, otherwise an error will be thrown\n",
    "\n",
    "---"
   ]
  },
  {
   "cell_type": "markdown",
   "metadata": {},
   "source": [
    "### Import Libraries"
   ]
  },
  {
   "cell_type": "code",
   "execution_count": 60,
   "metadata": {},
   "outputs": [],
   "source": [
    "# import libraries\n",
    "import pandas as pd\n",
    "import pyspark as ps\n",
    "from pyspark.sql.functions import col, sum\n",
    "from pyspark.sql.types import StructType, StructField, StringType, IntegerType, FloatType\n",
    "from pyspark.sql import SparkSession\n",
    "from pyspark.sql.functions import lit\n",
    "import findspark"
   ]
  },
  {
   "cell_type": "markdown",
   "metadata": {},
   "source": [
    "### Initialize Spark"
   ]
  },
  {
   "cell_type": "code",
   "execution_count": 61,
   "metadata": {},
   "outputs": [],
   "source": [
    "# Locate the spark installation\n",
    "findspark.init()\n",
    "\n",
    "# Initialize a SparkContext\n",
    "spark = SparkSession.builder.appName(\"data_cleaning\").getOrCreate()\n",
    "spark.stop()\n",
    "sc = ps.SparkContext(appName=\"data_cleaning\")\n",
    "\n",
    "# Initialize the Session\n",
    "spark_session = ps.sql.SparkSession(sc)"
   ]
  },
  {
   "cell_type": "markdown",
   "metadata": {},
   "source": [
    "### Connect and import data from HDFS directly into a Spark DataFrame"
   ]
  },
  {
   "cell_type": "code",
   "execution_count": 62,
   "metadata": {},
   "outputs": [],
   "source": [
    "# Define schema for better manipulation\n",
    "\n",
    "data_schema = StructType([\n",
    "    StructField(\"Title\", StringType(), True),\n",
    "    StructField(\"description\", StringType(), True),\n",
    "    StructField(\"authors\", StringType(), True),\n",
    "    StructField(\"image\", StringType(), True),\n",
    "    StructField(\"previewLink\", StringType(), True),\n",
    "    StructField(\"publisher\", StringType(), True),\n",
    "    StructField(\"publishedDate\", StringType(), True),\n",
    "    StructField(\"infoLink\", StringType(), True),\n",
    "    StructField(\"categories\", StringType(), True),\n",
    "    StructField(\"ratingsCount\", FloatType(), True)\n",
    "])\n",
    "\n",
    "ratings_schema = StructType([\n",
    "    StructField(\"Id\", IntegerType(), True),\n",
    "    StructField(\"Title\", StringType(), True),\n",
    "    StructField(\"Price\", FloatType(), True),\n",
    "    StructField(\"User_id\", IntegerType(), True),\n",
    "    StructField(\"profileName\", StringType(), True),\n",
    "    StructField(\"review/helpfulness\", StringType(), True),\n",
    "    StructField(\"review/score\", FloatType(), True),\n",
    "    StructField(\"review/time\", IntegerType(), True),\n",
    "    StructField(\"review/summary\", StringType(), True),\n",
    "    StructField(\"review/text\", StringType(), True)\n",
    "])\n",
    "\n",
    "# Load the data\n",
    "\n",
    "df_data = spark_session.read.option('escape', '\"').csv(\n",
    "    'hdfs://localhost:9900/user/book_reviews/books_data.csv', header=True, schema=data_schema)\n",
    "df_ratings = spark_session.read.option('escape', '\"').csv(\n",
    "    'hdfs://localhost:9900/user/book_reviews/books_rating.csv', header=True, schema=ratings_schema)"
   ]
  },
  {
   "cell_type": "markdown",
   "metadata": {},
   "source": [
    "### Remove useless columns"
   ]
  },
  {
   "cell_type": "code",
   "execution_count": 63,
   "metadata": {},
   "outputs": [
    {
     "name": "stdout",
     "output_type": "stream",
     "text": [
      "+--------------------+-----+-------+--------------------+------------------+------------+-----------+--------------------+--------------------+\n",
      "|               Title|Price|User_id|         profileName|review/helpfulness|review/score|review/time|      review/summary|         review/text|\n",
      "+--------------------+-----+-------+--------------------+------------------+------------+-----------+--------------------+--------------------+\n",
      "|Its Only Art If I...| null|   null|Jim of Oz \"jim-of...|               7/7|         4.0|  940636800|Nice collection o...|This is only for ...|\n",
      "|Dr. Seuss: Americ...| null|   null|       Kevin Killian|             10/10|         5.0| 1095724800|   Really Enjoyed It|I don't care much...|\n",
      "|Dr. Seuss: Americ...| null|   null|        John Granger|             10/11|         5.0| 1078790400|Essential for eve...|If people become ...|\n",
      "|Dr. Seuss: Americ...| null|   null|Roy E. Perry \"ama...|               7/7|         4.0| 1090713600|Phlip Nel gives s...|Theodore Seuss Ge...|\n",
      "|Dr. Seuss: Americ...| null|   null|D. H. Richards \"n...|               3/3|         4.0| 1107993600|Good academic ove...|Philip Nel - Dr. ...|\n",
      "+--------------------+-----+-------+--------------------+------------------+------------+-----------+--------------------+--------------------+\n",
      "only showing top 5 rows\n",
      "\n"
     ]
    }
   ],
   "source": [
    "df_ratings = df_ratings.drop(df_ratings.Id)\n",
    "df_ratings.show(5)"
   ]
  },
  {
   "cell_type": "markdown",
   "metadata": {},
   "source": [
    "### Add a column that contains the value *R* for the ratings table and *D* for books data table.   \n",
    "### This column will be used during the mapReduce, to distinguish the two tables "
   ]
  },
  {
   "cell_type": "code",
   "execution_count": 64,
   "metadata": {},
   "outputs": [
    {
     "name": "stdout",
     "output_type": "stream",
     "text": [
      "+--------------------+-----+-------+--------------------+------------------+------------+-----------+--------------------+--------------------+-----+\n",
      "|               Title|Price|User_id|         profileName|review/helpfulness|review/score|review/time|      review/summary|         review/text|Table|\n",
      "+--------------------+-----+-------+--------------------+------------------+------------+-----------+--------------------+--------------------+-----+\n",
      "|Its Only Art If I...| null|   null|Jim of Oz \"jim-of...|               7/7|         4.0|  940636800|Nice collection o...|This is only for ...|    R|\n",
      "|Dr. Seuss: Americ...| null|   null|       Kevin Killian|             10/10|         5.0| 1095724800|   Really Enjoyed It|I don't care much...|    R|\n",
      "|Dr. Seuss: Americ...| null|   null|        John Granger|             10/11|         5.0| 1078790400|Essential for eve...|If people become ...|    R|\n",
      "|Dr. Seuss: Americ...| null|   null|Roy E. Perry \"ama...|               7/7|         4.0| 1090713600|Phlip Nel gives s...|Theodore Seuss Ge...|    R|\n",
      "|Dr. Seuss: Americ...| null|   null|D. H. Richards \"n...|               3/3|         4.0| 1107993600|Good academic ove...|Philip Nel - Dr. ...|    R|\n",
      "+--------------------+-----+-------+--------------------+------------------+------------+-----------+--------------------+--------------------+-----+\n",
      "only showing top 5 rows\n",
      "\n",
      "+--------------------+--------------------+-------------------+--------------------+--------------------+---------+-------------+--------------------+--------------------+------------+-----+\n",
      "|               Title|         description|            authors|               image|         previewLink|publisher|publishedDate|            infoLink|          categories|ratingsCount|Table|\n",
      "+--------------------+--------------------+-------------------+--------------------+--------------------+---------+-------------+--------------------+--------------------+------------+-----+\n",
      "|Its Only Art If I...|                null|   ['Julie Strain']|http://books.goog...|http://books.goog...|     null|         1996|http://books.goog...|['Comics & Graphi...|        null|    D|\n",
      "|Dr. Seuss: Americ...|Philip Nel takes ...|     ['Philip Nel']|http://books.goog...|http://books.goog...|A&C Black|   2005-01-01|http://books.goog...|['Biography & Aut...|        null|    D|\n",
      "|Wonderful Worship...|This resource inc...|   ['David R. Ray']|http://books.goog...|http://books.goog...|     null|         2000|http://books.goog...|        ['Religion']|        null|    D|\n",
      "|Whispers of the W...|Julia Thomas find...|['Veronica Haddon']|http://books.goog...|http://books.goog...|iUniverse|      2005-02|http://books.goog...|         ['Fiction']|        null|    D|\n",
      "|Nation Dance: Rel...|                null|    ['Edward Long']|                null|http://books.goog...|     null|   2003-03-01|http://books.goog...|                null|        null|    D|\n",
      "+--------------------+--------------------+-------------------+--------------------+--------------------+---------+-------------+--------------------+--------------------+------------+-----+\n",
      "only showing top 5 rows\n",
      "\n"
     ]
    }
   ],
   "source": [
    "df_ratings = df_ratings.withColumn(\"Table\", lit(\"R\"))\n",
    "df_data = df_data.withColumn(\"Table\", lit(\"D\"))\n",
    "df_ratings.show(5)\n",
    "df_data.show(5)"
   ]
  },
  {
   "cell_type": "markdown",
   "metadata": {},
   "source": [
    "### Store the results in hadoop"
   ]
  },
  {
   "cell_type": "code",
   "execution_count": 65,
   "metadata": {},
   "outputs": [
    {
     "name": "stderr",
     "output_type": "stream",
     "text": [
      "                                                                                \r"
     ]
    }
   ],
   "source": [
    "df_ratings.repartition(1).write.option('escape', '\"').csv(\n",
    "    'hdfs://localhost:9900/user/book_reviews/books_rating.csv', mode='overwrite', header=True)\n",
    "\n",
    "df_data.repartition(1).write.option('escape', '\"').csv(\n",
    "    'hdfs://localhost:9900/user/book_reviews/books_data.csv', mode='overwrite', header=True)"
   ]
  },
  {
   "cell_type": "markdown",
   "metadata": {},
   "source": [
    "### Check whether the columns has been correctly removed"
   ]
  },
  {
   "cell_type": "code",
   "execution_count": 66,
   "metadata": {},
   "outputs": [
    {
     "name": "stderr",
     "output_type": "stream",
     "text": [
      "                                                                                \r"
     ]
    },
    {
     "name": "stdout",
     "output_type": "stream",
     "text": [
      "root\n",
      " |-- Title: string (nullable = true)\n",
      " |-- Price: double (nullable = true)\n",
      " |-- User_id: string (nullable = true)\n",
      " |-- profileName: string (nullable = true)\n",
      " |-- review/helpfulness: string (nullable = true)\n",
      " |-- review/score: double (nullable = true)\n",
      " |-- review/time: integer (nullable = true)\n",
      " |-- review/summary: string (nullable = true)\n",
      " |-- review/text: string (nullable = true)\n",
      " |-- Table: string (nullable = true)\n",
      "\n"
     ]
    },
    {
     "name": "stderr",
     "output_type": "stream",
     "text": [
      "[Stage 11:=====================================================>  (20 + 1) / 21]\r"
     ]
    },
    {
     "name": "stdout",
     "output_type": "stream",
     "text": [
      "+-------+--------------------+------------------+-------+-----------+------------------+------------------+--------------------+--------------------+--------------------+-------+\n",
      "|summary|               Title|             Price|User_id|profileName|review/helpfulness|      review/score|         review/time|      review/summary|         review/text|  Table|\n",
      "+-------+--------------------+------------------+-------+-----------+------------------+------------------+--------------------+--------------------+--------------------+-------+\n",
      "|  count|             2999792|            481171|      0|    2438097|           3000000|           3000000|             3000000|             2999962|             2999992|3000000|\n",
      "|   mean|   2012.796651763537|21.762655874938666|   null|        NaN|              null| 4.215289333333334| 1.132306772630393E9|            Infinity|             17963.0|   null|\n",
      "| stddev|  1536.7533549608793| 26.20654052137011|   null|        NaN|              null|1.2030537472333984|1.4932018752830666E8|                 NaN|   47479.34448789284|   null|\n",
      "|    min|\" Film technique,...|               1.0|   null|! \"GU2cool\"|               0/0|               1.0|                  -1|                   !|! This book is mo...|      R|\n",
      "|    max|you can do anythi...|             995.0|   null|    ~~~~~~~|          997/1090|               5.0|          1362355200|~~~~~~~~~~~~~~~~~...|~~~~~~~~~~~~~~~~~...|      R|\n",
      "+-------+--------------------+------------------+-------+-----------+------------------+------------------+--------------------+--------------------+--------------------+-------+\n",
      "\n",
      "+--------------------+-----+-------+--------------------+------------------+------------+-----------+--------------------+--------------------+-----+\n",
      "|               Title|Price|User_id|         profileName|review/helpfulness|review/score|review/time|      review/summary|         review/text|Table|\n",
      "+--------------------+-----+-------+--------------------+------------------+------------+-----------+--------------------+--------------------+-----+\n",
      "|Its Only Art If I...| null|   null|Jim of Oz \"jim-of...|               7/7|         4.0|  940636800|Nice collection o...|This is only for ...|    R|\n",
      "|Dr. Seuss: Americ...| null|   null|       Kevin Killian|             10/10|         5.0| 1095724800|   Really Enjoyed It|I don't care much...|    R|\n",
      "|Dr. Seuss: Americ...| null|   null|        John Granger|             10/11|         5.0| 1078790400|Essential for eve...|If people become ...|    R|\n",
      "|Dr. Seuss: Americ...| null|   null|Roy E. Perry \"ama...|               7/7|         4.0| 1090713600|Phlip Nel gives s...|Theodore Seuss Ge...|    R|\n",
      "|Dr. Seuss: Americ...| null|   null|D. H. Richards \"n...|               3/3|         4.0| 1107993600|Good academic ove...|Philip Nel - Dr. ...|    R|\n",
      "+--------------------+-----+-------+--------------------+------------------+------------+-----------+--------------------+--------------------+-----+\n",
      "only showing top 5 rows\n",
      "\n"
     ]
    },
    {
     "name": "stderr",
     "output_type": "stream",
     "text": [
      "                                                                                \r"
     ]
    }
   ],
   "source": [
    "ratings_df = spark_session.read.option('escape', '\"').csv(\n",
    "    'hdfs://localhost:9900/user/book_reviews/books_rating.csv', header=True, inferSchema=True)\n",
    "ratings_df.printSchema()\n",
    "ratings_df.describe().show()\n",
    "ratings_df.show(5)"
   ]
  },
  {
   "cell_type": "code",
   "execution_count": 67,
   "metadata": {},
   "outputs": [
    {
     "name": "stdout",
     "output_type": "stream",
     "text": [
      "root\n",
      " |-- Title: string (nullable = true)\n",
      " |-- description: string (nullable = true)\n",
      " |-- authors: string (nullable = true)\n",
      " |-- image: string (nullable = true)\n",
      " |-- previewLink: string (nullable = true)\n",
      " |-- publisher: string (nullable = true)\n",
      " |-- publishedDate: string (nullable = true)\n",
      " |-- infoLink: string (nullable = true)\n",
      " |-- categories: string (nullable = true)\n",
      " |-- ratingsCount: double (nullable = true)\n",
      " |-- Table: string (nullable = true)\n",
      "\n"
     ]
    },
    {
     "name": "stderr",
     "output_type": "stream",
     "text": [
      "[Stage 17:=============================>                            (4 + 4) / 8]\r"
     ]
    },
    {
     "name": "stdout",
     "output_type": "stream",
     "text": [
      "+-------+--------------------+--------------------+--------------------+--------------------+--------------------+--------------------+------------------+--------------------+--------------------+------------------+------+\n",
      "|summary|               Title|         description|             authors|               image|         previewLink|           publisher|     publishedDate|            infoLink|          categories|      ratingsCount| Table|\n",
      "+-------+--------------------+--------------------+--------------------+--------------------+--------------------+--------------------+------------------+--------------------+--------------------+------------------+------+\n",
      "|  count|              212403|              143962|              180991|              160329|              188568|              136518|            187099|              188568|              171205|             49752|212404|\n",
      "|   mean|   3823.672941176471|  1.4285714285714286|                null|                null|                null|             51495.0|1983.8165452207459|                null|                null| 21.25297475478373|  null|\n",
      "| stddev|  10717.999589636447|  0.9759000729485332|                null|                null|                null|                null| 32.53827334249165|                null|                null|201.34043063142786|  null|\n",
      "|    min|\" Film technique,...|!! ALL NEW CAMPGR...|[\"'Abd al-Samih A...|http://books.goog...|http://books.goog...|\"O'Reilly Media, ...|         101-01-01|http://books.goog...|[\"'Abd al-Bah̄a, ...|               1.0|     D|\n",
      "|    max|you can do anythi...|�Una novela llam�...|        ['편집부편']|http://books.goog...|http://books.goog...|                펜립|              20??|https://play.goog...|         ['Śaivism']|            4895.0|     D|\n",
      "+-------+--------------------+--------------------+--------------------+--------------------+--------------------+--------------------+------------------+--------------------+--------------------+------------------+------+\n",
      "\n",
      "+--------------------+--------------------+-------------------+--------------------+--------------------+---------+-------------+--------------------+--------------------+------------+-----+\n",
      "|               Title|         description|            authors|               image|         previewLink|publisher|publishedDate|            infoLink|          categories|ratingsCount|Table|\n",
      "+--------------------+--------------------+-------------------+--------------------+--------------------+---------+-------------+--------------------+--------------------+------------+-----+\n",
      "|Its Only Art If I...|                null|   ['Julie Strain']|http://books.goog...|http://books.goog...|     null|         1996|http://books.goog...|['Comics & Graphi...|        null|    D|\n",
      "|Dr. Seuss: Americ...|Philip Nel takes ...|     ['Philip Nel']|http://books.goog...|http://books.goog...|A&C Black|   2005-01-01|http://books.goog...|['Biography & Aut...|        null|    D|\n",
      "|Wonderful Worship...|This resource inc...|   ['David R. Ray']|http://books.goog...|http://books.goog...|     null|         2000|http://books.goog...|        ['Religion']|        null|    D|\n",
      "|Whispers of the W...|Julia Thomas find...|['Veronica Haddon']|http://books.goog...|http://books.goog...|iUniverse|      2005-02|http://books.goog...|         ['Fiction']|        null|    D|\n",
      "|Nation Dance: Rel...|                null|    ['Edward Long']|                null|http://books.goog...|     null|   2003-03-01|http://books.goog...|                null|        null|    D|\n",
      "+--------------------+--------------------+-------------------+--------------------+--------------------+---------+-------------+--------------------+--------------------+------------+-----+\n",
      "only showing top 5 rows\n",
      "\n"
     ]
    },
    {
     "name": "stderr",
     "output_type": "stream",
     "text": [
      "                                                                                \r"
     ]
    }
   ],
   "source": [
    "data_df = spark_session.read.option('escape', '\"').csv(\n",
    "    'hdfs://localhost:9900/user/book_reviews/books_data.csv', header=True, inferSchema=True)\n",
    "data_df.printSchema()\n",
    "data_df.describe().show()\n",
    "data_df.show(5)\n"
   ]
  },
  {
   "cell_type": "code",
   "execution_count": 68,
   "metadata": {},
   "outputs": [],
   "source": [
    "spark_session.stop()"
   ]
  }
 ],
 "metadata": {
  "kernelspec": {
   "display_name": "base",
   "language": "python",
   "name": "python3"
  },
  "language_info": {
   "codemirror_mode": {
    "name": "ipython",
    "version": 3
   },
   "file_extension": ".py",
   "mimetype": "text/x-python",
   "name": "python",
   "nbconvert_exporter": "python",
   "pygments_lexer": "ipython3",
   "version": "3.11.4"
  },
  "orig_nbformat": 4
 },
 "nbformat": 4,
 "nbformat_minor": 2
}
