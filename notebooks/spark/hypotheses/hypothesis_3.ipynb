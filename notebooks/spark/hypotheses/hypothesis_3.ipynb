{
 "cells": [
  {
   "cell_type": "markdown",
   "metadata": {},
   "source": [
    "## Testing hypothesis 3 in a Big Data context using PySpark\n",
    "---\n",
    "\n",
    "**_Hypothesis_**: Reviews with higher book rating have higher helpfulness ratings.\n",
    "\n",
    "   - **Metric**: Correlation between helpfulness_score book ratings.\n",
    "\n",
    "**Missing Values**:\n",
    "\n",
    "  - `review/score`: remove the entire sample\n",
    "  - `Tot_votes`: remove the entire sample\n",
    "\n",
    "**Data Transformation**:\n",
    "  - `review/score`: groupBy book ratings and calculate the average score.\n",
    "  - `review/helpfulness`: $helpfulness = \\frac{x}{y} \\sqrt(y)$\n",
    "\n",
    "---"
   ]
  },
  {
   "cell_type": "code",
   "execution_count": null,
   "metadata": {},
   "outputs": [],
   "source": [
    "# Initialize spark\n",
    "import findspark\n",
    "findspark.init()\n",
    "\n",
    "from pyspark.sql import SparkSession\n",
    "spark = SparkSession.builder.appName(\"hypothesis_3\").getOrCreate()"
   ]
  },
  {
   "cell_type": "code",
   "execution_count": null,
   "metadata": {},
   "outputs": [],
   "source": [
    "# Import libraries\n",
    "from pyspark.sql.functions import *\n",
    "from pyspark.sql.types import StructType, StructField, StringType, IntegerType, FloatType\n",
    "from pyspark.ml.stat import Correlation\n",
    "from pyspark.ml.feature import VectorAssembler\n",
    "import matplotlib.pyplot as plt\n"
   ]
  },
  {
   "cell_type": "code",
   "execution_count": null,
   "metadata": {},
   "outputs": [],
   "source": [
    "# Define the schema\n",
    "ratings_schema = StructType([\n",
    "    StructField(\"Title\", StringType(), True),\n",
    "    StructField(\"Price\", FloatType(), True),\n",
    "    StructField(\"User_id\", IntegerType(), True),\n",
    "    StructField(\"profileName\", StringType(), True),\n",
    "    StructField(\"review/score\", FloatType(), True),\n",
    "    StructField(\"review/time\", IntegerType(), True),\n",
    "    StructField(\"review/summary\", StringType(), True),\n",
    "    StructField(\"review/text\", StringType(), True),\n",
    "    StructField(\"N_helpful\", IntegerType(), True),\n",
    "    StructField(\"Tot_votes\", IntegerType(), True)\n",
    "])\n",
    "\n",
    "# Load the data\n",
    "df_ratings = spark.read.csv('hdfs://localhost:9900/user/book_reviews/books_rating_cleaned.csv', header=True, schema=ratings_schema, sep='\\t')\n",
    "df_ratings.show(5)"
   ]
  },
  {
   "cell_type": "code",
   "execution_count": null,
   "metadata": {},
   "outputs": [],
   "source": [
    "# Filter out the data\n",
    "df_ratings_filtered = df_ratings.filter(df_ratings['review/score'].isNotNull())\n",
    "df_ratings_filtered = df_ratings_filtered.filter(df_ratings_filtered['Tot_votes'] > 20)\n",
    "\n",
    "# Add the helpfulness ratio column\n",
    "df_ratings_filtered = df_ratings_filtered.withColumn('helpfulness_ratio', df_ratings_filtered['N_helpful']/df_ratings_filtered['Tot_votes']*sqrt(df_ratings_filtered['Tot_votes']))\n",
    "\n",
    "# Retain only the required columns\n",
    "df_ratings_selected = df_ratings_filtered.select('review/score', 'helpfulness_ratio')\n",
    "\n",
    "# Compute the spearman correlation (it requires Mlib to work with DataFrame API)\n",
    "vector_col = VectorAssembler(inputCols=df_ratings_selected.columns, outputCol='features')\n",
    "dataset = vector_col.transform(df_ratings_selected).select('features')\n",
    "corr = Correlation.corr(dataset, 'features', method='spearman').collect()[0][0].toArray()[0][1]\n",
    "print(f'The Spearman correlation coefficient is {round(corr,2)}')"
   ]
  },
  {
   "cell_type": "code",
   "execution_count": null,
   "metadata": {},
   "outputs": [],
   "source": [
    "# Plot the results\n",
    "df_grouped = df_ratings_selected.groupBy('review/score').agg(avg('helpfulness_ratio'))\n",
    "df_grouped = df_grouped.sort('review/score')\n",
    "#df_grouped.plot.bar(x='review/score', y='avg(helpfulness_ratio)', rot=0, title='Average helpfulness ratio per score')\n",
    "\n",
    "df_pandas = df_grouped.toPandas()\n",
    "plt.figure(figsize=(10,5))\n",
    "df_pandas.plot.bar(x='review/score', y='avg(helpfulness_ratio)', rot=0, title='Average helpfulness ratio per score', legend = False)\n"
   ]
  }
 ],
 "metadata": {
  "kernelspec": {
   "display_name": "base",
   "language": "python",
   "name": "python3"
  },
  "language_info": {
   "codemirror_mode": {
    "name": "ipython",
    "version": 3
   },
   "file_extension": ".py",
   "mimetype": "text/x-python",
   "name": "python",
   "nbconvert_exporter": "python",
   "pygments_lexer": "ipython3",
   "version": "3.9.13"
  },
  "orig_nbformat": 4
 },
 "nbformat": 4,
 "nbformat_minor": 2
}
