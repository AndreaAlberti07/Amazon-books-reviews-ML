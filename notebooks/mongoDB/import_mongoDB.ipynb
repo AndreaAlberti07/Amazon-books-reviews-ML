{
 "cells": [
  {
   "cell_type": "markdown",
   "metadata": {},
   "source": [
    "## Import data from HDFS to MongoDB\n",
    "---\n",
    "\n",
    "### Steps:\n",
    "- Prepare the MongoDB database and collection\n",
    "\n",
    "```bash\n",
    "# Use mongo shell to create a database (spark_db) and a collection (books)\n",
    "mongosh\n",
    "use spark_db\n",
    "db.createCollection('books')\n",
    "```\n",
    "\n",
    "- Connect to MongoDB using `pymongo`\n",
    "- Connect to HDFS and read the data using `spark.read.csv`\n",
    "- Select a subset of the Spark DataFrame to import using `sample` method\n",
    "- Transform the data into a dictionary using `to_dict` method\n",
    "- Insert the data into MongoDB using `insert_many` method"
   ]
  },
  {
   "cell_type": "code",
   "execution_count": 1,
   "metadata": {},
   "outputs": [],
   "source": [
    "# Connect to MongoDB\n",
    "\n",
    "import pymongo\n",
    "\n",
    "client = pymongo.MongoClient('mongodb://localhost:27017/')\n",
    "database = client['spark_db']\n",
    "books = database['books_hypothesis_7']"
   ]
  },
  {
   "cell_type": "code",
   "execution_count": 2,
   "metadata": {},
   "outputs": [
    {
     "name": "stderr",
     "output_type": "stream",
     "text": [
      "Setting default log level to \"WARN\".\n",
      "To adjust logging level use sc.setLogLevel(newLevel). For SparkR, use setLogLevel(newLevel).\n",
      "23/09/08 12:12:58 WARN NativeCodeLoader: Unable to load native-hadoop library for your platform... using builtin-java classes where applicable\n",
      "23/09/08 12:12:58 WARN Utils: Service 'SparkUI' could not bind on port 4040. Attempting port 4041.\n",
      "23/09/08 12:12:58 WARN Utils: Service 'SparkUI' could not bind on port 4041. Attempting port 4042.\n",
      "23/09/08 12:12:59 WARN Utils: Service 'SparkUI' could not bind on port 4040. Attempting port 4041.\n",
      "23/09/08 12:12:59 WARN Utils: Service 'SparkUI' could not bind on port 4041. Attempting port 4042.\n"
     ]
    }
   ],
   "source": [
    "# Connect to HDFS\n",
    "\n",
    "import findspark\n",
    "findspark.init()\n",
    "import pyspark\n",
    "\n",
    "# Initialize Spark Context\n",
    "spark = pyspark.sql.SparkSession.builder.appName(\"hypotheses_testing\").getOrCreate()\n",
    "spark.stop()\n",
    "\n",
    "hypothesis_number = 7\n",
    "sc = pyspark.SparkContext(appName=\"hypothesis_\"+str(hypothesis_number))\n",
    "\n",
    "# Create the Spark Session\n",
    "spark_session = pyspark.sql.SparkSession(sc)\n",
    "\n",
    "# Load the data\n",
    "df_joined = spark_session.read.csv(\"hdfs://localhost:9900/user/book_reviews/joined_tables_v2.csv\", header=True, inferSchema=True, sep='\\t')"
   ]
  },
  {
   "cell_type": "code",
   "execution_count": 3,
   "metadata": {},
   "outputs": [
    {
     "ename": "IllegalArgumentException",
     "evalue": "requirement failed: Sampling fraction (105.318588730911) must be on interval [0, 1] without replacement",
     "output_type": "error",
     "traceback": [
      "\u001b[0;31m---------------------------------------------------------------------------\u001b[0m",
      "\u001b[0;31mIllegalArgumentException\u001b[0m                  Traceback (most recent call last)",
      "Cell \u001b[0;32mIn[3], line 3\u001b[0m\n\u001b[1;32m      1\u001b[0m \u001b[39m# Select a random subset of the big data to import\u001b[39;00m\n\u001b[1;32m      2\u001b[0m N_to_sample \u001b[39m=\u001b[39m \u001b[39m200000\u001b[39m\n\u001b[0;32m----> 3\u001b[0m df_sample \u001b[39m=\u001b[39m df_joined\u001b[39m.\u001b[39;49msample(withReplacement \u001b[39m=\u001b[39;49m \u001b[39mFalse\u001b[39;49;00m, fraction \u001b[39m=\u001b[39;49m N_to_sample\u001b[39m/\u001b[39;49mdf_joined\u001b[39m.\u001b[39;49mcount(), seed \u001b[39m=\u001b[39;49m \u001b[39m42\u001b[39;49m)\n\u001b[1;32m      5\u001b[0m \u001b[39m# Convert to a dictionary\u001b[39;00m\n\u001b[1;32m      6\u001b[0m df_sample_dict \u001b[39m=\u001b[39m df_sample\u001b[39m.\u001b[39mtoPandas()\u001b[39m.\u001b[39mto_dict(orient\u001b[39m=\u001b[39m\u001b[39m'\u001b[39m\u001b[39mrecords\u001b[39m\u001b[39m'\u001b[39m)\n",
      "File \u001b[0;32m/opt/homebrew/Cellar/apache-spark/3.4.1/libexec/python/pyspark/sql/dataframe.py:1878\u001b[0m, in \u001b[0;36mDataFrame.sample\u001b[0;34m(self, withReplacement, fraction, seed)\u001b[0m\n\u001b[1;32m   1876\u001b[0m seed \u001b[39m=\u001b[39m \u001b[39mint\u001b[39m(seed) \u001b[39mif\u001b[39;00m seed \u001b[39mis\u001b[39;00m \u001b[39mnot\u001b[39;00m \u001b[39mNone\u001b[39;00m \u001b[39melse\u001b[39;00m \u001b[39mNone\u001b[39;00m\n\u001b[1;32m   1877\u001b[0m args \u001b[39m=\u001b[39m [arg \u001b[39mfor\u001b[39;00m arg \u001b[39min\u001b[39;00m [withReplacement, fraction, seed] \u001b[39mif\u001b[39;00m arg \u001b[39mis\u001b[39;00m \u001b[39mnot\u001b[39;00m \u001b[39mNone\u001b[39;00m]\n\u001b[0;32m-> 1878\u001b[0m jdf \u001b[39m=\u001b[39m \u001b[39mself\u001b[39;49m\u001b[39m.\u001b[39;49m_jdf\u001b[39m.\u001b[39;49msample(\u001b[39m*\u001b[39;49margs)\n\u001b[1;32m   1879\u001b[0m \u001b[39mreturn\u001b[39;00m DataFrame(jdf, \u001b[39mself\u001b[39m\u001b[39m.\u001b[39msparkSession)\n",
      "File \u001b[0;32m/opt/homebrew/Cellar/apache-spark/3.4.1/libexec/python/lib/py4j-0.10.9.7-src.zip/py4j/java_gateway.py:1322\u001b[0m, in \u001b[0;36mJavaMember.__call__\u001b[0;34m(self, *args)\u001b[0m\n\u001b[1;32m   1316\u001b[0m command \u001b[39m=\u001b[39m proto\u001b[39m.\u001b[39mCALL_COMMAND_NAME \u001b[39m+\u001b[39m\\\n\u001b[1;32m   1317\u001b[0m     \u001b[39mself\u001b[39m\u001b[39m.\u001b[39mcommand_header \u001b[39m+\u001b[39m\\\n\u001b[1;32m   1318\u001b[0m     args_command \u001b[39m+\u001b[39m\\\n\u001b[1;32m   1319\u001b[0m     proto\u001b[39m.\u001b[39mEND_COMMAND_PART\n\u001b[1;32m   1321\u001b[0m answer \u001b[39m=\u001b[39m \u001b[39mself\u001b[39m\u001b[39m.\u001b[39mgateway_client\u001b[39m.\u001b[39msend_command(command)\n\u001b[0;32m-> 1322\u001b[0m return_value \u001b[39m=\u001b[39m get_return_value(\n\u001b[1;32m   1323\u001b[0m     answer, \u001b[39mself\u001b[39;49m\u001b[39m.\u001b[39;49mgateway_client, \u001b[39mself\u001b[39;49m\u001b[39m.\u001b[39;49mtarget_id, \u001b[39mself\u001b[39;49m\u001b[39m.\u001b[39;49mname)\n\u001b[1;32m   1325\u001b[0m \u001b[39mfor\u001b[39;00m temp_arg \u001b[39min\u001b[39;00m temp_args:\n\u001b[1;32m   1326\u001b[0m     \u001b[39mif\u001b[39;00m \u001b[39mhasattr\u001b[39m(temp_arg, \u001b[39m\"\u001b[39m\u001b[39m_detach\u001b[39m\u001b[39m\"\u001b[39m):\n",
      "File \u001b[0;32m/opt/homebrew/Cellar/apache-spark/3.4.1/libexec/python/pyspark/errors/exceptions/captured.py:175\u001b[0m, in \u001b[0;36mcapture_sql_exception.<locals>.deco\u001b[0;34m(*a, **kw)\u001b[0m\n\u001b[1;32m    171\u001b[0m converted \u001b[39m=\u001b[39m convert_exception(e\u001b[39m.\u001b[39mjava_exception)\n\u001b[1;32m    172\u001b[0m \u001b[39mif\u001b[39;00m \u001b[39mnot\u001b[39;00m \u001b[39misinstance\u001b[39m(converted, UnknownException):\n\u001b[1;32m    173\u001b[0m     \u001b[39m# Hide where the exception came from that shows a non-Pythonic\u001b[39;00m\n\u001b[1;32m    174\u001b[0m     \u001b[39m# JVM exception message.\u001b[39;00m\n\u001b[0;32m--> 175\u001b[0m     \u001b[39mraise\u001b[39;00m converted \u001b[39mfrom\u001b[39;00m \u001b[39mNone\u001b[39m\n\u001b[1;32m    176\u001b[0m \u001b[39melse\u001b[39;00m:\n\u001b[1;32m    177\u001b[0m     \u001b[39mraise\u001b[39;00m\n",
      "\u001b[0;31mIllegalArgumentException\u001b[0m: requirement failed: Sampling fraction (105.318588730911) must be on interval [0, 1] without replacement"
     ]
    }
   ],
   "source": [
    "# Select a random subset of the big data to import\n",
    "N_to_sample = 200000\n",
    "df_sample = df_joined.sample(withReplacement = False, fraction = N_to_sample/df_joined.count(), seed = 42)\n",
    "\n",
    "# Convert to a dictionary\n",
    "df_sample_dict = df_sample.toPandas().to_dict(orient='records')\n",
    "\n",
    "# Insert into MongoDB\n",
    "books.insert_many(df_sample_dict)"
   ]
  }
 ],
 "metadata": {
  "kernelspec": {
   "display_name": "base",
   "language": "python",
   "name": "python3"
  },
  "language_info": {
   "codemirror_mode": {
    "name": "ipython",
    "version": 3
   },
   "file_extension": ".py",
   "mimetype": "text/x-python",
   "name": "python",
   "nbconvert_exporter": "python",
   "pygments_lexer": "ipython3",
   "version": "3.9.13"
  },
  "orig_nbformat": 4
 },
 "nbformat": 4,
 "nbformat_minor": 2
}
