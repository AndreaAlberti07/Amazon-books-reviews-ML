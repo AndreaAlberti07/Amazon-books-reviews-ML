{
 "cells": [
  {
   "cell_type": "markdown",
   "metadata": {},
   "source": [
    "## Import data from HDFS to MongoDB\n",
    "---\n",
    "\n",
    "### Steps:\n",
    "- Prepare the MongoDB database and collection\n",
    "\n",
    "```bash\n",
    "# Use mongo shell to create a database (spark_db) and a collection (books)\n",
    "mongosh\n",
    "use spark_db\n",
    "db.createCollection('books')\n",
    "```\n",
    "\n",
    "- Connect to MongoDB using `pymongo`\n",
    "- Select a subset of the Spark DataFrame to import using `sample` method\n",
    "- Transform the data into a dictionary using `to_dict` method\n",
    "- Insert the data into MongoDB using `insert_many` method"
   ]
  },
  {
   "cell_type": "code",
   "execution_count": null,
   "metadata": {},
   "outputs": [],
   "source": [
    "import pymongo\n",
    "\n",
    "# Connect to MongoDB\n",
    "client = pymongo.MongoClient('mongodb://localhost:27017/')\n",
    "database = client['spark_db']\n",
    "books = database['books']\n",
    "\n",
    "# Select a random subset of the big data to import\n",
    "N_to_sample = 200000\n",
    "df_sample = df_joined.sample(withReplacement = False, fraction = N_to_sample/df_joined.count(), seed = 42)\n",
    "\n",
    "# Convert to a dictionary\n",
    "df_sample_dict = df_sample.toPandas().to_dict(orient='records')\n",
    "\n",
    "# Insert into MongoDB\n",
    "books.insert_many(df_sample_dict)"
   ]
  }
 ],
 "metadata": {
  "language_info": {
   "name": "python"
  },
  "orig_nbformat": 4
 },
 "nbformat": 4,
 "nbformat_minor": 2
}
