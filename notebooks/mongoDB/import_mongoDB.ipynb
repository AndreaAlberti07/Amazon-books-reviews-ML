{
 "cells": [
  {
   "cell_type": "markdown",
   "metadata": {},
   "source": [
    "## Import data from HDFS to MongoDB\n",
    "---\n",
    "\n",
    "### Steps:\n",
    "- Prepare the MongoDB database and collection\n",
    "\n",
    "```bash\n",
    "# Use mongo shell to create a database (spark_db) and a collection (books)\n",
    "mongosh\n",
    "use spark_db\n",
    "db.createCollection('books')\n",
    "```\n",
    "\n",
    "- Connect to MongoDB using `pymongo`\n",
    "- Connect to HDFS and read the data using `spark.read.csv`\n",
    "- Select a subset of the Spark DataFrame to import using `sample` method\n",
    "- Transform the data into a dictionary using `to_dict` method\n",
    "- Insert the data into MongoDB using `insert_many` method"
   ]
  },
  {
   "cell_type": "code",
   "execution_count": 7,
   "metadata": {},
   "outputs": [],
   "source": [
    "# Connect to MongoDB\n",
    "\n",
    "import pymongo\n",
    "\n",
    "client = pymongo.MongoClient('mongodb://localhost:27017/')\n",
    "database = client['spark_db']\n",
    "books = database['books_rating']"
   ]
  },
  {
   "cell_type": "code",
   "execution_count": 8,
   "metadata": {},
   "outputs": [
    {
     "name": "stderr",
     "output_type": "stream",
     "text": [
      "23/09/10 11:06:34 WARN SparkSession: Using an existing Spark session; only runtime SQL configurations will take effect.\n"
     ]
    }
   ],
   "source": [
    "# Connect to HDFS\n",
    "\n",
    "import findspark\n",
    "findspark.init()\n",
    "import pyspark\n",
    "from pyspark.sql.types import StructType, StructField, StringType, IntegerType, FloatType\n",
    "\n",
    "# Initialize Spark Context\n",
    "spark = pyspark.sql.SparkSession.builder.appName(\"hypotheses_testing\").getOrCreate()\n",
    "spark.stop()\n",
    "\n",
    "hypothesis_number = 'books_rating'\n",
    "sc = pyspark.SparkContext(appName=hypothesis_number)\n",
    "\n",
    "# Create the Spark Session\n",
    "spark_session = pyspark.sql.SparkSession(sc)\n",
    "\n",
    "# Define the schema\n",
    "ratings_schema = StructType([\n",
    "    StructField(\"Title\", StringType(), True),\n",
    "    StructField(\"Price\", FloatType(), True),\n",
    "    StructField(\"User_id\", IntegerType(), True),\n",
    "    StructField(\"profileName\", StringType(), True),\n",
    "    StructField(\"review/score\", FloatType(), True),\n",
    "    StructField(\"review/time\", IntegerType(), True),\n",
    "    StructField(\"review/summary\", StringType(), True),\n",
    "    StructField(\"review/text\", StringType(), True),\n",
    "    StructField(\"N_helpful\", IntegerType(), True),\n",
    "    StructField(\"Tot_votes\", IntegerType(), True)\n",
    "])\n",
    "\n",
    "# Load the data\n",
    "df_joined = spark_session.read.csv(\"hdfs://localhost:9900/user/book_reviews/books_rating_cleaned.csv\", header=True, schema=ratings_schema, sep='\\t')"
   ]
  },
  {
   "cell_type": "code",
   "execution_count": 9,
   "metadata": {},
   "outputs": [
    {
     "name": "stderr",
     "output_type": "stream",
     "text": [
      "                                                                                \r"
     ]
    },
    {
     "data": {
      "text/plain": [
       "<pymongo.results.InsertManyResult at 0x12cbb3670>"
      ]
     },
     "execution_count": 9,
     "metadata": {},
     "output_type": "execute_result"
    }
   ],
   "source": [
    "# Select a random subset of the big data to import\n",
    "N_to_sample = 500000\n",
    "df_sample = df_joined.sample(withReplacement = False, fraction = N_to_sample/df_joined.count(), seed = 42)\n",
    "\n",
    "# Convert to a dictionary\n",
    "df_sample_dict = df_sample.toPandas().to_dict(orient='records')\n",
    "\n",
    "# Insert into MongoDB\n",
    "books.insert_many(df_sample_dict)"
   ]
  }
 ],
 "metadata": {
  "kernelspec": {
   "display_name": "base",
   "language": "python",
   "name": "python3"
  },
  "language_info": {
   "codemirror_mode": {
    "name": "ipython",
    "version": 3
   },
   "file_extension": ".py",
   "mimetype": "text/x-python",
   "name": "python",
   "nbconvert_exporter": "python",
   "pygments_lexer": "ipython3",
   "version": "3.9.13"
  },
  "orig_nbformat": 4
 },
 "nbformat": 4,
 "nbformat_minor": 2
}
