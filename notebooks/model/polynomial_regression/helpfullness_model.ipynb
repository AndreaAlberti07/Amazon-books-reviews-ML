{
 "cells": [
  {
   "cell_type": "code",
   "execution_count": 6,
   "metadata": {},
   "outputs": [],
   "source": [
    "import numpy as np\n",
    "import numpy as np\n",
    "from sklearn.model_selection import GridSearchCV\n",
    "from sklearn.svm import SVR\n",
    "from sklearn.metrics import mean_squared_error,r2_score"
   ]
  },
  {
   "cell_type": "code",
   "execution_count": 7,
   "metadata": {},
   "outputs": [],
   "source": [
    "# Load the training and test data\n",
    "train_data = np.load(\n",
    "    '../_gitignore/train_data_wv2_30_5.npz', allow_pickle=True)\n",
    "test_data = np.load(\n",
    "    '../_gitignore/test_data_w2v_30_5.npz', allow_pickle=True)\n",
    "X_train_embedding = train_data['x']\n",
    "Y_train = train_data['y']\n",
    "X_test_embedding = test_data['x']\n",
    "Y_test = test_data['y']"
   ]
  },
  {
   "cell_type": "code",
   "execution_count": 9,
   "metadata": {},
   "outputs": [
    {
     "name": "stdout",
     "output_type": "stream",
     "text": [
      "Best kernel:  rbf Best C:  0.1\n",
      "Test MSE:  0.027874512640404445\n",
      "Test R2:  0.1954682824711782\n"
     ]
    }
   ],
   "source": [
    "param_grid = {\n",
    "    'kernel': ['rbf', 'linear', 'poly']\n",
    "}\n",
    "\n",
    "svr_model = SVR()\n",
    "\n",
    "grid_search = GridSearchCV(estimator=svr_model, param_grid=param_grid, cv=2, n_jobs=-1)\n",
    "grid_search.fit(X_train_embedding, Y_train)\n",
    "best_kernel = grid_search.best_params_['kernel']\n",
    "\n",
    "param_grid_2 = {\n",
    "    'kernel': [best_kernel],\n",
    "    'C': [0.001, 0.1, 1]\n",
    "}\n",
    "\n",
    "grid_search_2 = GridSearchCV(estimator=svr_model, param_grid=param_grid_2, cv=2, n_jobs=-1)\n",
    "grid_search_2.fit(X_train_embedding, Y_train)\n",
    "best_svr_model = grid_search_2.best_estimator_\n",
    "best_C = grid_search_2.best_params_['C']\n",
    "\n",
    "# Make predictions using the best model\n",
    "Y_pred = best_svr_model.predict(X_test_embedding)\n",
    "\n",
    "print(\"Best kernel: \", best_kernel, \"Best C: \", best_C)\n",
    "print(\"Test MSE: \", mean_squared_error(Y_test, Y_pred))\n",
    "print(\"Test R2: \", r2_score(Y_test, Y_pred))\n"
   ]
  },
  {
   "cell_type": "code",
   "execution_count": 10,
   "metadata": {},
   "outputs": [
    {
     "data": {
      "text/plain": [
       "['../trained/svr_rbf_c01.gz']"
      ]
     },
     "execution_count": 10,
     "metadata": {},
     "output_type": "execute_result"
    }
   ],
   "source": [
    "import joblib\n",
    "\n",
    "joblib.dump(best_svr_model,\n",
    "            f'../trained/svr_rbf_c01.gz', compress=('gzip', 3))"
   ]
  }
 ],
 "metadata": {
  "kernelspec": {
   "display_name": "base",
   "language": "python",
   "name": "python3"
  },
  "language_info": {
   "codemirror_mode": {
    "name": "ipython",
    "version": 3
   },
   "file_extension": ".py",
   "mimetype": "text/x-python",
   "name": "python",
   "nbconvert_exporter": "python",
   "pygments_lexer": "ipython3",
   "version": "3.11.4"
  },
  "orig_nbformat": 4
 },
 "nbformat": 4,
 "nbformat_minor": 2
}
